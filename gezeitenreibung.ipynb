{
 "cells": [
  {
   "cell_type": "markdown",
   "metadata": {},
   "source": [
    "<p style=\"font-size:25px; text-align:center\">\n",
    "Computational Physics / Numerische Verfahren in der Physik\n",
    "<br>\n",
    "<br>\n",
    "SoSe 2023\n",
    "</p>\n",
    "<br>\n",
    "<p style=\"font-size:15px; text-align:center\">\n",
    "Lorenz von Smekal, Ralf-Arno Tripolt, Robin Kehr, Johannes Roth, Leon Sieke\n",
    "<br>Justus-Liebig-Universität Gießen\n",
    "</p>\n",
    "<br>\n",
    "<p style=\"font-size:30px; color: #3776ab; text-align:center\"><b>\n",
    "Projekt 3: Gezeitenreibung\n",
    "<b></p>"
   ]
  },
  {
   "cell_type": "markdown",
   "metadata": {},
   "source": [
    "## Beschreibung\n",
    "- Bewegungsgleichungen\n",
    "- Numerische Lösung von Anfangswertproblemen\n",
    "- Animationen"
   ]
  },
  {
   "cell_type": "markdown",
   "metadata": {},
   "source": [
    "### Einführung \n",
    "\n",
    "In diesem Projekt soll die Gezeitenreibung zwischen Erde und Mond studiert werden. In der folgenden Abbildung ist die Ausprägung zweier Flutberge (der Zenitflutberg ist dem Mond zugewandt, der Nadirflutberg ist dem Mond abgewandt)  skizziert. Diese entstehen durch die Anziehungskraft des Mondes und die Zentrifugalkraft, welche durch die Rotation der Erde um den Schwerpunkt des Erde-Mond Systems erzeugt wird. Da die intrinsische Rotationsperiode der Erde wesentlich kürzer ist als die Umlaufperiode des Mondes, dreht sich die Erde unter den Flutbergen hinweg.\n",
    "\n",
    "Die dabei entstehende Reibungskraft zwischen den Flutbergen und der mit der Erde rotierenden Materie führt zu einer Verschiebung der Flutberge, so dass sie sich nicht, wie man ohne Reibung erwarten würde, auf der Verbindungslinie des Erd- und Mondmittelpunktes befinden, sondern in Richtung der intrinsischen Erdrotation verschoben sind. Der Zenitflutberg eilt also der Bewegung des Mondes voraus und beschleunigt durch seine Anziehungskraft die Bahnbewegung des Mondes, der sich infolge dessen auf einer größeren Umlaufbahn bewegt. Die intrinsische Rotation der Erde wiederum wird durch die Reibung mit den Flutbergen abgebremst. Diesen Effekt bezeichnet man als Gezeitenreibung. Er ist Gegenstand dieses Projektes. \n",
    "\n",
    "<p style=\"text-align:center\">\n",
    "<img src=\"images/skizze_gezeitenreibung.png\"/>\n",
    "</p>\n",
    "\n",
    "Zur Vereinfachung betrachten wir die Gezeitenreibung nur für das Erde-Mond System  und vernachlässigen den Einfluss der Sonne. In der folgenden Zelle befinden sich verschiedene astronomische Größen des Erde-Mond Systems, welche während des Projektes benötigt werden. "
   ]
  },
  {
   "cell_type": "code",
   "execution_count": 1,
   "metadata": {},
   "outputs": [],
   "source": [
    "mErde = 5.9721986*10**24        # kg          : Masse der Erde\n",
    "mOzean = 0.0014*10**24          # kg          : Masse der Ozeane auf der Erde\n",
    "RErde = 6.3675*10**6            # kg          : Radius der Erde\n",
    "\n",
    "mMond = 7.3459*10**22           # kg          : Masse des Mondes \n",
    "rMondBahn = 3.836*10**8         # m           : Bahnradius des Mondes, die Umlaufbahn des Mondes\n",
    "                                #               um die Erde kann als Kreisbahn genähert werden\n",
    "TMondBahn = 27.32166140*24*3600 # s           : Heutige Periodendauer der Mondumlaufbahn um die Erde\n",
    "\n",
    "TErdRotation = 86164.100        # s           : Heutige Periodendauer der intrinsischen Erdrotation\n",
    "tau = 0.0021                    # s/100a      : Zunahme der Tageslänge auf der Erde in 100 Jahren\n",
    "\n",
    "G = 6.67430*10**(-11)           # m^3/(kg*s^2): Gravitationskonstante "
   ]
  },
  {
   "cell_type": "markdown",
   "metadata": {},
   "source": [
    "### Leitfragen"
   ]
  },
  {
   "cell_type": "markdown",
   "metadata": {},
   "source": [
    "#### Zweikörperproblem"
   ]
  },
  {
   "cell_type": "markdown",
   "metadata": {},
   "source": [
    "- Programmieren Sie eine Funktion, die die gekoppelten Bewegungsgleichungen des Erde-Mond Systems ohne Flutberge mit `solve_ivp()` numerisch für gegebene Anfangsbedingungen löst. Dabei sollte die Masse $m_i$ und die Anfangsbedingungen jedes Körpers der Funktion als Liste übergeben werden. Zudem soll die Zeit $t_\\mathrm{max}$, bis zu der die Lösungen bestimmt werden, übergeben werden. Die Funktion sollte eine Liste mit interpolierten Bahnkurven [$x_i(t),y_i(t)$] zurückgeben.\n",
    "    - Beschränken Sie das Problem auf die x-y-Ebene und behandeln Sie die beiden Körper als Punktmassen, die intrinsische Rotation der Erde soll also zunächst vernachlässigt werden.\n",
    "$\\newline$\n",
    "- Erstellen Sie verschiedene Plots, die die Zeitentwicklung am besten illustrieren, z.B. parametrische Plots der Bahnen beider Körper oder geeignete Phasenraumplots. \n",
    "    - Wählen Sie dabei die Anfangsbedingungen so, dass der Schwerpunkt des Zweiteilchensystems im Ursprung ruht.\n",
    "$\\newline$\n",
    "- Betrachten Sie die zeitliche Entwicklung des Schwerpunktes. Wie sollte seine Bahn in einem abgeschlossenem System verlaufen und ist dies tatsächlich der Fall? \n",
    "$\\newline$\n",
    "- Implementieren Sie das explizite Euler-Verfahren und das explizite Runge-Kutta-Verfahren 4. Ordnung aus der Vorlesung. \n",
    "$\\newline$\n",
    "- Lösen Sie mit Ihren Implementierungen die Bewegungsgleichungen des Erde-Mond-Systems erneut. Vergleichen Sie die Ergebnisse untereinander und mit dem Ergebnis der obigen Funktion. Vergleichen Sie alle Ergebnisse auch mit der exakten Lösung des Zweikörperproblems."
   ]
  },
  {
   "cell_type": "markdown",
   "metadata": {},
   "source": [
    "#### Vierkörperproblem mit Randbedingungen"
   ]
  },
  {
   "cell_type": "markdown",
   "metadata": {},
   "source": [
    "- Erweitern Sie die obige Funktion um die beiden Flutberge, die sich auf der Erdoberfläche befinden.\n",
    "    - Dazu werden die beiden Flutberge als Punktmassen genähert, dessen Abstand zur Erde zu jeder Zeit dem Erdradius entspricht. Aufgrund dieser Zwangsbedingungen gestaltet sich die Herleitung der Bewegungsgleichungen als kompliziert. \n",
    "        \n",
    "        Sei $\\vec F_{ba}$ die Gravitationskraft, die ein Körper $b$ auf einen Körper $a$ ausübt. Die gegenseitige Gravitationskraft der beiden Flutberge ist sehr gering und wird daher im Folgenden vernachlässigt, d.h. $\\vec F_{21}$=$\\vec F_{12}=0$. \n",
    "        \n",
    "        Die radiale Kompenente der Kraft auf die beiden Flutberge muss so festgesetzt werden, dass ihr jeweiliger Abstand zur Erde gleich bleibt, also zu jeder Zeit dem Erdradius entspricht. Dies wird mit dem Einführen von radial gerichteten Zwangskräften bewerkstelligt. Da die Gravitationskraft von der Erde auf die Flutberge ebenfalls radial gerichtet ist, kann diese implizit in die Definition der Zwangskräfte mit eingebaut werden, $\\vec F_{\\mathrm{Z}1}$ und $\\vec F_{\\mathrm{Z}2}$ stellen also die Summe der jeweiligen Zwangskraft und der Gravitationskraft der Erde auf Flutberg 1 bzw. Flutberg 2 dar. Auf die Erde wirken diese Kräfte mit entgegengesetztem Vorzeichen. \n",
    "        \n",
    "        Damit ergibt sich für die Gesamtkräfte $\\vec F_\\mathrm{E}$, $\\vec F_\\mathrm{M}$, $\\vec F_1$, $\\vec F_2$ auf Erde, Mond, Flutberg 1 bzw. Flutberg 2 folgendes Gleichungssystem:\n",
    "$\\newline$\n",
    "\\begin{align*}\n",
    "    \\vec F_\\mathrm{E} &= \\vec F_\\mathrm{ME} - \\vec F_{\\mathrm{Z}1} - \\vec F_{\\mathrm{Z}2} \\\\\n",
    "    \\vec F_\\mathrm{M} &= \\vec F_\\mathrm{EM} + \\vec F_{1\\mathrm{M}} + \\vec F_{2\\mathrm{M}} \\\\\n",
    "    \\vec F_1 &=  \\vec F_{\\mathrm{M}1} + \\vec F_{\\mathrm{Z}1}     \\\\\n",
    "    \\vec F_2 &= \\vec F_{\\mathrm{M}2} + \\vec F_{\\mathrm{Z}2} \\,.        \n",
    "\\end{align*}\n",
    "\n",
    "    Die Koordinaten des $i$-ten Flutbergs lassen sich am elegantesten in Polarkoordinaten relativ zu den Erdkoordinaten $\\vec r_\\mathrm{E}$ angeben:\n",
    "$\\newline$\n",
    "\\begin{equation*}\n",
    "    \\vec r_i = \\vec r_\\mathrm{E} + R_\\mathrm{E}\\,\\vec e_{r,i}\\,,\n",
    "\\end{equation*}\n",
    "\n",
    "    wobei $\\vec e_{r,i}$ den radialen Einheitsvektor in Bezug auf den $i$-ten Flutberg darstellt. Die Kraft auf den $i$-ten Flutberg lässt sich nun in einen radialen Anteil und einen Winkelanteil aufteilen:\n",
    "$\\newline$\n",
    "\\begin{align*}\n",
    "    \\vec F_i &= (\\vec F_{\\mathrm{M}i})_{\\varphi,i} \\vec e_{\\varphi,i} + (\\vec F_{\\mathrm{M}i})_{r,i} \\vec e_{r,i} + F_{\\mathrm{Z}i} \\vec e_{r,i} \\\\\n",
    "    &= (\\vec F_{\\mathrm{M}i})_{\\varphi,i} \\vec e_{\\varphi,i} + ((\\vec F_{\\mathrm{M}i})_{r,i} + F_{\\mathrm{Z}i})\\, \\vec e_{r,i}\\,. \n",
    "\\end{align*}\n",
    "\n",
    "    Hierbei stellt $\\vec e_{\\varphi,i}$ den Einheitsvektor in $\\varphi_i$-Richtung und $\\varphi_i$ den Winkel des $i$-ten Flutbergs relativ zu den Erdkoordinaten dar. Die Beschleunigung des $i$-ten Flutberg in Richtung Erde muss der Zentripetalbeschleunigung für stabile Kreisbahnen abzüglich der Beschleunigung der Erde in radiale Richtung betragen, damit die Zwangsbedingung (ZB) erfüllt ist, d.h.\n",
    "$\\newline$\n",
    "\\begin{equation*}\n",
    "    (\\vec F_{\\mathrm{M}i})_{r,i} + F_{\\mathrm{Z}i} \\stackrel{\\mathrm{ZB}}{=} -m_i \\left( R_\\mathrm{E} \\dot{\\varphi}_i^2 - (\\ddot{\\vec r_\\mathrm{E}})_{r,i} \\right)\\,,\n",
    "\\end{equation*}\n",
    "\n",
    "    wobei $m_i$ die Masse des $i$-ten Flutbergs ist. \n",
    "    \n",
    "    Dies lässt sich mit einer Analogie zum Fadenpendel verstehen, wobei die Masse am Pendel einem Flutberg bzw. der Aufhängepunkt der Erde entspricht. Jedoch muss hier zusätzlich berücksichtigt werden, dass die Erde im Gegensatz zum Aufhängepunkt beim Fadenpendel zusätzlich beschleunigt werden kann, weshalb die Beschleunigung der Erde in radiale Richtung von der Zentripetalbeschleunigung subtrahiert werden muss. So wird zum Beispiel die Zwangsbedingung bereits eingehalten, wenn die Erde in Richtung eines Flutbergs mit dem Betrag der Zentripetalbeschleunigung beschleunigt wird und auf den Flutberg keine radiale Beschleunigung wirkt. \n",
    " \n",
    "    Aus den Kräftgleichungen lassen sich nun die benötigten Bewegungsgleichungen ablesen. Beachten Sie, dass die Gleichungen für die Flutberge jeweils nur eine Bewegungsgleichung bezüglich des jeweiligen Winkels liefern, während die Bewegungsgleichung bezüglich der radialen Koordinate aufgrund der Zwangsbedingung redundant ist. Im Gegensatz zu dieser Herleitung mit Newtonscher Mechanik lassen sich die Bewegungsgleichungen wesentlich leichter mit dem Lagrangeformalismus, welcher die Zwangsbedingungen auf eine natürliche Art implementiert, herleiten.\n",
    "$\\newline$    \n",
    "- Betrachten Sie die zeitliche Entwicklung des Vierteilchensystems.\n",
    "    - Teilen Sie dabei zunächst die Masse der Ozeane auf die beiden Flutberge gleichmäßig auf und lassen Sie die beiden Flutberge auf der Verbindungslinie zwischen Erde und Mond mit der Umlaufperiodendauer des Mondes starten. Passen Sie die Anfangsbedingungen so an, dass der Schwerpunkt wieder im Ursprung ruht.\n",
    "    - Fertigen Sie eine Grafik/Animation an, in der die Erde, der Mond und die Flutberge in Abhängigkeit der Zeit und in der $x$-$y$-Ebene dargestellt werden."
   ]
  },
  {
   "cell_type": "markdown",
   "metadata": {},
   "source": [
    "#### Vierkörperproblem mit Randbedingungen, intrinsischer Rotation und Reibung"
   ]
  },
  {
   "cell_type": "markdown",
   "metadata": {},
   "source": [
    "- Erweitern Sie Ihre Funktion abermals und berücksichtigen Sie nun auch die Reibung zwischen den Flutbergen und dem übrigen Teil der Erde sowie die intrinsische Rotation der Erde, welche sich durch die Reibungskraft $\\vec F_{\\mathrm R}$ ändert.\n",
    "    - Verwenden Sie als Reibungskraft, die auf den i-ten Flutberg wirkt, $ \\vec F_{\\mathrm R,i}(\\vec v_i)=-km_i|\\vec v_i| \\vec v_i\\,,$ hierbei ist $\\vec v_i$ die Geschwindigkeit des $i$-ten Flutbergs relativ zur rotierenden Erdoberfläche und $k$ eine effektive Reibungskonstante. Wählen Sie im folgenden $k=2\\cdot10^{-12}\\,\\frac{1}{\\mathrm m}$.\n",
    "    - Leiten Sie die Bewegungsgleichung für die intrinsische Erdrotation aus der Drehimpulsrelation $L=I \\omega$ her. Hierbei ist $\\omega$ die Winkelgeschwindigkeit der Eigenrotation und $I$ das Trägheitsmoment der Erde, wobei die Erde diesbezüglich als Kugel mit homogener Massenverteilung betrachtet werden soll (in den anderen Bewegungsgleichungen aber weiterhin als Punktmasse). Geben Sie die Beziehung zwischen dem auf die Erde wirkenden Drehmoment $M$ und der Zeitableitung $\\dot\\omega$ an, die daraus folgt. Bestimmen Sie $M$ aus den Reibungskräften, um daraus die Bewegungsgleichung für die intrinsische Erdrotation zu erhalten.\n",
    "    - Zusätzlich müssen Sie die Bewegungsgleichungen der Flutberge anpassen, indem Sie die entsprechende Reibungskraft in die Kräftgleichung mit einbauen.\n",
    "$\\newline$\n",
    "- Betrachten Sie wieder die zeitliche Entwicklung des Vierteilchensystems und erstellen Sie eine Grafik/Animation der beteiligten Körper in Abhängigkeit der Zeit und in der $x$-$y$-Ebene. Vergleichen Sie die Bewegung der Flutberge mit und ohne Reibung. Illustrieren Sie einen möglichen Unterschied beider Bewegungen.\n",
    "$\\newline$\n",
    "- Fitten Sie die Massen der Flutberge, so dass die aktuelle Zunahme der Tageslänge pro 100 Jahre mit dem oben angegebenen Literaturwert $\\tau$ übereinstimmt. Weichen die gefitteten Massen der Flutberge von der Masse der Ozeane ab? Geben Sie mögliche Gründe für die Abweichungen an.\n",
    "    - Wählen Sie die Massen der beiden Flutberge gleich groß. Falls Sie die Flutberge wieder auf der Verbindungslinie zwischen Erde und Mond mit der Umlaufperiodendauer des Mondes starten lassen, berücksichtigen Sie die Einschwingzeit des Systems, bevor Sie die Tageslängenänderung bestimmen."
   ]
  },
  {
   "cell_type": "markdown",
   "metadata": {},
   "source": [
    "### Weiterführende Untersuchungen "
   ]
  },
  {
   "cell_type": "markdown",
   "metadata": {},
   "source": [
    "#### Variation der Reibungskonstante"
   ]
  },
  {
   "cell_type": "markdown",
   "metadata": {},
   "source": [
    "- Können Sie die Reibungskonstante $k$ so fitten, dass die Gesamtmasse der Flutberge der Masse der Ozeane entspricht und auch $\\tau$ mit dem Literaturwert übereinstimmt? Was beobachten Sie für diesen Fall im zeitlichen Verlauf?"
   ]
  },
  {
   "cell_type": "markdown",
   "metadata": {},
   "source": [
    "#### Vielteilchenproblem mit Randbedingungen, intrinsischer Rotation und Reibung"
   ]
  },
  {
   "cell_type": "markdown",
   "metadata": {},
   "source": [
    "- Verwenden Sie statt nur zwei Flutbergen nun eine Vielzahl von Punktmassen, die Sie auf der Erdoberfläche verteilen. Die Punktmassen simulieren nun die Wassermassen auf der Erdoberfläche. Können Sie die Ausprägung der beiden Flutberge beobachten?  Damit das Lösen der Differentialgleichungen nicht zu aufwändig wird, benötigen Sie eine Näherung. Nehmen Sie hierzu an, dass die Masse der Erde viel größer als die Masse der Flutberge ist. Ersetzen Sie die Bewegungsgleichungen der Erd- und Mondkoordinaten durch jene aus dem System, das nur aus Erde und Mond besteht. Argumentieren Sie, ob die Näherung gerechtfertigt ist oder nicht.\n",
    "$\\newline$\n",
    "- Betrachten Sie wieder den Fall von zwei Flutbergen und lösen Sie die Differentialgleichungen im genäherten Fall. Vergleichen Sie diese Lösung mit der Lösung aus dem exakten Fall von oben. Ist die Näherung gerechtfertigt?"
   ]
  }
 ],
 "metadata": {
  "kernelspec": {
   "display_name": "Python 3 (ipykernel)",
   "language": "python",
   "name": "python3"
  },
  "language_info": {
   "codemirror_mode": {
    "name": "ipython",
    "version": 3
   },
   "file_extension": ".py",
   "mimetype": "text/x-python",
   "name": "python",
   "nbconvert_exporter": "python",
   "pygments_lexer": "ipython3",
   "version": "3.9.13"
  },
  "vscode": {
   "interpreter": {
    "hash": "e7370f93d1d0cde622a1f8e1c04877d8463912d04d973331ad4851f04de6915a"
   }
  }
 },
 "nbformat": 4,
 "nbformat_minor": 2
}
