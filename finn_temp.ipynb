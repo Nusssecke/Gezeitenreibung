{
 "cells": [
  {
   "cell_type": "code",
   "execution_count": null,
   "metadata": {},
   "outputs": [],
   "source": [
    "# Remove every 2nd element of the array to reduce the amount of data\n",
    "count = 1\n",
    "while(x_E.size > 300):\n",
    "    t, x_E, y_E, x_M, y_M, phi_1, phi_2, phi_E, omega_1, omega_2, omega_E = t[::2], x_E[::2], y_E[::2], x_M[::2], y_M[::2], phi_1[::2], phi_2[::2], phi_E[::2], omega_1[::2], omega_2[::2], omega_E[::2]\n",
    "    count += 1\n",
    "\n",
    "x_1, y_1 = x_E + RErde*np.cos(phi_1), y_E + RErde*np.sin(phi_1)\n",
    "x_2, y_2 = x_E + RErde*np.cos(phi_2), y_E + RErde*np.sin(phi_2)\n",
    "\n",
    "# Animation of the four body problem #\n",
    "fig = plt.figure(figsize=(5, 5)) # Square figure, so the circles are actually circles\n",
    "ax = plt.axes(xlim=(-4e8, 4e8), ylim=(-4e8, 4e8))\n",
    "earth_line, = ax.plot([], [], marker='o', lw=0.1, color='blue', label='Erde (*10)')\n",
    "moon_line, = ax.plot([], [], marker='o', lw=0.1, color='red', label='Mond')\n",
    "tide_1_line, = ax.plot([], [], marker='o', lw=0.1, color='green', label='Flutberg 1 (*10)')\n",
    "tide_2_line, = ax.plot([], [], marker='o', lw=0.1, color='violet', label='Flutberg 2 (*10)')\n",
    "ax.legend()\n",
    "\n",
    "def animate(i):\n",
    "    earth_line.set_data([x_E[i]*10], [y_E[i]*10])\n",
    "    moon_line.set_data([x_M[i]], [y_M[i]])\n",
    "    tide_1_line.set_data([x_1[i]*10], [y_1[i]*10])\n",
    "    tide_2_line.set_data([x_2[i]*10], [y_2[i]*10])\n",
    "    return earth_line, moon_line\n",
    "\n",
    "anim = FuncAnimation(fig, animate, init_func=None, frames=t.shape[0], interval=30, blit=True)\n",
    "anim.save('Erde_Mond_Flutberge_Spin.gif', writer='pillow')\n",
    "plt.close()\n",
    "\n",
    "display(Image(data=open('Erde_Mond_Flutberge_Friction.gif','rb').read(), format='png'))"
   ]
  }
 ],
 "metadata": {
  "kernelspec": {
   "display_name": "Python 3",
   "language": "python",
   "name": "python3"
  },
  "language_info": {
   "codemirror_mode": {
    "name": "ipython",
    "version": 3
   },
   "file_extension": ".py",
   "mimetype": "text/x-python",
   "name": "python",
   "nbconvert_exporter": "python",
   "pygments_lexer": "ipython3",
   "version": "3.10.6"
  },
  "orig_nbformat": 4
 },
 "nbformat": 4,
 "nbformat_minor": 2
}
