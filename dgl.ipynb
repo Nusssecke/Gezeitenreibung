{
 "cells": [
  {
   "cell_type": "code",
   "execution_count": 7,
   "metadata": {},
   "outputs": [],
   "source": [
    "mErde = 5.9721986*10**24        # kg          : Masse der Erde\n",
    "mOzean = 0.0014*10**24          # kg          : Masse der Ozeane auf der Erde\n",
    "RErde = 6.3675*10**6            # kg          : Radius der Erde\n",
    "\n",
    "mMond = 7.3459*10**22           # kg          : Masse des Mondes \n",
    "rMondBahn = 3.836*10**8         # m           : Bahnradius des Mondes, die Umlaufbahn des Mondes\n",
    "                                #               um die Erde kann als Kreisbahn genähert werden\n",
    "TMondBahn = 27.32166140*24*3600 # s           : Heutige Periodendauer der Mondumlaufbahn um die Erde\n",
    "\n",
    "TErdRotation = 86164.100        # s           : Heutige Periodendauer der intrinsischen Erdrotation\n",
    "tau = 0.0021                    # s/100a      : Zunahme der Tageslänge auf der Erde in 100 Jahren\n",
    "\n",
    "G = 6.67430*10**(-11)           # m^3/(kg*s^2): Gravitationskonstante \n",
    "\n",
    "def baryzentrum(m1, m2, r):\n",
    "    return r*m2/(m1+m2)\n",
    "\n",
    "from scipy.constants import pi\n",
    "\n",
    "abstand_baryzentrum_erde = baryzentrum(mErde, mMond, rMondBahn)\n",
    "vErde = 2*pi*abstand_baryzentrum_erde/TMondBahn\n",
    "vMond = 2*pi*(rMondBahn-abstand_baryzentrum_erde)/TMondBahn\n",
    "\n",
    "def iv_stable_orbit():\n",
    "    mass = [mErde, mMond]\n",
    "    # We want the center of mass to be at the origin\n",
    "    x = [-abstand_baryzentrum_erde, rMondBahn-abstand_baryzentrum_erde]\n",
    "    y = [0, 0]\n",
    "    v_x = [0, 0]\n",
    "    v_y = [-vErde, vMond] # The moon starts in positive, the earth in negative y-direction\n",
    "    return [mass, x, y, v_x, v_y]\n",
    "\n",
    "import numpy as np\n",
    "import matplotlib.pyplot as plt\n",
    "import math\n",
    "import sympy\n",
    "from scipy.integrate import solve_ivp\n",
    "from scipy.constants import pi"
   ]
  },
  {
   "attachments": {},
   "cell_type": "markdown",
   "metadata": {},
   "source": [
    "## Finns Ansatz mit Lagrnange 2.Art"
   ]
  },
  {
   "cell_type": "code",
   "execution_count": 8,
   "metadata": {},
   "outputs": [],
   "source": [
    "# Note: be very careful with simplify and trigsimp they often don't do anything and take a very long time\n",
    "def diff_eqs_2_body_problem():\n",
    "    m_E, m_M = sympy.symbols('m_E m_M', real=True, positive=True)\n",
    "    mass_vars = [m_E, m_M]\n",
    "    # Define the masses of the bodies\n",
    "    masses = [m_E, m_M, m_E, m_M]\n",
    "\n",
    "    t = sympy.symbols('t', real=True, positive=True) # Time variable for all functions\n",
    "    x_E, x_M, y_E, y_M = sympy.symbols('x_E x_M y_E y_M', real=True, cls=sympy.Function) # Cartesian coordinates for all bodies\n",
    "\n",
    "    q_list = (x_E(t), x_M(t), y_E(t), y_M(t)) # Generalized coordinates\n",
    "    p_list = (m_E*x_E(t).diff(t), m_M*x_M(t).diff(t), m_E*y_E(t).diff(t), m_M*y_M(t).diff(t)) # Generalized momenta\n",
    "\n",
    "    # Position vector using coordinates\n",
    "    r = sympy.Matrix([x_E(t), x_M(t), y_E(t), y_M(t)])\n",
    "    r_dot = r.diff(t) # sympy.simplify(r_dot) Not necessary\n",
    "\n",
    "    # Calculate the potential energy\n",
    "    U = -G * m_E * m_M / (sympy.Matrix([x_E(t) - x_M(t), y_E(t) - y_M(t)]).norm())\n",
    "    T = sum([m*r_dot**2/2 for m, r_dot in zip(masses, r_dot)]) # Kinetic energy\n",
    "\n",
    "    # print(\"Velocity vector:\")\n",
    "    # display(r_dot)\n",
    "    # print(\"Potential energy:\")\n",
    "    # display(U)\n",
    "    # print(\"Kinetic energy:\")\n",
    "    # display(T)\n",
    "    return (t, U, T, q_list, p_list, mass_vars)"
   ]
  },
  {
   "cell_type": "code",
   "execution_count": 9,
   "metadata": {},
   "outputs": [],
   "source": [
    "def diff_eqs_4_body_problem():\n",
    "    t = sympy.symbols('t', real=True, positive=True) # Time variable for all functions\n",
    "    r_earth = RErde\n",
    "    # r_earth, G = sympy.symbols('R_E G', real=True, positive=True)\n",
    "    m_E, m_M, m_1, m_2 = sympy.symbols('m_E m_M m_1 m_2', real=True, positive=True)\n",
    "    masses = [m_E, m_M, m_E, m_M, m_1, m_1, m_2, m_2] # Define the masses of the bodies\n",
    "    mass_vars = [m_E, m_M, m_1, m_2]\n",
    "\n",
    "    # Calculate using hamiltonian mechanics and cartesian coordinates\n",
    "    x_E, x_M, y_E, y_M, phi_1, phi_2 = sympy.symbols('x_E x_M y_E y_M phi_1 phi_2', real=True, cls=sympy.Function)\n",
    "\n",
    "    q_list = (x_E(t), x_M(t), y_E(t), y_M(t), phi_1(t), phi_2(t)) # Generalized coordinates\n",
    "    p_list = (\n",
    "        m_E*x_E(t).diff(t),\n",
    "        m_M*x_M(t).diff(t),\n",
    "        m_E*y_E(t).diff(t),\n",
    "        m_M*y_M(t).diff(t),\n",
    "        m_1 * sympy.sqrt((x_E(t).diff(t) - r_earth * phi_1(t).diff(t) * sympy.sin(phi_1(t)))**2 + (y_E(t).diff(t) + r_earth * phi_1(t).diff(t) * sympy.cos(phi_1(t)))**2),\n",
    "        m_2 * sympy.sqrt((x_E(t).diff(t) - r_earth * phi_2(t).diff(t) * sympy.sin(phi_2(t)))**2 + (y_E(t).diff(t) + r_earth * phi_2(t).diff(t) * sympy.cos(phi_2(t)))**2),\n",
    "        ) # Generalized momenta\n",
    "        # m_1*(r_earth)**2*phi_1(t).diff(t),\n",
    "\n",
    "    # TODO Umsortieren in masses, p_list und r; make the order x,y for all bodies\n",
    "    # TODO Die Impulse stimmen hier nicht!!!!\n",
    "\n",
    "    # Position vector using coordinates\n",
    "    r = sympy.Matrix([  x_E(t), x_M(t), y_E(t), y_M(t), \n",
    "                        x_E(t) + r_earth * sympy.cos(phi_1(t)), y_E(t) + r_earth * sympy.sin(phi_1(t)),\n",
    "                        x_E(t) + r_earth * sympy.cos(phi_2(t)), y_E(t) + r_earth * sympy.sin(phi_2(t))])\n",
    "    r_dot = r.diff(t) # sympy.simplify(r_dot) Not necessary\n",
    "\n",
    "    # Calculate the potential energy\n",
    "    U = - G * m_E * m_M / (sympy.Matrix([x_E(t) - x_M(t), y_E(t) - y_M(t)]).norm()) \\\n",
    "        - G * m_M * m_1 / (sympy.Matrix([x_M(t) - (x_E(t) + r_earth * sympy.cos(phi_1(t))), y_M(t) - (y_E(t) + r_earth * sympy.sin(phi_1(t)))]).norm()) \\\n",
    "        - G * m_M * m_2 / (sympy.Matrix([x_M(t) - (x_E(t) + r_earth * sympy.cos(phi_2(t))), y_M(t) - (y_E(t) + r_earth * sympy.sin(phi_2(t)))]).norm())\n",
    "\n",
    "    T = sum([m*r_dot**2/2 for m, r_dot in zip(masses, r_dot)]) # Kinetic energy\n",
    "\n",
    "    # print(\"Velocity vector:\")\n",
    "    # display(r_dot)\n",
    "    # print(\"Potential energy:\")\n",
    "    # display(U)\n",
    "    print(\"Kinetic energy:\")\n",
    "    display(T)\n",
    "    return (t, U, T, q_list, p_list, mass_vars)\n"
   ]
  },
  {
   "cell_type": "code",
   "execution_count": 10,
   "metadata": {},
   "outputs": [],
   "source": [
    "def hamilton_eqs(t, U, T, q_list, p_list):\n",
    "    H = T + U\n",
    "    diff_eqs = []\n",
    "    p_const = sympy.symbols('p_const', real=True) # We need to substitute p to be allowed to differentiate it\n",
    "    # Calculate the Hamilton equations by differentiating the Hamiltonian\n",
    "    p_subs = [sympy.solve(sympy.Eq(p_const, p), q.diff(t))[0] for p, q in zip(p_list, q_list)] # Coefficients of the momenta to solve the differential equations for accelerations\n",
    "    print(p_subs)\n",
    "    for q, p, p_sub in zip(q_list, p_list, p_subs):\n",
    "        diff_eqs.append(H.subs(q.diff(t), p_sub).diff(p_const).subs(p_const, p)) # Sub in the constant for p, differentiate and then sub back\n",
    "        # diff_eqs.append(-H.diff(q)) # TODO Solve for q''\n",
    "        diff_eqs.append(sympy.solve(sympy.Eq(p.diff(t), -H.diff(q)), q.diff(t,t))[0])\n",
    "\n",
    "    print(\"Hamiltonian:\")\n",
    "    display(H)\n",
    "    print(\"Hamilton equations:\")\n",
    "    for i in range(0, int(len(diff_eqs)/2)):\n",
    "        print(f'Equation {2*i}:')\n",
    "        display(q_list[i].diff(t), diff_eqs[2*i])\n",
    "        print(f'Equation {2*i+1}:')\n",
    "        display(p_list[i].diff(t), diff_eqs[2*i+1])\n",
    "\n",
    "    return diff_eqs\n",
    "\n",
    "def diff_eqs_lambdify(diff_eqs, q_list, mass_vars):\n",
    "    # Create constants for the generalized coordinates and their derivatives so that we can substitute them in\n",
    "    q_consts = sympy.symbols(' '.join(str(q) for q in q_list))\n",
    "    q_dot_consts = sympy.symbols(' '.join(str(q) + '/dt' for q in q_list))\n",
    "    mass_consts = sympy.symbols(' '.join(str(m) for m in mass_vars))\n",
    "    # The variable order is pairs of (q, q_dot)\n",
    "    variable_order = [var for pair in zip(q_consts, q_dot_consts) for var in pair]\n",
    "    print(f\"Variable order: {variable_order}\")\n",
    "\n",
    "    lambdified_diff_eqs = []\n",
    "    for f in diff_eqs:\n",
    "        # Using sympys subs function we substitue the generalized coordinates with the variables\n",
    "        f_subs = f.subs([(m, m_const) for m, m_const in zip(mass_vars, mass_consts)])\n",
    "        f_subs = f_subs.subs([(q.diff(t), q_dot_const) for q, q_dot_const in zip(q_list, q_dot_consts)]) # We have to substitute the derivatives first!!!\n",
    "        f_subs = f_subs.subs([(q, q_const) for q, q_const in zip(q_list, q_consts)])\n",
    "        # Convert the equations to a function with lambdify\n",
    "        lambdified_diff_eqs.append(sympy.lambdify([t, variable_order, mass_consts], f_subs, modules='numpy'))\n",
    "\n",
    "    return lambda t, y, mass: np.array([f(t, y, mass) for f in lambdified_diff_eqs])"
   ]
  },
  {
   "cell_type": "code",
   "execution_count": 11,
   "metadata": {},
   "outputs": [
    {
     "name": "stdout",
     "output_type": "stream",
     "text": [
      "[p_const/m_E, p_const/m_M, p_const/m_E, p_const/m_M]\n",
      "Hamiltonian:\n"
     ]
    },
    {
     "data": {
      "text/latex": [
       "$\\displaystyle - \\frac{6.6743 \\cdot 10^{-11} m_{E} m_{M}}{\\sqrt{\\left(x_{E}{\\left(t \\right)} - x_{M}{\\left(t \\right)}\\right)^{2} + \\left(y_{E}{\\left(t \\right)} - y_{M}{\\left(t \\right)}\\right)^{2}}} + \\frac{m_{E} \\left(\\frac{d}{d t} x_{E}{\\left(t \\right)}\\right)^{2}}{2} + \\frac{m_{E} \\left(\\frac{d}{d t} y_{E}{\\left(t \\right)}\\right)^{2}}{2} + \\frac{m_{M} \\left(\\frac{d}{d t} x_{M}{\\left(t \\right)}\\right)^{2}}{2} + \\frac{m_{M} \\left(\\frac{d}{d t} y_{M}{\\left(t \\right)}\\right)^{2}}{2}$"
      ],
      "text/plain": [
       "-6.6743e-11*m_E*m_M/sqrt((x_E(t) - x_M(t))**2 + (y_E(t) - y_M(t))**2) + m_E*Derivative(x_E(t), t)**2/2 + m_E*Derivative(y_E(t), t)**2/2 + m_M*Derivative(x_M(t), t)**2/2 + m_M*Derivative(y_M(t), t)**2/2"
      ]
     },
     "metadata": {},
     "output_type": "display_data"
    },
    {
     "name": "stdout",
     "output_type": "stream",
     "text": [
      "Hamilton equations:\n",
      "Equation 0:\n"
     ]
    },
    {
     "data": {
      "text/latex": [
       "$\\displaystyle \\frac{d}{d t} x_{E}{\\left(t \\right)}$"
      ],
      "text/plain": [
       "Derivative(x_E(t), t)"
      ]
     },
     "metadata": {},
     "output_type": "display_data"
    },
    {
     "data": {
      "text/latex": [
       "$\\displaystyle \\frac{d}{d t} x_{E}{\\left(t \\right)}$"
      ],
      "text/plain": [
       "Derivative(x_E(t), t)"
      ]
     },
     "metadata": {},
     "output_type": "display_data"
    },
    {
     "name": "stdout",
     "output_type": "stream",
     "text": [
      "Equation 1:\n"
     ]
    },
    {
     "data": {
      "text/latex": [
       "$\\displaystyle m_{E} \\frac{d^{2}}{d t^{2}} x_{E}{\\left(t \\right)}$"
      ],
      "text/plain": [
       "m_E*Derivative(x_E(t), (t, 2))"
      ]
     },
     "metadata": {},
     "output_type": "display_data"
    },
    {
     "data": {
      "text/latex": [
       "$\\displaystyle \\frac{6.6743 \\cdot 10^{-11} m_{M} \\left(- x_{E}{\\left(t \\right)} + x_{M}{\\left(t \\right)}\\right)}{\\left(\\left(x_{E}{\\left(t \\right)} - x_{M}{\\left(t \\right)}\\right)^{2} + \\left(y_{E}{\\left(t \\right)} - y_{M}{\\left(t \\right)}\\right)^{2}\\right)^{\\frac{3}{2}}}$"
      ],
      "text/plain": [
       "6.6743e-11*m_M*(-x_E(t) + x_M(t))/((x_E(t) - x_M(t))**2 + (y_E(t) - y_M(t))**2)**(3/2)"
      ]
     },
     "metadata": {},
     "output_type": "display_data"
    },
    {
     "name": "stdout",
     "output_type": "stream",
     "text": [
      "Equation 2:\n"
     ]
    },
    {
     "data": {
      "text/latex": [
       "$\\displaystyle \\frac{d}{d t} x_{M}{\\left(t \\right)}$"
      ],
      "text/plain": [
       "Derivative(x_M(t), t)"
      ]
     },
     "metadata": {},
     "output_type": "display_data"
    },
    {
     "data": {
      "text/latex": [
       "$\\displaystyle \\frac{d}{d t} x_{M}{\\left(t \\right)}$"
      ],
      "text/plain": [
       "Derivative(x_M(t), t)"
      ]
     },
     "metadata": {},
     "output_type": "display_data"
    },
    {
     "name": "stdout",
     "output_type": "stream",
     "text": [
      "Equation 3:\n"
     ]
    },
    {
     "data": {
      "text/latex": [
       "$\\displaystyle m_{M} \\frac{d^{2}}{d t^{2}} x_{M}{\\left(t \\right)}$"
      ],
      "text/plain": [
       "m_M*Derivative(x_M(t), (t, 2))"
      ]
     },
     "metadata": {},
     "output_type": "display_data"
    },
    {
     "data": {
      "text/latex": [
       "$\\displaystyle \\frac{6.6743 \\cdot 10^{-11} m_{E} \\left(x_{E}{\\left(t \\right)} - x_{M}{\\left(t \\right)}\\right)}{\\left(\\left(x_{E}{\\left(t \\right)} - x_{M}{\\left(t \\right)}\\right)^{2} + \\left(y_{E}{\\left(t \\right)} - y_{M}{\\left(t \\right)}\\right)^{2}\\right)^{\\frac{3}{2}}}$"
      ],
      "text/plain": [
       "6.6743e-11*m_E*(x_E(t) - x_M(t))/((x_E(t) - x_M(t))**2 + (y_E(t) - y_M(t))**2)**(3/2)"
      ]
     },
     "metadata": {},
     "output_type": "display_data"
    },
    {
     "name": "stdout",
     "output_type": "stream",
     "text": [
      "Equation 4:\n"
     ]
    },
    {
     "data": {
      "text/latex": [
       "$\\displaystyle \\frac{d}{d t} y_{E}{\\left(t \\right)}$"
      ],
      "text/plain": [
       "Derivative(y_E(t), t)"
      ]
     },
     "metadata": {},
     "output_type": "display_data"
    },
    {
     "data": {
      "text/latex": [
       "$\\displaystyle \\frac{d}{d t} y_{E}{\\left(t \\right)}$"
      ],
      "text/plain": [
       "Derivative(y_E(t), t)"
      ]
     },
     "metadata": {},
     "output_type": "display_data"
    },
    {
     "name": "stdout",
     "output_type": "stream",
     "text": [
      "Equation 5:\n"
     ]
    },
    {
     "data": {
      "text/latex": [
       "$\\displaystyle m_{E} \\frac{d^{2}}{d t^{2}} y_{E}{\\left(t \\right)}$"
      ],
      "text/plain": [
       "m_E*Derivative(y_E(t), (t, 2))"
      ]
     },
     "metadata": {},
     "output_type": "display_data"
    },
    {
     "data": {
      "text/latex": [
       "$\\displaystyle \\frac{6.6743 \\cdot 10^{-11} m_{M} \\left(- y_{E}{\\left(t \\right)} + y_{M}{\\left(t \\right)}\\right)}{\\left(\\left(x_{E}{\\left(t \\right)} - x_{M}{\\left(t \\right)}\\right)^{2} + \\left(y_{E}{\\left(t \\right)} - y_{M}{\\left(t \\right)}\\right)^{2}\\right)^{\\frac{3}{2}}}$"
      ],
      "text/plain": [
       "6.6743e-11*m_M*(-y_E(t) + y_M(t))/((x_E(t) - x_M(t))**2 + (y_E(t) - y_M(t))**2)**(3/2)"
      ]
     },
     "metadata": {},
     "output_type": "display_data"
    },
    {
     "name": "stdout",
     "output_type": "stream",
     "text": [
      "Equation 6:\n"
     ]
    },
    {
     "data": {
      "text/latex": [
       "$\\displaystyle \\frac{d}{d t} y_{M}{\\left(t \\right)}$"
      ],
      "text/plain": [
       "Derivative(y_M(t), t)"
      ]
     },
     "metadata": {},
     "output_type": "display_data"
    },
    {
     "data": {
      "text/latex": [
       "$\\displaystyle \\frac{d}{d t} y_{M}{\\left(t \\right)}$"
      ],
      "text/plain": [
       "Derivative(y_M(t), t)"
      ]
     },
     "metadata": {},
     "output_type": "display_data"
    },
    {
     "name": "stdout",
     "output_type": "stream",
     "text": [
      "Equation 7:\n"
     ]
    },
    {
     "data": {
      "text/latex": [
       "$\\displaystyle m_{M} \\frac{d^{2}}{d t^{2}} y_{M}{\\left(t \\right)}$"
      ],
      "text/plain": [
       "m_M*Derivative(y_M(t), (t, 2))"
      ]
     },
     "metadata": {},
     "output_type": "display_data"
    },
    {
     "data": {
      "text/latex": [
       "$\\displaystyle \\frac{6.6743 \\cdot 10^{-11} m_{E} \\left(y_{E}{\\left(t \\right)} - y_{M}{\\left(t \\right)}\\right)}{\\left(\\left(x_{E}{\\left(t \\right)} - x_{M}{\\left(t \\right)}\\right)^{2} + \\left(y_{E}{\\left(t \\right)} - y_{M}{\\left(t \\right)}\\right)^{2}\\right)^{\\frac{3}{2}}}$"
      ],
      "text/plain": [
       "6.6743e-11*m_E*(y_E(t) - y_M(t))/((x_E(t) - x_M(t))**2 + (y_E(t) - y_M(t))**2)**(3/2)"
      ]
     },
     "metadata": {},
     "output_type": "display_data"
    },
    {
     "name": "stdout",
     "output_type": "stream",
     "text": [
      "Variable order: [x_E(t), x_E(t)/dt, x_M(t), x_M(t)/dt, y_E(t), y_E(t)/dt, y_M(t), y_M(t)/dt]\n"
     ]
    },
    {
     "data": {
      "image/png": "[encoded data removed]",
      "text/plain": [
       "<Figure size 640x480 with 1 Axes>"
      ]
     },
     "metadata": {},
     "output_type": "display_data"
    }
   ],
   "source": [
    "# Same as the solution above just with lagrange / hamilton\n",
    "masses = [mErde, mMond, mErde, mMond]\n",
    "t, U, T, q_list, p_list, mass_vars = diff_eqs_2_body_problem()\n",
    "eq_motion_2body = diff_eqs_lambdify(hamilton_eqs(t, U, T, q_list, p_list), q_list, mass_vars)\n",
    "\n",
    "# Solve using scipy.integrate.solve_ivp\n",
    "def four_body_problem(mass: list, x: list, y: list, v_x: list, v_y: list, t_max: float, t_start=0):\n",
    "    # mass: contains the masses of the bodies\n",
    "\n",
    "    solution = solve_ivp(eq_motion_2body, [t_start, t_max], [x[0], v_x[0], x[1], v_x[1], y[0], v_y[0], y[1], v_y[1]], args=(mass,), dense_output=True, atol=1e-4*rMondBahn, max_step=TMondBahn/1000)\n",
    "    return solution\n",
    "\n",
    "# Plot the solution in polar coordinates\n",
    "solution = four_body_problem(*iv_stable_orbit(), 3*TMondBahn)\n",
    "\n",
    "# Plot a 3d phase space diagram\n",
    "t = solution.t\n",
    "x1, v_x1, x2, v_x2, y1, v_y1, y2, v_y2 = solution.y\n",
    "fig = plt.figure()\n",
    "fig.set_label(\"3D-Phasenraumdiagramm des Erde-Mond-Systems\")\n",
    "ax = fig.add_subplot(111, projection='3d')\n",
    "ax.plot(x1, y1, t, label=\"Erde\")\n",
    "ax.plot(x2, y2, t, label=\"Mond\")\n",
    "ax.set_xlabel(\"$x$ / m\")\n",
    "ax.set_ylabel(\"$y$ / m\")\n",
    "ax.set_zlabel(\"$t$ / s\")\n",
    "ax.legend()\n",
    "plt.show()\n",
    "plt.close()"
   ]
  },
  {
   "cell_type": "code",
   "execution_count": 12,
   "metadata": {},
   "outputs": [
    {
     "name": "stdout",
     "output_type": "stream",
     "text": [
      "Kinetic energy:\n"
     ]
    },
    {
     "data": {
      "text/latex": [
       "$\\displaystyle 20272528125000.0 m_{1} \\left(- \\sin{\\left(\\phi_{1}{\\left(t \\right)} \\right)} \\frac{d}{d t} \\phi_{1}{\\left(t \\right)} + 1.57047506870828 \\cdot 10^{-7} \\frac{d}{d t} x_{E}{\\left(t \\right)}\\right)^{2} + 20272528125000.0 m_{1} \\left(\\cos{\\left(\\phi_{1}{\\left(t \\right)} \\right)} \\frac{d}{d t} \\phi_{1}{\\left(t \\right)} + 1.57047506870828 \\cdot 10^{-7} \\frac{d}{d t} y_{E}{\\left(t \\right)}\\right)^{2} + 20272528125000.0 m_{2} \\left(- \\sin{\\left(\\phi_{2}{\\left(t \\right)} \\right)} \\frac{d}{d t} \\phi_{2}{\\left(t \\right)} + 1.57047506870828 \\cdot 10^{-7} \\frac{d}{d t} x_{E}{\\left(t \\right)}\\right)^{2} + 20272528125000.0 m_{2} \\left(\\cos{\\left(\\phi_{2}{\\left(t \\right)} \\right)} \\frac{d}{d t} \\phi_{2}{\\left(t \\right)} + 1.57047506870828 \\cdot 10^{-7} \\frac{d}{d t} y_{E}{\\left(t \\right)}\\right)^{2} + \\frac{m_{E} \\left(\\frac{d}{d t} x_{E}{\\left(t \\right)}\\right)^{2}}{2} + \\frac{m_{E} \\left(\\frac{d}{d t} y_{E}{\\left(t \\right)}\\right)^{2}}{2} + \\frac{m_{M} \\left(\\frac{d}{d t} x_{M}{\\left(t \\right)}\\right)^{2}}{2} + \\frac{m_{M} \\left(\\frac{d}{d t} y_{M}{\\left(t \\right)}\\right)^{2}}{2}$"
      ],
      "text/plain": [
       "20272528125000.0*m_1*(-sin(phi_1(t))*Derivative(phi_1(t), t) + 1.57047506870828e-7*Derivative(x_E(t), t))**2 + 20272528125000.0*m_1*(cos(phi_1(t))*Derivative(phi_1(t), t) + 1.57047506870828e-7*Derivative(y_E(t), t))**2 + 20272528125000.0*m_2*(-sin(phi_2(t))*Derivative(phi_2(t), t) + 1.57047506870828e-7*Derivative(x_E(t), t))**2 + 20272528125000.0*m_2*(cos(phi_2(t))*Derivative(phi_2(t), t) + 1.57047506870828e-7*Derivative(y_E(t), t))**2 + m_E*Derivative(x_E(t), t)**2/2 + m_E*Derivative(y_E(t), t)**2/2 + m_M*Derivative(x_M(t), t)**2/2 + m_M*Derivative(y_M(t), t)**2/2"
      ]
     },
     "metadata": {},
     "output_type": "display_data"
    },
    {
     "name": "stdout",
     "output_type": "stream",
     "text": [
      "[p_const/m_E, p_const/m_M, p_const/m_E, p_const/m_M, 7.85237534354142e-25*(1.99999999999999e+17*m_1*(sin(phi_1(t))*Derivative(x_E(t), t) - cos(phi_1(t))*Derivative(y_E(t), t)) - 2.0e+17*sqrt(0.499999999999997*m_1**2*(-2.0*sin(2.0*phi_1(t))*Derivative(x_E(t), t)*Derivative(y_E(t), t) - cos(2.0*phi_1(t))*Derivative(x_E(t), t)**2 + cos(2.0*phi_1(t))*Derivative(y_E(t), t)**2 - Derivative(x_E(t), t)**2 - Derivative(y_E(t), t)**2) + p_const**2))/m_1, 7.85237534354142e-25*(1.99999999999999e+17*m_2*(sin(phi_2(t))*Derivative(x_E(t), t) - cos(phi_2(t))*Derivative(y_E(t), t)) - 2.0e+17*sqrt(0.499999999999997*m_2**2*(-2.0*sin(2.0*phi_2(t))*Derivative(x_E(t), t)*Derivative(y_E(t), t) - cos(2.0*phi_2(t))*Derivative(x_E(t), t)**2 + cos(2.0*phi_2(t))*Derivative(y_E(t), t)**2 - Derivative(x_E(t), t)**2 - Derivative(y_E(t), t)**2) + p_const**2))/m_2]\n",
      "Hamiltonian:\n"
     ]
    },
    {
     "data": {
      "text/latex": [
       "$\\displaystyle - \\frac{1.04818217510797 \\cdot 10^{-17} m_{1} m_{M}}{\\sqrt{\\left(1.57047506870828 \\cdot 10^{-7} x_{E}{\\left(t \\right)} - 1.57047506870828 \\cdot 10^{-7} x_{M}{\\left(t \\right)} + \\cos{\\left(\\phi_{1}{\\left(t \\right)} \\right)}\\right)^{2} + \\left(1.57047506870828 \\cdot 10^{-7} y_{E}{\\left(t \\right)} - 1.57047506870828 \\cdot 10^{-7} y_{M}{\\left(t \\right)} + \\sin{\\left(\\phi_{1}{\\left(t \\right)} \\right)}\\right)^{2}}} + 20272528125000.0 m_{1} \\left(- \\sin{\\left(\\phi_{1}{\\left(t \\right)} \\right)} \\frac{d}{d t} \\phi_{1}{\\left(t \\right)} + 1.57047506870828 \\cdot 10^{-7} \\frac{d}{d t} x_{E}{\\left(t \\right)}\\right)^{2} + 20272528125000.0 m_{1} \\left(\\cos{\\left(\\phi_{1}{\\left(t \\right)} \\right)} \\frac{d}{d t} \\phi_{1}{\\left(t \\right)} + 1.57047506870828 \\cdot 10^{-7} \\frac{d}{d t} y_{E}{\\left(t \\right)}\\right)^{2} - \\frac{1.04818217510797 \\cdot 10^{-17} m_{2} m_{M}}{\\sqrt{\\left(1.57047506870828 \\cdot 10^{-7} x_{E}{\\left(t \\right)} - 1.57047506870828 \\cdot 10^{-7} x_{M}{\\left(t \\right)} + \\cos{\\left(\\phi_{2}{\\left(t \\right)} \\right)}\\right)^{2} + \\left(1.57047506870828 \\cdot 10^{-7} y_{E}{\\left(t \\right)} - 1.57047506870828 \\cdot 10^{-7} y_{M}{\\left(t \\right)} + \\sin{\\left(\\phi_{2}{\\left(t \\right)} \\right)}\\right)^{2}}} + 20272528125000.0 m_{2} \\left(- \\sin{\\left(\\phi_{2}{\\left(t \\right)} \\right)} \\frac{d}{d t} \\phi_{2}{\\left(t \\right)} + 1.57047506870828 \\cdot 10^{-7} \\frac{d}{d t} x_{E}{\\left(t \\right)}\\right)^{2} + 20272528125000.0 m_{2} \\left(\\cos{\\left(\\phi_{2}{\\left(t \\right)} \\right)} \\frac{d}{d t} \\phi_{2}{\\left(t \\right)} + 1.57047506870828 \\cdot 10^{-7} \\frac{d}{d t} y_{E}{\\left(t \\right)}\\right)^{2} - \\frac{6.6743 \\cdot 10^{-11} m_{E} m_{M}}{\\sqrt{\\left(x_{E}{\\left(t \\right)} - x_{M}{\\left(t \\right)}\\right)^{2} + \\left(y_{E}{\\left(t \\right)} - y_{M}{\\left(t \\right)}\\right)^{2}}} + \\frac{m_{E} \\left(\\frac{d}{d t} x_{E}{\\left(t \\right)}\\right)^{2}}{2} + \\frac{m_{E} \\left(\\frac{d}{d t} y_{E}{\\left(t \\right)}\\right)^{2}}{2} + \\frac{m_{M} \\left(\\frac{d}{d t} x_{M}{\\left(t \\right)}\\right)^{2}}{2} + \\frac{m_{M} \\left(\\frac{d}{d t} y_{M}{\\left(t \\right)}\\right)^{2}}{2}$"
      ],
      "text/plain": [
       "-1.04818217510797e-17*m_1*m_M/sqrt((1.57047506870828e-7*x_E(t) - 1.57047506870828e-7*x_M(t) + cos(phi_1(t)))**2 + (1.57047506870828e-7*y_E(t) - 1.57047506870828e-7*y_M(t) + sin(phi_1(t)))**2) + 20272528125000.0*m_1*(-sin(phi_1(t))*Derivative(phi_1(t), t) + 1.57047506870828e-7*Derivative(x_E(t), t))**2 + 20272528125000.0*m_1*(cos(phi_1(t))*Derivative(phi_1(t), t) + 1.57047506870828e-7*Derivative(y_E(t), t))**2 - 1.04818217510797e-17*m_2*m_M/sqrt((1.57047506870828e-7*x_E(t) - 1.57047506870828e-7*x_M(t) + cos(phi_2(t)))**2 + (1.57047506870828e-7*y_E(t) - 1.57047506870828e-7*y_M(t) + sin(phi_2(t)))**2) + 20272528125000.0*m_2*(-sin(phi_2(t))*Derivative(phi_2(t), t) + 1.57047506870828e-7*Derivative(x_E(t), t))**2 + 20272528125000.0*m_2*(cos(phi_2(t))*Derivative(phi_2(t), t) + 1.57047506870828e-7*Derivative(y_E(t), t))**2 - 6.6743e-11*m_E*m_M/sqrt((x_E(t) - x_M(t))**2 + (y_E(t) - y_M(t))**2) + m_E*Derivative(x_E(t), t)**2/2 + m_E*Derivative(y_E(t), t)**2/2 + m_M*Derivative(x_M(t), t)**2/2 + m_M*Derivative(y_M(t), t)**2/2"
      ]
     },
     "metadata": {},
     "output_type": "display_data"
    },
    {
     "name": "stdout",
     "output_type": "stream",
     "text": [
      "Hamilton equations:\n",
      "Equation 0:\n"
     ]
    },
    {
     "data": {
      "text/latex": [
       "$\\displaystyle \\frac{d}{d t} x_{E}{\\left(t \\right)}$"
      ],
      "text/plain": [
       "Derivative(x_E(t), t)"
      ]
     },
     "metadata": {},
     "output_type": "display_data"
    },
    {
     "data": {
      "text/latex": [
       "$\\displaystyle \\frac{6367500.0 m_{1} \\left(- \\sin{\\left(\\phi_{1}{\\left(t \\right)} \\right)} \\frac{d}{d t} \\phi_{1}{\\left(t \\right)} + 1.57047506870828 \\cdot 10^{-7} \\frac{d}{d t} x_{E}{\\left(t \\right)}\\right)}{m_{E}} + \\frac{6367500.0 m_{2} \\left(- \\sin{\\left(\\phi_{2}{\\left(t \\right)} \\right)} \\frac{d}{d t} \\phi_{2}{\\left(t \\right)} + 1.57047506870828 \\cdot 10^{-7} \\frac{d}{d t} x_{E}{\\left(t \\right)}\\right)}{m_{E}} + \\frac{d}{d t} x_{E}{\\left(t \\right)}$"
      ],
      "text/plain": [
       "6367500.0*m_1*(-sin(phi_1(t))*Derivative(phi_1(t), t) + 1.57047506870828e-7*Derivative(x_E(t), t))/m_E + 6367500.0*m_2*(-sin(phi_2(t))*Derivative(phi_2(t), t) + 1.57047506870828e-7*Derivative(x_E(t), t))/m_E + Derivative(x_E(t), t)"
      ]
     },
     "metadata": {},
     "output_type": "display_data"
    },
    {
     "name": "stdout",
     "output_type": "stream",
     "text": [
      "Equation 1:\n"
     ]
    },
    {
     "data": {
      "text/latex": [
       "$\\displaystyle m_{E} \\frac{d^{2}}{d t^{2}} x_{E}{\\left(t \\right)}$"
      ],
      "text/plain": [
       "m_E*Derivative(x_E(t), (t, 2))"
      ]
     },
     "metadata": {},
     "output_type": "display_data"
    },
    {
     "data": {
      "text/latex": [
       "$\\displaystyle \\frac{4.096 \\cdot 10^{-138} m_{M} \\left(2.55903851344719 \\cdot 10^{92} m_{1} \\left(\\left(x_{E}{\\left(t \\right)} - x_{M}{\\left(t \\right)}\\right)^{2} + \\left(y_{E}{\\left(t \\right)} - y_{M}{\\left(t \\right)}\\right)^{2}\\right)^{\\frac{3}{2}} \\left(\\left(1.57047506870828 \\cdot 10^{-7} x_{E}{\\left(t \\right)} - 1.57047506870828 \\cdot 10^{-7} x_{M}{\\left(t \\right)} + \\cos{\\left(\\phi_{2}{\\left(t \\right)} \\right)}\\right)^{2} + \\left(1.57047506870828 \\cdot 10^{-7} y_{E}{\\left(t \\right)} - 1.57047506870828 \\cdot 10^{-7} y_{M}{\\left(t \\right)} + \\sin{\\left(\\phi_{2}{\\left(t \\right)} \\right)}\\right)^{2}\\right)^{\\frac{3}{2}} \\left(- 246639194143429.0 x_{E}{\\left(t \\right)} + 246639194143429.0 x_{M}{\\left(t \\right)} - 1.57047506870828 \\cdot 10^{21} \\cos{\\left(\\phi_{1}{\\left(t \\right)} \\right)}\\right) + 2.55903851344719 \\cdot 10^{92} m_{2} \\left(\\left(x_{E}{\\left(t \\right)} - x_{M}{\\left(t \\right)}\\right)^{2} + \\left(y_{E}{\\left(t \\right)} - y_{M}{\\left(t \\right)}\\right)^{2}\\right)^{\\frac{3}{2}} \\left(\\left(1.57047506870828 \\cdot 10^{-7} x_{E}{\\left(t \\right)} - 1.57047506870828 \\cdot 10^{-7} x_{M}{\\left(t \\right)} + \\cos{\\left(\\phi_{1}{\\left(t \\right)} \\right)}\\right)^{2} + \\left(1.57047506870828 \\cdot 10^{-7} y_{E}{\\left(t \\right)} - 1.57047506870828 \\cdot 10^{-7} y_{M}{\\left(t \\right)} + \\sin{\\left(\\phi_{1}{\\left(t \\right)} \\right)}\\right)^{2}\\right)^{\\frac{3}{2}} \\left(- 246639194143429.0 x_{E}{\\left(t \\right)} + 246639194143429.0 x_{M}{\\left(t \\right)} - 1.57047506870828 \\cdot 10^{21} \\cos{\\left(\\phi_{2}{\\left(t \\right)} \\right)}\\right) + 1.6294677734375 \\cdot 10^{127} m_{E} \\left(\\left(1.57047506870828 \\cdot 10^{-7} x_{E}{\\left(t \\right)} - 1.57047506870828 \\cdot 10^{-7} x_{M}{\\left(t \\right)} + \\cos{\\left(\\phi_{1}{\\left(t \\right)} \\right)}\\right)^{2} + \\left(1.57047506870828 \\cdot 10^{-7} y_{E}{\\left(t \\right)} - 1.57047506870828 \\cdot 10^{-7} y_{M}{\\left(t \\right)} + \\sin{\\left(\\phi_{1}{\\left(t \\right)} \\right)}\\right)^{2}\\right)^{\\frac{3}{2}} \\left(\\left(1.57047506870828 \\cdot 10^{-7} x_{E}{\\left(t \\right)} - 1.57047506870828 \\cdot 10^{-7} x_{M}{\\left(t \\right)} + \\cos{\\left(\\phi_{2}{\\left(t \\right)} \\right)}\\right)^{2} + \\left(1.57047506870828 \\cdot 10^{-7} y_{E}{\\left(t \\right)} - 1.57047506870828 \\cdot 10^{-7} y_{M}{\\left(t \\right)} + \\sin{\\left(\\phi_{2}{\\left(t \\right)} \\right)}\\right)^{2}\\right)^{\\frac{3}{2}} \\left(- x_{E}{\\left(t \\right)} + x_{M}{\\left(t \\right)}\\right)\\right)}{m_{E} \\left(\\left(x_{E}{\\left(t \\right)} - x_{M}{\\left(t \\right)}\\right)^{2} + \\left(y_{E}{\\left(t \\right)} - y_{M}{\\left(t \\right)}\\right)^{2}\\right)^{\\frac{3}{2}} \\left(\\left(1.57047506870828 \\cdot 10^{-7} x_{E}{\\left(t \\right)} - 1.57047506870828 \\cdot 10^{-7} x_{M}{\\left(t \\right)} + \\cos{\\left(\\phi_{1}{\\left(t \\right)} \\right)}\\right)^{2} + \\left(1.57047506870828 \\cdot 10^{-7} y_{E}{\\left(t \\right)} - 1.57047506870828 \\cdot 10^{-7} y_{M}{\\left(t \\right)} + \\sin{\\left(\\phi_{1}{\\left(t \\right)} \\right)}\\right)^{2}\\right)^{\\frac{3}{2}} \\left(\\left(1.57047506870828 \\cdot 10^{-7} x_{E}{\\left(t \\right)} - 1.57047506870828 \\cdot 10^{-7} x_{M}{\\left(t \\right)} + \\cos{\\left(\\phi_{2}{\\left(t \\right)} \\right)}\\right)^{2} + \\left(1.57047506870828 \\cdot 10^{-7} y_{E}{\\left(t \\right)} - 1.57047506870828 \\cdot 10^{-7} y_{M}{\\left(t \\right)} + \\sin{\\left(\\phi_{2}{\\left(t \\right)} \\right)}\\right)^{2}\\right)^{\\frac{3}{2}}}$"
      ],
      "text/plain": [
       "4.096e-138*m_M*(2.55903851344719e+92*m_1*((x_E(t) - x_M(t))**2 + (y_E(t) - y_M(t))**2)**(3/2)*((1.57047506870828e-7*x_E(t) - 1.57047506870828e-7*x_M(t) + cos(phi_2(t)))**2 + (1.57047506870828e-7*y_E(t) - 1.57047506870828e-7*y_M(t) + sin(phi_2(t)))**2)**(3/2)*(-246639194143429.0*x_E(t) + 246639194143429.0*x_M(t) - 1.57047506870828e+21*cos(phi_1(t))) + 2.55903851344719e+92*m_2*((x_E(t) - x_M(t))**2 + (y_E(t) - y_M(t))**2)**(3/2)*((1.57047506870828e-7*x_E(t) - 1.57047506870828e-7*x_M(t) + cos(phi_1(t)))**2 + (1.57047506870828e-7*y_E(t) - 1.57047506870828e-7*y_M(t) + sin(phi_1(t)))**2)**(3/2)*(-246639194143429.0*x_E(t) + 246639194143429.0*x_M(t) - 1.57047506870828e+21*cos(phi_2(t))) + 1.6294677734375e+127*m_E*((1.57047506870828e-7*x_E(t) - 1.57047506870828e-7*x_M(t) + cos(phi_1(t)))**2 + (1.57047506870828e-7*y_E(t) - 1.57047506870828e-7*y_M(t) + sin(phi_1(t)))**2)**(3/2)*((1.57047506870828e-7*x_E(t) - 1.57047506870828e-7*x_M(t) + cos(phi_2(t)))**2 + (1.57047506870828e-7*y_E(t) - 1.57047506870828e-7*y_M(t) + sin(phi_2(t)))**2)**(3/2)*(-x_E(t) + x_M(t)))/(m_E*((x_E(t) - x_M(t))**2 + (y_E(t) - y_M(t))**2)**(3/2)*((1.57047506870828e-7*x_E(t) - 1.57047506870828e-7*x_M(t) + cos(phi_1(t)))**2 + (1.57047506870828e-7*y_E(t) - 1.57047506870828e-7*y_M(t) + sin(phi_1(t)))**2)**(3/2)*((1.57047506870828e-7*x_E(t) - 1.57047506870828e-7*x_M(t) + cos(phi_2(t)))**2 + (1.57047506870828e-7*y_E(t) - 1.57047506870828e-7*y_M(t) + sin(phi_2(t)))**2)**(3/2))"
      ]
     },
     "metadata": {},
     "output_type": "display_data"
    },
    {
     "name": "stdout",
     "output_type": "stream",
     "text": [
      "Equation 2:\n"
     ]
    },
    {
     "data": {
      "text/latex": [
       "$\\displaystyle \\frac{d}{d t} x_{M}{\\left(t \\right)}$"
      ],
      "text/plain": [
       "Derivative(x_M(t), t)"
      ]
     },
     "metadata": {},
     "output_type": "display_data"
    },
    {
     "data": {
      "text/latex": [
       "$\\displaystyle \\frac{d}{d t} x_{M}{\\left(t \\right)}$"
      ],
      "text/plain": [
       "Derivative(x_M(t), t)"
      ]
     },
     "metadata": {},
     "output_type": "display_data"
    },
    {
     "name": "stdout",
     "output_type": "stream",
     "text": [
      "Equation 3:\n"
     ]
    },
    {
     "data": {
      "text/latex": [
       "$\\displaystyle m_{M} \\frac{d^{2}}{d t^{2}} x_{M}{\\left(t \\right)}$"
      ],
      "text/plain": [
       "m_M*Derivative(x_M(t), (t, 2))"
      ]
     },
     "metadata": {},
     "output_type": "display_data"
    },
    {
     "data": {
      "text/latex": [
       "$\\displaystyle \\frac{2.58522806984136 \\cdot 10^{-31} m_{1} x_{E}{\\left(t \\right)}}{\\left(\\left(1.57047506870828 \\cdot 10^{-7} x_{E}{\\left(t \\right)} - 1.57047506870828 \\cdot 10^{-7} x_{M}{\\left(t \\right)} + \\cos{\\left(\\phi_{1}{\\left(t \\right)} \\right)}\\right)^{2} + \\left(1.57047506870828 \\cdot 10^{-7} y_{E}{\\left(t \\right)} - 1.57047506870828 \\cdot 10^{-7} y_{M}{\\left(t \\right)} + \\sin{\\left(\\phi_{1}{\\left(t \\right)} \\right)}\\right)^{2}\\right)^{\\frac{3}{2}}} - \\frac{2.58522806984136 \\cdot 10^{-31} m_{1} x_{M}{\\left(t \\right)}}{\\left(\\left(1.57047506870828 \\cdot 10^{-7} x_{E}{\\left(t \\right)} - 1.57047506870828 \\cdot 10^{-7} x_{M}{\\left(t \\right)} + \\cos{\\left(\\phi_{1}{\\left(t \\right)} \\right)}\\right)^{2} + \\left(1.57047506870828 \\cdot 10^{-7} y_{E}{\\left(t \\right)} - 1.57047506870828 \\cdot 10^{-7} y_{M}{\\left(t \\right)} + \\sin{\\left(\\phi_{1}{\\left(t \\right)} \\right)}\\right)^{2}\\right)^{\\frac{3}{2}}} + \\frac{1.64614397347148 \\cdot 10^{-24} m_{1} \\cos{\\left(\\phi_{1}{\\left(t \\right)} \\right)}}{\\left(\\left(1.57047506870828 \\cdot 10^{-7} x_{E}{\\left(t \\right)} - 1.57047506870828 \\cdot 10^{-7} x_{M}{\\left(t \\right)} + \\cos{\\left(\\phi_{1}{\\left(t \\right)} \\right)}\\right)^{2} + \\left(1.57047506870828 \\cdot 10^{-7} y_{E}{\\left(t \\right)} - 1.57047506870828 \\cdot 10^{-7} y_{M}{\\left(t \\right)} + \\sin{\\left(\\phi_{1}{\\left(t \\right)} \\right)}\\right)^{2}\\right)^{\\frac{3}{2}}} + \\frac{2.58522806984136 \\cdot 10^{-31} m_{2} x_{E}{\\left(t \\right)}}{\\left(\\left(1.57047506870828 \\cdot 10^{-7} x_{E}{\\left(t \\right)} - 1.57047506870828 \\cdot 10^{-7} x_{M}{\\left(t \\right)} + \\cos{\\left(\\phi_{2}{\\left(t \\right)} \\right)}\\right)^{2} + \\left(1.57047506870828 \\cdot 10^{-7} y_{E}{\\left(t \\right)} - 1.57047506870828 \\cdot 10^{-7} y_{M}{\\left(t \\right)} + \\sin{\\left(\\phi_{2}{\\left(t \\right)} \\right)}\\right)^{2}\\right)^{\\frac{3}{2}}} - \\frac{2.58522806984136 \\cdot 10^{-31} m_{2} x_{M}{\\left(t \\right)}}{\\left(\\left(1.57047506870828 \\cdot 10^{-7} x_{E}{\\left(t \\right)} - 1.57047506870828 \\cdot 10^{-7} x_{M}{\\left(t \\right)} + \\cos{\\left(\\phi_{2}{\\left(t \\right)} \\right)}\\right)^{2} + \\left(1.57047506870828 \\cdot 10^{-7} y_{E}{\\left(t \\right)} - 1.57047506870828 \\cdot 10^{-7} y_{M}{\\left(t \\right)} + \\sin{\\left(\\phi_{2}{\\left(t \\right)} \\right)}\\right)^{2}\\right)^{\\frac{3}{2}}} + \\frac{1.64614397347148 \\cdot 10^{-24} m_{2} \\cos{\\left(\\phi_{2}{\\left(t \\right)} \\right)}}{\\left(\\left(1.57047506870828 \\cdot 10^{-7} x_{E}{\\left(t \\right)} - 1.57047506870828 \\cdot 10^{-7} x_{M}{\\left(t \\right)} + \\cos{\\left(\\phi_{2}{\\left(t \\right)} \\right)}\\right)^{2} + \\left(1.57047506870828 \\cdot 10^{-7} y_{E}{\\left(t \\right)} - 1.57047506870828 \\cdot 10^{-7} y_{M}{\\left(t \\right)} + \\sin{\\left(\\phi_{2}{\\left(t \\right)} \\right)}\\right)^{2}\\right)^{\\frac{3}{2}}} + \\frac{6.6743 \\cdot 10^{-11} m_{E} x_{E}{\\left(t \\right)}}{\\left(\\left(x_{E}{\\left(t \\right)} - x_{M}{\\left(t \\right)}\\right)^{2} + \\left(y_{E}{\\left(t \\right)} - y_{M}{\\left(t \\right)}\\right)^{2}\\right)^{\\frac{3}{2}}} - \\frac{6.6743 \\cdot 10^{-11} m_{E} x_{M}{\\left(t \\right)}}{\\left(\\left(x_{E}{\\left(t \\right)} - x_{M}{\\left(t \\right)}\\right)^{2} + \\left(y_{E}{\\left(t \\right)} - y_{M}{\\left(t \\right)}\\right)^{2}\\right)^{\\frac{3}{2}}}$"
      ],
      "text/plain": [
       "2.58522806984136e-31*m_1*x_E(t)/((1.57047506870828e-7*x_E(t) - 1.57047506870828e-7*x_M(t) + cos(phi_1(t)))**2 + (1.57047506870828e-7*y_E(t) - 1.57047506870828e-7*y_M(t) + sin(phi_1(t)))**2)**(3/2) - 2.58522806984136e-31*m_1*x_M(t)/((1.57047506870828e-7*x_E(t) - 1.57047506870828e-7*x_M(t) + cos(phi_1(t)))**2 + (1.57047506870828e-7*y_E(t) - 1.57047506870828e-7*y_M(t) + sin(phi_1(t)))**2)**(3/2) + 1.64614397347148e-24*m_1*cos(phi_1(t))/((1.57047506870828e-7*x_E(t) - 1.57047506870828e-7*x_M(t) + cos(phi_1(t)))**2 + (1.57047506870828e-7*y_E(t) - 1.57047506870828e-7*y_M(t) + sin(phi_1(t)))**2)**(3/2) + 2.58522806984136e-31*m_2*x_E(t)/((1.57047506870828e-7*x_E(t) - 1.57047506870828e-7*x_M(t) + cos(phi_2(t)))**2 + (1.57047506870828e-7*y_E(t) - 1.57047506870828e-7*y_M(t) + sin(phi_2(t)))**2)**(3/2) - 2.58522806984136e-31*m_2*x_M(t)/((1.57047506870828e-7*x_E(t) - 1.57047506870828e-7*x_M(t) + cos(phi_2(t)))**2 + (1.57047506870828e-7*y_E(t) - 1.57047506870828e-7*y_M(t) + sin(phi_2(t)))**2)**(3/2) + 1.64614397347148e-24*m_2*cos(phi_2(t))/((1.57047506870828e-7*x_E(t) - 1.57047506870828e-7*x_M(t) + cos(phi_2(t)))**2 + (1.57047506870828e-7*y_E(t) - 1.57047506870828e-7*y_M(t) + sin(phi_2(t)))**2)**(3/2) + 6.6743e-11*m_E*x_E(t)/((x_E(t) - x_M(t))**2 + (y_E(t) - y_M(t))**2)**(3/2) - 6.6743e-11*m_E*x_M(t)/((x_E(t) - x_M(t))**2 + (y_E(t) - y_M(t))**2)**(3/2)"
      ]
     },
     "metadata": {},
     "output_type": "display_data"
    },
    {
     "name": "stdout",
     "output_type": "stream",
     "text": [
      "Equation 4:\n"
     ]
    },
    {
     "data": {
      "text/latex": [
       "$\\displaystyle \\frac{d}{d t} y_{E}{\\left(t \\right)}$"
      ],
      "text/plain": [
       "Derivative(y_E(t), t)"
      ]
     },
     "metadata": {},
     "output_type": "display_data"
    },
    {
     "data": {
      "text/latex": [
       "$\\displaystyle \\frac{6367500.0 m_{1} \\left(\\cos{\\left(\\phi_{1}{\\left(t \\right)} \\right)} \\frac{d}{d t} \\phi_{1}{\\left(t \\right)} + 1.57047506870828 \\cdot 10^{-7} \\frac{d}{d t} y_{E}{\\left(t \\right)}\\right)}{m_{E}} + \\frac{6367500.0 m_{2} \\left(\\cos{\\left(\\phi_{2}{\\left(t \\right)} \\right)} \\frac{d}{d t} \\phi_{2}{\\left(t \\right)} + 1.57047506870828 \\cdot 10^{-7} \\frac{d}{d t} y_{E}{\\left(t \\right)}\\right)}{m_{E}} + \\frac{d}{d t} y_{E}{\\left(t \\right)}$"
      ],
      "text/plain": [
       "6367500.0*m_1*(cos(phi_1(t))*Derivative(phi_1(t), t) + 1.57047506870828e-7*Derivative(y_E(t), t))/m_E + 6367500.0*m_2*(cos(phi_2(t))*Derivative(phi_2(t), t) + 1.57047506870828e-7*Derivative(y_E(t), t))/m_E + Derivative(y_E(t), t)"
      ]
     },
     "metadata": {},
     "output_type": "display_data"
    },
    {
     "name": "stdout",
     "output_type": "stream",
     "text": [
      "Equation 5:\n"
     ]
    },
    {
     "data": {
      "text/latex": [
       "$\\displaystyle m_{E} \\frac{d^{2}}{d t^{2}} y_{E}{\\left(t \\right)}$"
      ],
      "text/plain": [
       "m_E*Derivative(y_E(t), (t, 2))"
      ]
     },
     "metadata": {},
     "output_type": "display_data"
    },
    {
     "data": {
      "text/latex": [
       "$\\displaystyle \\frac{4.096 \\cdot 10^{-138} m_{M} \\left(2.55903851344719 \\cdot 10^{92} m_{1} \\left(\\left(x_{E}{\\left(t \\right)} - x_{M}{\\left(t \\right)}\\right)^{2} + \\left(y_{E}{\\left(t \\right)} - y_{M}{\\left(t \\right)}\\right)^{2}\\right)^{\\frac{3}{2}} \\left(\\left(1.57047506870828 \\cdot 10^{-7} x_{E}{\\left(t \\right)} - 1.57047506870828 \\cdot 10^{-7} x_{M}{\\left(t \\right)} + \\cos{\\left(\\phi_{2}{\\left(t \\right)} \\right)}\\right)^{2} + \\left(1.57047506870828 \\cdot 10^{-7} y_{E}{\\left(t \\right)} - 1.57047506870828 \\cdot 10^{-7} y_{M}{\\left(t \\right)} + \\sin{\\left(\\phi_{2}{\\left(t \\right)} \\right)}\\right)^{2}\\right)^{\\frac{3}{2}} \\left(- 246639194143429.0 y_{E}{\\left(t \\right)} + 246639194143429.0 y_{M}{\\left(t \\right)} - 1.57047506870828 \\cdot 10^{21} \\sin{\\left(\\phi_{1}{\\left(t \\right)} \\right)}\\right) + 2.55903851344719 \\cdot 10^{92} m_{2} \\left(\\left(x_{E}{\\left(t \\right)} - x_{M}{\\left(t \\right)}\\right)^{2} + \\left(y_{E}{\\left(t \\right)} - y_{M}{\\left(t \\right)}\\right)^{2}\\right)^{\\frac{3}{2}} \\left(\\left(1.57047506870828 \\cdot 10^{-7} x_{E}{\\left(t \\right)} - 1.57047506870828 \\cdot 10^{-7} x_{M}{\\left(t \\right)} + \\cos{\\left(\\phi_{1}{\\left(t \\right)} \\right)}\\right)^{2} + \\left(1.57047506870828 \\cdot 10^{-7} y_{E}{\\left(t \\right)} - 1.57047506870828 \\cdot 10^{-7} y_{M}{\\left(t \\right)} + \\sin{\\left(\\phi_{1}{\\left(t \\right)} \\right)}\\right)^{2}\\right)^{\\frac{3}{2}} \\left(- 246639194143429.0 y_{E}{\\left(t \\right)} + 246639194143429.0 y_{M}{\\left(t \\right)} - 1.57047506870828 \\cdot 10^{21} \\sin{\\left(\\phi_{2}{\\left(t \\right)} \\right)}\\right) + 1.6294677734375 \\cdot 10^{127} m_{E} \\left(\\left(1.57047506870828 \\cdot 10^{-7} x_{E}{\\left(t \\right)} - 1.57047506870828 \\cdot 10^{-7} x_{M}{\\left(t \\right)} + \\cos{\\left(\\phi_{1}{\\left(t \\right)} \\right)}\\right)^{2} + \\left(1.57047506870828 \\cdot 10^{-7} y_{E}{\\left(t \\right)} - 1.57047506870828 \\cdot 10^{-7} y_{M}{\\left(t \\right)} + \\sin{\\left(\\phi_{1}{\\left(t \\right)} \\right)}\\right)^{2}\\right)^{\\frac{3}{2}} \\left(\\left(1.57047506870828 \\cdot 10^{-7} x_{E}{\\left(t \\right)} - 1.57047506870828 \\cdot 10^{-7} x_{M}{\\left(t \\right)} + \\cos{\\left(\\phi_{2}{\\left(t \\right)} \\right)}\\right)^{2} + \\left(1.57047506870828 \\cdot 10^{-7} y_{E}{\\left(t \\right)} - 1.57047506870828 \\cdot 10^{-7} y_{M}{\\left(t \\right)} + \\sin{\\left(\\phi_{2}{\\left(t \\right)} \\right)}\\right)^{2}\\right)^{\\frac{3}{2}} \\left(- y_{E}{\\left(t \\right)} + y_{M}{\\left(t \\right)}\\right)\\right)}{m_{E} \\left(\\left(x_{E}{\\left(t \\right)} - x_{M}{\\left(t \\right)}\\right)^{2} + \\left(y_{E}{\\left(t \\right)} - y_{M}{\\left(t \\right)}\\right)^{2}\\right)^{\\frac{3}{2}} \\left(\\left(1.57047506870828 \\cdot 10^{-7} x_{E}{\\left(t \\right)} - 1.57047506870828 \\cdot 10^{-7} x_{M}{\\left(t \\right)} + \\cos{\\left(\\phi_{1}{\\left(t \\right)} \\right)}\\right)^{2} + \\left(1.57047506870828 \\cdot 10^{-7} y_{E}{\\left(t \\right)} - 1.57047506870828 \\cdot 10^{-7} y_{M}{\\left(t \\right)} + \\sin{\\left(\\phi_{1}{\\left(t \\right)} \\right)}\\right)^{2}\\right)^{\\frac{3}{2}} \\left(\\left(1.57047506870828 \\cdot 10^{-7} x_{E}{\\left(t \\right)} - 1.57047506870828 \\cdot 10^{-7} x_{M}{\\left(t \\right)} + \\cos{\\left(\\phi_{2}{\\left(t \\right)} \\right)}\\right)^{2} + \\left(1.57047506870828 \\cdot 10^{-7} y_{E}{\\left(t \\right)} - 1.57047506870828 \\cdot 10^{-7} y_{M}{\\left(t \\right)} + \\sin{\\left(\\phi_{2}{\\left(t \\right)} \\right)}\\right)^{2}\\right)^{\\frac{3}{2}}}$"
      ],
      "text/plain": [
       "4.096e-138*m_M*(2.55903851344719e+92*m_1*((x_E(t) - x_M(t))**2 + (y_E(t) - y_M(t))**2)**(3/2)*((1.57047506870828e-7*x_E(t) - 1.57047506870828e-7*x_M(t) + cos(phi_2(t)))**2 + (1.57047506870828e-7*y_E(t) - 1.57047506870828e-7*y_M(t) + sin(phi_2(t)))**2)**(3/2)*(-246639194143429.0*y_E(t) + 246639194143429.0*y_M(t) - 1.57047506870828e+21*sin(phi_1(t))) + 2.55903851344719e+92*m_2*((x_E(t) - x_M(t))**2 + (y_E(t) - y_M(t))**2)**(3/2)*((1.57047506870828e-7*x_E(t) - 1.57047506870828e-7*x_M(t) + cos(phi_1(t)))**2 + (1.57047506870828e-7*y_E(t) - 1.57047506870828e-7*y_M(t) + sin(phi_1(t)))**2)**(3/2)*(-246639194143429.0*y_E(t) + 246639194143429.0*y_M(t) - 1.57047506870828e+21*sin(phi_2(t))) + 1.6294677734375e+127*m_E*((1.57047506870828e-7*x_E(t) - 1.57047506870828e-7*x_M(t) + cos(phi_1(t)))**2 + (1.57047506870828e-7*y_E(t) - 1.57047506870828e-7*y_M(t) + sin(phi_1(t)))**2)**(3/2)*((1.57047506870828e-7*x_E(t) - 1.57047506870828e-7*x_M(t) + cos(phi_2(t)))**2 + (1.57047506870828e-7*y_E(t) - 1.57047506870828e-7*y_M(t) + sin(phi_2(t)))**2)**(3/2)*(-y_E(t) + y_M(t)))/(m_E*((x_E(t) - x_M(t))**2 + (y_E(t) - y_M(t))**2)**(3/2)*((1.57047506870828e-7*x_E(t) - 1.57047506870828e-7*x_M(t) + cos(phi_1(t)))**2 + (1.57047506870828e-7*y_E(t) - 1.57047506870828e-7*y_M(t) + sin(phi_1(t)))**2)**(3/2)*((1.57047506870828e-7*x_E(t) - 1.57047506870828e-7*x_M(t) + cos(phi_2(t)))**2 + (1.57047506870828e-7*y_E(t) - 1.57047506870828e-7*y_M(t) + sin(phi_2(t)))**2)**(3/2))"
      ]
     },
     "metadata": {},
     "output_type": "display_data"
    },
    {
     "name": "stdout",
     "output_type": "stream",
     "text": [
      "Equation 6:\n"
     ]
    },
    {
     "data": {
      "text/latex": [
       "$\\displaystyle \\frac{d}{d t} y_{M}{\\left(t \\right)}$"
      ],
      "text/plain": [
       "Derivative(y_M(t), t)"
      ]
     },
     "metadata": {},
     "output_type": "display_data"
    },
    {
     "data": {
      "text/latex": [
       "$\\displaystyle \\frac{d}{d t} y_{M}{\\left(t \\right)}$"
      ],
      "text/plain": [
       "Derivative(y_M(t), t)"
      ]
     },
     "metadata": {},
     "output_type": "display_data"
    },
    {
     "name": "stdout",
     "output_type": "stream",
     "text": [
      "Equation 7:\n"
     ]
    },
    {
     "data": {
      "text/latex": [
       "$\\displaystyle m_{M} \\frac{d^{2}}{d t^{2}} y_{M}{\\left(t \\right)}$"
      ],
      "text/plain": [
       "m_M*Derivative(y_M(t), (t, 2))"
      ]
     },
     "metadata": {},
     "output_type": "display_data"
    },
    {
     "data": {
      "text/latex": [
       "$\\displaystyle \\frac{2.58522806984136 \\cdot 10^{-31} m_{1} y_{E}{\\left(t \\right)}}{\\left(\\left(1.57047506870828 \\cdot 10^{-7} x_{E}{\\left(t \\right)} - 1.57047506870828 \\cdot 10^{-7} x_{M}{\\left(t \\right)} + \\cos{\\left(\\phi_{1}{\\left(t \\right)} \\right)}\\right)^{2} + \\left(1.57047506870828 \\cdot 10^{-7} y_{E}{\\left(t \\right)} - 1.57047506870828 \\cdot 10^{-7} y_{M}{\\left(t \\right)} + \\sin{\\left(\\phi_{1}{\\left(t \\right)} \\right)}\\right)^{2}\\right)^{\\frac{3}{2}}} - \\frac{2.58522806984136 \\cdot 10^{-31} m_{1} y_{M}{\\left(t \\right)}}{\\left(\\left(1.57047506870828 \\cdot 10^{-7} x_{E}{\\left(t \\right)} - 1.57047506870828 \\cdot 10^{-7} x_{M}{\\left(t \\right)} + \\cos{\\left(\\phi_{1}{\\left(t \\right)} \\right)}\\right)^{2} + \\left(1.57047506870828 \\cdot 10^{-7} y_{E}{\\left(t \\right)} - 1.57047506870828 \\cdot 10^{-7} y_{M}{\\left(t \\right)} + \\sin{\\left(\\phi_{1}{\\left(t \\right)} \\right)}\\right)^{2}\\right)^{\\frac{3}{2}}} + \\frac{1.64614397347148 \\cdot 10^{-24} m_{1} \\sin{\\left(\\phi_{1}{\\left(t \\right)} \\right)}}{\\left(\\left(1.57047506870828 \\cdot 10^{-7} x_{E}{\\left(t \\right)} - 1.57047506870828 \\cdot 10^{-7} x_{M}{\\left(t \\right)} + \\cos{\\left(\\phi_{1}{\\left(t \\right)} \\right)}\\right)^{2} + \\left(1.57047506870828 \\cdot 10^{-7} y_{E}{\\left(t \\right)} - 1.57047506870828 \\cdot 10^{-7} y_{M}{\\left(t \\right)} + \\sin{\\left(\\phi_{1}{\\left(t \\right)} \\right)}\\right)^{2}\\right)^{\\frac{3}{2}}} + \\frac{2.58522806984136 \\cdot 10^{-31} m_{2} y_{E}{\\left(t \\right)}}{\\left(\\left(1.57047506870828 \\cdot 10^{-7} x_{E}{\\left(t \\right)} - 1.57047506870828 \\cdot 10^{-7} x_{M}{\\left(t \\right)} + \\cos{\\left(\\phi_{2}{\\left(t \\right)} \\right)}\\right)^{2} + \\left(1.57047506870828 \\cdot 10^{-7} y_{E}{\\left(t \\right)} - 1.57047506870828 \\cdot 10^{-7} y_{M}{\\left(t \\right)} + \\sin{\\left(\\phi_{2}{\\left(t \\right)} \\right)}\\right)^{2}\\right)^{\\frac{3}{2}}} - \\frac{2.58522806984136 \\cdot 10^{-31} m_{2} y_{M}{\\left(t \\right)}}{\\left(\\left(1.57047506870828 \\cdot 10^{-7} x_{E}{\\left(t \\right)} - 1.57047506870828 \\cdot 10^{-7} x_{M}{\\left(t \\right)} + \\cos{\\left(\\phi_{2}{\\left(t \\right)} \\right)}\\right)^{2} + \\left(1.57047506870828 \\cdot 10^{-7} y_{E}{\\left(t \\right)} - 1.57047506870828 \\cdot 10^{-7} y_{M}{\\left(t \\right)} + \\sin{\\left(\\phi_{2}{\\left(t \\right)} \\right)}\\right)^{2}\\right)^{\\frac{3}{2}}} + \\frac{1.64614397347148 \\cdot 10^{-24} m_{2} \\sin{\\left(\\phi_{2}{\\left(t \\right)} \\right)}}{\\left(\\left(1.57047506870828 \\cdot 10^{-7} x_{E}{\\left(t \\right)} - 1.57047506870828 \\cdot 10^{-7} x_{M}{\\left(t \\right)} + \\cos{\\left(\\phi_{2}{\\left(t \\right)} \\right)}\\right)^{2} + \\left(1.57047506870828 \\cdot 10^{-7} y_{E}{\\left(t \\right)} - 1.57047506870828 \\cdot 10^{-7} y_{M}{\\left(t \\right)} + \\sin{\\left(\\phi_{2}{\\left(t \\right)} \\right)}\\right)^{2}\\right)^{\\frac{3}{2}}} + \\frac{6.6743 \\cdot 10^{-11} m_{E} y_{E}{\\left(t \\right)}}{\\left(\\left(x_{E}{\\left(t \\right)} - x_{M}{\\left(t \\right)}\\right)^{2} + \\left(y_{E}{\\left(t \\right)} - y_{M}{\\left(t \\right)}\\right)^{2}\\right)^{\\frac{3}{2}}} - \\frac{6.6743 \\cdot 10^{-11} m_{E} y_{M}{\\left(t \\right)}}{\\left(\\left(x_{E}{\\left(t \\right)} - x_{M}{\\left(t \\right)}\\right)^{2} + \\left(y_{E}{\\left(t \\right)} - y_{M}{\\left(t \\right)}\\right)^{2}\\right)^{\\frac{3}{2}}}$"
      ],
      "text/plain": [
       "2.58522806984136e-31*m_1*y_E(t)/((1.57047506870828e-7*x_E(t) - 1.57047506870828e-7*x_M(t) + cos(phi_1(t)))**2 + (1.57047506870828e-7*y_E(t) - 1.57047506870828e-7*y_M(t) + sin(phi_1(t)))**2)**(3/2) - 2.58522806984136e-31*m_1*y_M(t)/((1.57047506870828e-7*x_E(t) - 1.57047506870828e-7*x_M(t) + cos(phi_1(t)))**2 + (1.57047506870828e-7*y_E(t) - 1.57047506870828e-7*y_M(t) + sin(phi_1(t)))**2)**(3/2) + 1.64614397347148e-24*m_1*sin(phi_1(t))/((1.57047506870828e-7*x_E(t) - 1.57047506870828e-7*x_M(t) + cos(phi_1(t)))**2 + (1.57047506870828e-7*y_E(t) - 1.57047506870828e-7*y_M(t) + sin(phi_1(t)))**2)**(3/2) + 2.58522806984136e-31*m_2*y_E(t)/((1.57047506870828e-7*x_E(t) - 1.57047506870828e-7*x_M(t) + cos(phi_2(t)))**2 + (1.57047506870828e-7*y_E(t) - 1.57047506870828e-7*y_M(t) + sin(phi_2(t)))**2)**(3/2) - 2.58522806984136e-31*m_2*y_M(t)/((1.57047506870828e-7*x_E(t) - 1.57047506870828e-7*x_M(t) + cos(phi_2(t)))**2 + (1.57047506870828e-7*y_E(t) - 1.57047506870828e-7*y_M(t) + sin(phi_2(t)))**2)**(3/2) + 1.64614397347148e-24*m_2*sin(phi_2(t))/((1.57047506870828e-7*x_E(t) - 1.57047506870828e-7*x_M(t) + cos(phi_2(t)))**2 + (1.57047506870828e-7*y_E(t) - 1.57047506870828e-7*y_M(t) + sin(phi_2(t)))**2)**(3/2) + 6.6743e-11*m_E*y_E(t)/((x_E(t) - x_M(t))**2 + (y_E(t) - y_M(t))**2)**(3/2) - 6.6743e-11*m_E*y_M(t)/((x_E(t) - x_M(t))**2 + (y_E(t) - y_M(t))**2)**(3/2)"
      ]
     },
     "metadata": {},
     "output_type": "display_data"
    },
    {
     "name": "stdout",
     "output_type": "stream",
     "text": [
      "Equation 8:\n"
     ]
    },
    {
     "data": {
      "text/latex": [
       "$\\displaystyle \\frac{d}{d t} \\phi_{1}{\\left(t \\right)}$"
      ],
      "text/plain": [
       "Derivative(phi_1(t), t)"
      ]
     },
     "metadata": {},
     "output_type": "display_data"
    },
    {
     "data": {
      "text/latex": [
       "$\\displaystyle \\frac{1.0 m_{1} \\sqrt{\\left(- \\sin{\\left(\\phi_{1}{\\left(t \\right)} \\right)} \\frac{d}{d t} \\phi_{1}{\\left(t \\right)} + 1.57047506870828 \\cdot 10^{-7} \\frac{d}{d t} x_{E}{\\left(t \\right)}\\right)^{2} + \\left(\\cos{\\left(\\phi_{1}{\\left(t \\right)} \\right)} \\frac{d}{d t} \\phi_{1}{\\left(t \\right)} + 1.57047506870828 \\cdot 10^{-7} \\frac{d}{d t} y_{E}{\\left(t \\right)}\\right)^{2}} \\left(\\frac{d}{d t} x_{E}{\\left(t \\right)} - \\frac{5.0 \\cdot 10^{-18} \\cdot \\left(1.99999999999999 \\cdot 10^{17} m_{1} \\left(\\sin{\\left(\\phi_{1}{\\left(t \\right)} \\right)} \\frac{d}{d t} x_{E}{\\left(t \\right)} - \\cos{\\left(\\phi_{1}{\\left(t \\right)} \\right)} \\frac{d}{d t} y_{E}{\\left(t \\right)}\\right) - 1.2735 \\cdot 10^{24} \\sqrt{m_{1}^{2} \\left(\\left(- \\sin{\\left(\\phi_{1}{\\left(t \\right)} \\right)} \\frac{d}{d t} \\phi_{1}{\\left(t \\right)} + 1.57047506870828 \\cdot 10^{-7} \\frac{d}{d t} x_{E}{\\left(t \\right)}\\right)^{2} + \\left(\\cos{\\left(\\phi_{1}{\\left(t \\right)} \\right)} \\frac{d}{d t} \\phi_{1}{\\left(t \\right)} + 1.57047506870828 \\cdot 10^{-7} \\frac{d}{d t} y_{E}{\\left(t \\right)}\\right)^{2}\\right) + 1.23319597071714 \\cdot 10^{-14} m_{1}^{2} \\left(- 2.0 \\sin{\\left(2.0 \\phi_{1}{\\left(t \\right)} \\right)} \\frac{d}{d t} x_{E}{\\left(t \\right)} \\frac{d}{d t} y_{E}{\\left(t \\right)} - \\cos{\\left(2.0 \\phi_{1}{\\left(t \\right)} \\right)} \\left(\\frac{d}{d t} x_{E}{\\left(t \\right)}\\right)^{2} + \\cos{\\left(2.0 \\phi_{1}{\\left(t \\right)} \\right)} \\left(\\frac{d}{d t} y_{E}{\\left(t \\right)}\\right)^{2} - \\left(\\frac{d}{d t} x_{E}{\\left(t \\right)}\\right)^{2} - \\left(\\frac{d}{d t} y_{E}{\\left(t \\right)}\\right)^{2}\\right)}\\right) \\sin{\\left(\\phi_{1}{\\left(t \\right)} \\right)}}{m_{1}}\\right) \\sin{\\left(\\phi_{1}{\\left(t \\right)} \\right)}}{\\sqrt{m_{1}^{2} \\left(\\left(- \\sin{\\left(\\phi_{1}{\\left(t \\right)} \\right)} \\frac{d}{d t} \\phi_{1}{\\left(t \\right)} + 1.57047506870828 \\cdot 10^{-7} \\frac{d}{d t} x_{E}{\\left(t \\right)}\\right)^{2} + \\left(\\cos{\\left(\\phi_{1}{\\left(t \\right)} \\right)} \\frac{d}{d t} \\phi_{1}{\\left(t \\right)} + 1.57047506870828 \\cdot 10^{-7} \\frac{d}{d t} y_{E}{\\left(t \\right)}\\right)^{2}\\right) + 1.23319597071714 \\cdot 10^{-14} m_{1}^{2} \\left(- 2.0 \\sin{\\left(2.0 \\phi_{1}{\\left(t \\right)} \\right)} \\frac{d}{d t} x_{E}{\\left(t \\right)} \\frac{d}{d t} y_{E}{\\left(t \\right)} - \\cos{\\left(2.0 \\phi_{1}{\\left(t \\right)} \\right)} \\left(\\frac{d}{d t} x_{E}{\\left(t \\right)}\\right)^{2} + \\cos{\\left(2.0 \\phi_{1}{\\left(t \\right)} \\right)} \\left(\\frac{d}{d t} y_{E}{\\left(t \\right)}\\right)^{2} - \\left(\\frac{d}{d t} x_{E}{\\left(t \\right)}\\right)^{2} - \\left(\\frac{d}{d t} y_{E}{\\left(t \\right)}\\right)^{2}\\right)}} - \\frac{1.0 m_{1} \\sqrt{\\left(- \\sin{\\left(\\phi_{1}{\\left(t \\right)} \\right)} \\frac{d}{d t} \\phi_{1}{\\left(t \\right)} + 1.57047506870828 \\cdot 10^{-7} \\frac{d}{d t} x_{E}{\\left(t \\right)}\\right)^{2} + \\left(\\cos{\\left(\\phi_{1}{\\left(t \\right)} \\right)} \\frac{d}{d t} \\phi_{1}{\\left(t \\right)} + 1.57047506870828 \\cdot 10^{-7} \\frac{d}{d t} y_{E}{\\left(t \\right)}\\right)^{2}} \\left(\\frac{d}{d t} y_{E}{\\left(t \\right)} + \\frac{5.0 \\cdot 10^{-18} \\cdot \\left(1.99999999999999 \\cdot 10^{17} m_{1} \\left(\\sin{\\left(\\phi_{1}{\\left(t \\right)} \\right)} \\frac{d}{d t} x_{E}{\\left(t \\right)} - \\cos{\\left(\\phi_{1}{\\left(t \\right)} \\right)} \\frac{d}{d t} y_{E}{\\left(t \\right)}\\right) - 1.2735 \\cdot 10^{24} \\sqrt{m_{1}^{2} \\left(\\left(- \\sin{\\left(\\phi_{1}{\\left(t \\right)} \\right)} \\frac{d}{d t} \\phi_{1}{\\left(t \\right)} + 1.57047506870828 \\cdot 10^{-7} \\frac{d}{d t} x_{E}{\\left(t \\right)}\\right)^{2} + \\left(\\cos{\\left(\\phi_{1}{\\left(t \\right)} \\right)} \\frac{d}{d t} \\phi_{1}{\\left(t \\right)} + 1.57047506870828 \\cdot 10^{-7} \\frac{d}{d t} y_{E}{\\left(t \\right)}\\right)^{2}\\right) + 1.23319597071714 \\cdot 10^{-14} m_{1}^{2} \\left(- 2.0 \\sin{\\left(2.0 \\phi_{1}{\\left(t \\right)} \\right)} \\frac{d}{d t} x_{E}{\\left(t \\right)} \\frac{d}{d t} y_{E}{\\left(t \\right)} - \\cos{\\left(2.0 \\phi_{1}{\\left(t \\right)} \\right)} \\left(\\frac{d}{d t} x_{E}{\\left(t \\right)}\\right)^{2} + \\cos{\\left(2.0 \\phi_{1}{\\left(t \\right)} \\right)} \\left(\\frac{d}{d t} y_{E}{\\left(t \\right)}\\right)^{2} - \\left(\\frac{d}{d t} x_{E}{\\left(t \\right)}\\right)^{2} - \\left(\\frac{d}{d t} y_{E}{\\left(t \\right)}\\right)^{2}\\right)}\\right) \\cos{\\left(\\phi_{1}{\\left(t \\right)} \\right)}}{m_{1}}\\right) \\cos{\\left(\\phi_{1}{\\left(t \\right)} \\right)}}{\\sqrt{m_{1}^{2} \\left(\\left(- \\sin{\\left(\\phi_{1}{\\left(t \\right)} \\right)} \\frac{d}{d t} \\phi_{1}{\\left(t \\right)} + 1.57047506870828 \\cdot 10^{-7} \\frac{d}{d t} x_{E}{\\left(t \\right)}\\right)^{2} + \\left(\\cos{\\left(\\phi_{1}{\\left(t \\right)} \\right)} \\frac{d}{d t} \\phi_{1}{\\left(t \\right)} + 1.57047506870828 \\cdot 10^{-7} \\frac{d}{d t} y_{E}{\\left(t \\right)}\\right)^{2}\\right) + 1.23319597071714 \\cdot 10^{-14} m_{1}^{2} \\left(- 2.0 \\sin{\\left(2.0 \\phi_{1}{\\left(t \\right)} \\right)} \\frac{d}{d t} x_{E}{\\left(t \\right)} \\frac{d}{d t} y_{E}{\\left(t \\right)} - \\cos{\\left(2.0 \\phi_{1}{\\left(t \\right)} \\right)} \\left(\\frac{d}{d t} x_{E}{\\left(t \\right)}\\right)^{2} + \\cos{\\left(2.0 \\phi_{1}{\\left(t \\right)} \\right)} \\left(\\frac{d}{d t} y_{E}{\\left(t \\right)}\\right)^{2} - \\left(\\frac{d}{d t} x_{E}{\\left(t \\right)}\\right)^{2} - \\left(\\frac{d}{d t} y_{E}{\\left(t \\right)}\\right)^{2}\\right)}}$"
      ],
      "text/plain": [
       "1.0*m_1*sqrt((-sin(phi_1(t))*Derivative(phi_1(t), t) + 1.57047506870828e-7*Derivative(x_E(t), t))**2 + (cos(phi_1(t))*Derivative(phi_1(t), t) + 1.57047506870828e-7*Derivative(y_E(t), t))**2)*(Derivative(x_E(t), t) - 5.0e-18*(1.99999999999999e+17*m_1*(sin(phi_1(t))*Derivative(x_E(t), t) - cos(phi_1(t))*Derivative(y_E(t), t)) - 1.2735e+24*sqrt(m_1**2*((-sin(phi_1(t))*Derivative(phi_1(t), t) + 1.57047506870828e-7*Derivative(x_E(t), t))**2 + (cos(phi_1(t))*Derivative(phi_1(t), t) + 1.57047506870828e-7*Derivative(y_E(t), t))**2) + 1.23319597071714e-14*m_1**2*(-2.0*sin(2.0*phi_1(t))*Derivative(x_E(t), t)*Derivative(y_E(t), t) - cos(2.0*phi_1(t))*Derivative(x_E(t), t)**2 + cos(2.0*phi_1(t))*Derivative(y_E(t), t)**2 - Derivative(x_E(t), t)**2 - Derivative(y_E(t), t)**2)))*sin(phi_1(t))/m_1)*sin(phi_1(t))/sqrt(m_1**2*((-sin(phi_1(t))*Derivative(phi_1(t), t) + 1.57047506870828e-7*Derivative(x_E(t), t))**2 + (cos(phi_1(t))*Derivative(phi_1(t), t) + 1.57047506870828e-7*Derivative(y_E(t), t))**2) + 1.23319597071714e-14*m_1**2*(-2.0*sin(2.0*phi_1(t))*Derivative(x_E(t), t)*Derivative(y_E(t), t) - cos(2.0*phi_1(t))*Derivative(x_E(t), t)**2 + cos(2.0*phi_1(t))*Derivative(y_E(t), t)**2 - Derivative(x_E(t), t)**2 - Derivative(y_E(t), t)**2)) - 1.0*m_1*sqrt((-sin(phi_1(t))*Derivative(phi_1(t), t) + 1.57047506870828e-7*Derivative(x_E(t), t))**2 + (cos(phi_1(t))*Derivative(phi_1(t), t) + 1.57047506870828e-7*Derivative(y_E(t), t))**2)*(Derivative(y_E(t), t) + 5.0e-18*(1.99999999999999e+17*m_1*(sin(phi_1(t))*Derivative(x_E(t), t) - cos(phi_1(t))*Derivative(y_E(t), t)) - 1.2735e+24*sqrt(m_1**2*((-sin(phi_1(t))*Derivative(phi_1(t), t) + 1.57047506870828e-7*Derivative(x_E(t), t))**2 + (cos(phi_1(t))*Derivative(phi_1(t), t) + 1.57047506870828e-7*Derivative(y_E(t), t))**2) + 1.23319597071714e-14*m_1**2*(-2.0*sin(2.0*phi_1(t))*Derivative(x_E(t), t)*Derivative(y_E(t), t) - cos(2.0*phi_1(t))*Derivative(x_E(t), t)**2 + cos(2.0*phi_1(t))*Derivative(y_E(t), t)**2 - Derivative(x_E(t), t)**2 - Derivative(y_E(t), t)**2)))*cos(phi_1(t))/m_1)*cos(phi_1(t))/sqrt(m_1**2*((-sin(phi_1(t))*Derivative(phi_1(t), t) + 1.57047506870828e-7*Derivative(x_E(t), t))**2 + (cos(phi_1(t))*Derivative(phi_1(t), t) + 1.57047506870828e-7*Derivative(y_E(t), t))**2) + 1.23319597071714e-14*m_1**2*(-2.0*sin(2.0*phi_1(t))*Derivative(x_E(t), t)*Derivative(y_E(t), t) - cos(2.0*phi_1(t))*Derivative(x_E(t), t)**2 + cos(2.0*phi_1(t))*Derivative(y_E(t), t)**2 - Derivative(x_E(t), t)**2 - Derivative(y_E(t), t)**2))"
      ]
     },
     "metadata": {},
     "output_type": "display_data"
    },
    {
     "name": "stdout",
     "output_type": "stream",
     "text": [
      "Equation 9:\n"
     ]
    },
    {
     "data": {
      "text/latex": [
       "$\\displaystyle \\frac{6367500.0 m_{1} \\left(\\frac{\\left(- \\sin{\\left(\\phi_{1}{\\left(t \\right)} \\right)} \\frac{d}{d t} \\phi_{1}{\\left(t \\right)} + 1.57047506870828 \\cdot 10^{-7} \\frac{d}{d t} x_{E}{\\left(t \\right)}\\right) \\left(- 2 \\sin{\\left(\\phi_{1}{\\left(t \\right)} \\right)} \\frac{d^{2}}{d t^{2}} \\phi_{1}{\\left(t \\right)} - 2 \\cos{\\left(\\phi_{1}{\\left(t \\right)} \\right)} \\left(\\frac{d}{d t} \\phi_{1}{\\left(t \\right)}\\right)^{2} + 3.14095013741657 \\cdot 10^{-7} \\frac{d^{2}}{d t^{2}} x_{E}{\\left(t \\right)}\\right)}{2} + \\frac{\\left(\\cos{\\left(\\phi_{1}{\\left(t \\right)} \\right)} \\frac{d}{d t} \\phi_{1}{\\left(t \\right)} + 1.57047506870828 \\cdot 10^{-7} \\frac{d}{d t} y_{E}{\\left(t \\right)}\\right) \\left(- 2 \\sin{\\left(\\phi_{1}{\\left(t \\right)} \\right)} \\left(\\frac{d}{d t} \\phi_{1}{\\left(t \\right)}\\right)^{2} + 2 \\cos{\\left(\\phi_{1}{\\left(t \\right)} \\right)} \\frac{d^{2}}{d t^{2}} \\phi_{1}{\\left(t \\right)} + 3.14095013741657 \\cdot 10^{-7} \\frac{d^{2}}{d t^{2}} y_{E}{\\left(t \\right)}\\right)}{2}\\right)}{\\sqrt{\\left(- \\sin{\\left(\\phi_{1}{\\left(t \\right)} \\right)} \\frac{d}{d t} \\phi_{1}{\\left(t \\right)} + 1.57047506870828 \\cdot 10^{-7} \\frac{d}{d t} x_{E}{\\left(t \\right)}\\right)^{2} + \\left(\\cos{\\left(\\phi_{1}{\\left(t \\right)} \\right)} \\frac{d}{d t} \\phi_{1}{\\left(t \\right)} + 1.57047506870828 \\cdot 10^{-7} \\frac{d}{d t} y_{E}{\\left(t \\right)}\\right)^{2}}}$"
      ],
      "text/plain": [
       "6367500.0*m_1*((-sin(phi_1(t))*Derivative(phi_1(t), t) + 1.57047506870828e-7*Derivative(x_E(t), t))*(-2*sin(phi_1(t))*Derivative(phi_1(t), (t, 2)) - 2*cos(phi_1(t))*Derivative(phi_1(t), t)**2 + 3.14095013741657e-7*Derivative(x_E(t), (t, 2)))/2 + (cos(phi_1(t))*Derivative(phi_1(t), t) + 1.57047506870828e-7*Derivative(y_E(t), t))*(-2*sin(phi_1(t))*Derivative(phi_1(t), t)**2 + 2*cos(phi_1(t))*Derivative(phi_1(t), (t, 2)) + 3.14095013741657e-7*Derivative(y_E(t), (t, 2)))/2)/sqrt((-sin(phi_1(t))*Derivative(phi_1(t), t) + 1.57047506870828e-7*Derivative(x_E(t), t))**2 + (cos(phi_1(t))*Derivative(phi_1(t), t) + 1.57047506870828e-7*Derivative(y_E(t), t))**2)"
      ]
     },
     "metadata": {},
     "output_type": "display_data"
    },
    {
     "data": {
      "text/latex": [
       "$\\displaystyle \\frac{1.25638005496663 \\cdot 10^{-86} \\cdot \\left(5.14419991709839 \\cdot 10^{75} m_{M} \\sqrt{\\left(\\sin{\\left(\\phi_{1}{\\left(t \\right)} \\right)} \\frac{d}{d t} \\phi_{1}{\\left(t \\right)} - 1.57047506870828 \\cdot 10^{-7} \\frac{d}{d t} x_{E}{\\left(t \\right)}\\right)^{2} + \\left(\\cos{\\left(\\phi_{1}{\\left(t \\right)} \\right)} \\frac{d}{d t} \\phi_{1}{\\left(t \\right)} + 1.57047506870828 \\cdot 10^{-7} \\frac{d}{d t} y_{E}{\\left(t \\right)}\\right)^{2}} x_{E}{\\left(t \\right)} \\sin{\\left(\\phi_{1}{\\left(t \\right)} \\right)} - 5.14419991709839 \\cdot 10^{75} m_{M} \\sqrt{\\left(\\sin{\\left(\\phi_{1}{\\left(t \\right)} \\right)} \\frac{d}{d t} \\phi_{1}{\\left(t \\right)} - 1.57047506870828 \\cdot 10^{-7} \\frac{d}{d t} x_{E}{\\left(t \\right)}\\right)^{2} + \\left(\\cos{\\left(\\phi_{1}{\\left(t \\right)} \\right)} \\frac{d}{d t} \\phi_{1}{\\left(t \\right)} + 1.57047506870828 \\cdot 10^{-7} \\frac{d}{d t} y_{E}{\\left(t \\right)}\\right)^{2}} x_{M}{\\left(t \\right)} \\sin{\\left(\\phi_{1}{\\left(t \\right)} \\right)} - 5.14419991709839 \\cdot 10^{75} m_{M} \\sqrt{\\left(\\sin{\\left(\\phi_{1}{\\left(t \\right)} \\right)} \\frac{d}{d t} \\phi_{1}{\\left(t \\right)} - 1.57047506870828 \\cdot 10^{-7} \\frac{d}{d t} x_{E}{\\left(t \\right)}\\right)^{2} + \\left(\\cos{\\left(\\phi_{1}{\\left(t \\right)} \\right)} \\frac{d}{d t} \\phi_{1}{\\left(t \\right)} + 1.57047506870828 \\cdot 10^{-7} \\frac{d}{d t} y_{E}{\\left(t \\right)}\\right)^{2}} y_{E}{\\left(t \\right)} \\cos{\\left(\\phi_{1}{\\left(t \\right)} \\right)} + 5.14419991709839 \\cdot 10^{75} m_{M} \\sqrt{\\left(\\sin{\\left(\\phi_{1}{\\left(t \\right)} \\right)} \\frac{d}{d t} \\phi_{1}{\\left(t \\right)} - 1.57047506870828 \\cdot 10^{-7} \\frac{d}{d t} x_{E}{\\left(t \\right)}\\right)^{2} + \\left(\\cos{\\left(\\phi_{1}{\\left(t \\right)} \\right)} \\frac{d}{d t} \\phi_{1}{\\left(t \\right)} + 1.57047506870828 \\cdot 10^{-7} \\frac{d}{d t} y_{E}{\\left(t \\right)}\\right)^{2}} y_{M}{\\left(t \\right)} \\cos{\\left(\\phi_{1}{\\left(t \\right)} \\right)} + 1.98984374999999 \\cdot 10^{106} \\sqrt{\\left(\\sin{\\left(\\phi_{1}{\\left(t \\right)} \\right)} \\frac{d}{d t} \\phi_{1}{\\left(t \\right)} - 1.57047506870828 \\cdot 10^{-7} \\frac{d}{d t} x_{E}{\\left(t \\right)}\\right)^{2} + \\left(\\cos{\\left(\\phi_{1}{\\left(t \\right)} \\right)} \\frac{d}{d t} \\phi_{1}{\\left(t \\right)} + 1.57047506870828 \\cdot 10^{-7} \\frac{d}{d t} y_{E}{\\left(t \\right)}\\right)^{2}} \\left(\\left(1.57047506870828 \\cdot 10^{-7} x_{E}{\\left(t \\right)} - 1.57047506870828 \\cdot 10^{-7} x_{M}{\\left(t \\right)} + \\cos{\\left(\\phi_{1}{\\left(t \\right)} \\right)}\\right)^{2} + \\left(1.57047506870828 \\cdot 10^{-7} y_{E}{\\left(t \\right)} - 1.57047506870828 \\cdot 10^{-7} y_{M}{\\left(t \\right)} + \\sin{\\left(\\phi_{1}{\\left(t \\right)} \\right)}\\right)^{2}\\right)^{\\frac{3}{2}} \\sin{\\left(\\phi_{1}{\\left(t \\right)} \\right)} \\frac{d}{d t} \\phi_{1}{\\left(t \\right)} \\frac{d}{d t} y_{E}{\\left(t \\right)} + 1.98984374999999 \\cdot 10^{106} \\sqrt{\\left(\\sin{\\left(\\phi_{1}{\\left(t \\right)} \\right)} \\frac{d}{d t} \\phi_{1}{\\left(t \\right)} - 1.57047506870828 \\cdot 10^{-7} \\frac{d}{d t} x_{E}{\\left(t \\right)}\\right)^{2} + \\left(\\cos{\\left(\\phi_{1}{\\left(t \\right)} \\right)} \\frac{d}{d t} \\phi_{1}{\\left(t \\right)} + 1.57047506870828 \\cdot 10^{-7} \\frac{d}{d t} y_{E}{\\left(t \\right)}\\right)^{2}} \\left(\\left(1.57047506870828 \\cdot 10^{-7} x_{E}{\\left(t \\right)} - 1.57047506870828 \\cdot 10^{-7} x_{M}{\\left(t \\right)} + \\cos{\\left(\\phi_{1}{\\left(t \\right)} \\right)}\\right)^{2} + \\left(1.57047506870828 \\cdot 10^{-7} y_{E}{\\left(t \\right)} - 1.57047506870828 \\cdot 10^{-7} y_{M}{\\left(t \\right)} + \\sin{\\left(\\phi_{1}{\\left(t \\right)} \\right)}\\right)^{2}\\right)^{\\frac{3}{2}} \\cos{\\left(\\phi_{1}{\\left(t \\right)} \\right)} \\frac{d}{d t} \\phi_{1}{\\left(t \\right)} \\frac{d}{d t} x_{E}{\\left(t \\right)} + 3.12499999999999 \\cdot 10^{99} \\left(\\left(1.57047506870828 \\cdot 10^{-7} x_{E}{\\left(t \\right)} - 1.57047506870828 \\cdot 10^{-7} x_{M}{\\left(t \\right)} + \\cos{\\left(\\phi_{1}{\\left(t \\right)} \\right)}\\right)^{2} + \\left(1.57047506870828 \\cdot 10^{-7} y_{E}{\\left(t \\right)} - 1.57047506870828 \\cdot 10^{-7} y_{M}{\\left(t \\right)} + \\sin{\\left(\\phi_{1}{\\left(t \\right)} \\right)}\\right)^{2}\\right)^{\\frac{3}{2}} \\sin{\\left(\\phi_{1}{\\left(t \\right)} \\right)} \\left(\\frac{d}{d t} \\phi_{1}{\\left(t \\right)}\\right)^{2} \\frac{d}{d t} y_{E}{\\left(t \\right)} + 3.125 \\cdot 10^{99} \\left(\\left(1.57047506870828 \\cdot 10^{-7} x_{E}{\\left(t \\right)} - 1.57047506870828 \\cdot 10^{-7} x_{M}{\\left(t \\right)} + \\cos{\\left(\\phi_{1}{\\left(t \\right)} \\right)}\\right)^{2} + \\left(1.57047506870828 \\cdot 10^{-7} y_{E}{\\left(t \\right)} - 1.57047506870828 \\cdot 10^{-7} y_{M}{\\left(t \\right)} + \\sin{\\left(\\phi_{1}{\\left(t \\right)} \\right)}\\right)^{2}\\right)^{\\frac{3}{2}} \\sin{\\left(\\phi_{1}{\\left(t \\right)} \\right)} \\frac{d}{d t} \\phi_{1}{\\left(t \\right)} \\frac{d^{2}}{d t^{2}} x_{E}{\\left(t \\right)} + 3.12499999999999 \\cdot 10^{99} \\left(\\left(1.57047506870828 \\cdot 10^{-7} x_{E}{\\left(t \\right)} - 1.57047506870828 \\cdot 10^{-7} x_{M}{\\left(t \\right)} + \\cos{\\left(\\phi_{1}{\\left(t \\right)} \\right)}\\right)^{2} + \\left(1.57047506870828 \\cdot 10^{-7} y_{E}{\\left(t \\right)} - 1.57047506870828 \\cdot 10^{-7} y_{M}{\\left(t \\right)} + \\sin{\\left(\\phi_{1}{\\left(t \\right)} \\right)}\\right)^{2}\\right)^{\\frac{3}{2}} \\cos{\\left(\\phi_{1}{\\left(t \\right)} \\right)} \\left(\\frac{d}{d t} \\phi_{1}{\\left(t \\right)}\\right)^{2} \\frac{d}{d t} x_{E}{\\left(t \\right)} - 3.125 \\cdot 10^{99} \\left(\\left(1.57047506870828 \\cdot 10^{-7} x_{E}{\\left(t \\right)} - 1.57047506870828 \\cdot 10^{-7} x_{M}{\\left(t \\right)} + \\cos{\\left(\\phi_{1}{\\left(t \\right)} \\right)}\\right)^{2} + \\left(1.57047506870828 \\cdot 10^{-7} y_{E}{\\left(t \\right)} - 1.57047506870828 \\cdot 10^{-7} y_{M}{\\left(t \\right)} + \\sin{\\left(\\phi_{1}{\\left(t \\right)} \\right)}\\right)^{2}\\right)^{\\frac{3}{2}} \\cos{\\left(\\phi_{1}{\\left(t \\right)} \\right)} \\frac{d}{d t} \\phi_{1}{\\left(t \\right)} \\frac{d^{2}}{d t^{2}} y_{E}{\\left(t \\right)} - 4.90773458971338 \\cdot 10^{92} \\left(\\left(1.57047506870828 \\cdot 10^{-7} x_{E}{\\left(t \\right)} - 1.57047506870828 \\cdot 10^{-7} x_{M}{\\left(t \\right)} + \\cos{\\left(\\phi_{1}{\\left(t \\right)} \\right)}\\right)^{2} + \\left(1.57047506870828 \\cdot 10^{-7} y_{E}{\\left(t \\right)} - 1.57047506870828 \\cdot 10^{-7} y_{M}{\\left(t \\right)} + \\sin{\\left(\\phi_{1}{\\left(t \\right)} \\right)}\\right)^{2}\\right)^{\\frac{3}{2}} \\frac{d}{d t} x_{E}{\\left(t \\right)} \\frac{d^{2}}{d t^{2}} x_{E}{\\left(t \\right)} - 4.90773458971338 \\cdot 10^{92} \\left(\\left(1.57047506870828 \\cdot 10^{-7} x_{E}{\\left(t \\right)} - 1.57047506870828 \\cdot 10^{-7} x_{M}{\\left(t \\right)} + \\cos{\\left(\\phi_{1}{\\left(t \\right)} \\right)}\\right)^{2} + \\left(1.57047506870828 \\cdot 10^{-7} y_{E}{\\left(t \\right)} - 1.57047506870828 \\cdot 10^{-7} y_{M}{\\left(t \\right)} + \\sin{\\left(\\phi_{1}{\\left(t \\right)} \\right)}\\right)^{2}\\right)^{\\frac{3}{2}} \\frac{d}{d t} y_{E}{\\left(t \\right)} \\frac{d^{2}}{d t^{2}} y_{E}{\\left(t \\right)}\\right)}{\\left(\\left(1.57047506870828 \\cdot 10^{-7} x_{E}{\\left(t \\right)} - 1.57047506870828 \\cdot 10^{-7} x_{M}{\\left(t \\right)} + \\cos{\\left(\\phi_{1}{\\left(t \\right)} \\right)}\\right)^{2} + \\left(1.57047506870828 \\cdot 10^{-7} y_{E}{\\left(t \\right)} - 1.57047506870828 \\cdot 10^{-7} y_{M}{\\left(t \\right)} + \\sin{\\left(\\phi_{1}{\\left(t \\right)} \\right)}\\right)^{2}\\right)^{\\frac{3}{2}} \\left(- 39261876717707.0 \\sin{\\left(\\phi_{1}{\\left(t \\right)} \\right)} \\frac{d}{d t} x_{E}{\\left(t \\right)} + 39261876717707.0 \\cos{\\left(\\phi_{1}{\\left(t \\right)} \\right)} \\frac{d}{d t} y_{E}{\\left(t \\right)} + 2.5 \\cdot 10^{20} \\frac{d}{d t} \\phi_{1}{\\left(t \\right)}\\right)}$"
      ],
      "text/plain": [
       "1.25638005496663e-86*(5.14419991709839e+75*m_M*sqrt((sin(phi_1(t))*Derivative(phi_1(t), t) - 1.57047506870828e-7*Derivative(x_E(t), t))**2 + (cos(phi_1(t))*Derivative(phi_1(t), t) + 1.57047506870828e-7*Derivative(y_E(t), t))**2)*x_E(t)*sin(phi_1(t)) - 5.14419991709839e+75*m_M*sqrt((sin(phi_1(t))*Derivative(phi_1(t), t) - 1.57047506870828e-7*Derivative(x_E(t), t))**2 + (cos(phi_1(t))*Derivative(phi_1(t), t) + 1.57047506870828e-7*Derivative(y_E(t), t))**2)*x_M(t)*sin(phi_1(t)) - 5.14419991709839e+75*m_M*sqrt((sin(phi_1(t))*Derivative(phi_1(t), t) - 1.57047506870828e-7*Derivative(x_E(t), t))**2 + (cos(phi_1(t))*Derivative(phi_1(t), t) + 1.57047506870828e-7*Derivative(y_E(t), t))**2)*y_E(t)*cos(phi_1(t)) + 5.14419991709839e+75*m_M*sqrt((sin(phi_1(t))*Derivative(phi_1(t), t) - 1.57047506870828e-7*Derivative(x_E(t), t))**2 + (cos(phi_1(t))*Derivative(phi_1(t), t) + 1.57047506870828e-7*Derivative(y_E(t), t))**2)*y_M(t)*cos(phi_1(t)) + 1.98984374999999e+106*sqrt((sin(phi_1(t))*Derivative(phi_1(t), t) - 1.57047506870828e-7*Derivative(x_E(t), t))**2 + (cos(phi_1(t))*Derivative(phi_1(t), t) + 1.57047506870828e-7*Derivative(y_E(t), t))**2)*((1.57047506870828e-7*x_E(t) - 1.57047506870828e-7*x_M(t) + cos(phi_1(t)))**2 + (1.57047506870828e-7*y_E(t) - 1.57047506870828e-7*y_M(t) + sin(phi_1(t)))**2)**(3/2)*sin(phi_1(t))*Derivative(phi_1(t), t)*Derivative(y_E(t), t) + 1.98984374999999e+106*sqrt((sin(phi_1(t))*Derivative(phi_1(t), t) - 1.57047506870828e-7*Derivative(x_E(t), t))**2 + (cos(phi_1(t))*Derivative(phi_1(t), t) + 1.57047506870828e-7*Derivative(y_E(t), t))**2)*((1.57047506870828e-7*x_E(t) - 1.57047506870828e-7*x_M(t) + cos(phi_1(t)))**2 + (1.57047506870828e-7*y_E(t) - 1.57047506870828e-7*y_M(t) + sin(phi_1(t)))**2)**(3/2)*cos(phi_1(t))*Derivative(phi_1(t), t)*Derivative(x_E(t), t) + 3.12499999999999e+99*((1.57047506870828e-7*x_E(t) - 1.57047506870828e-7*x_M(t) + cos(phi_1(t)))**2 + (1.57047506870828e-7*y_E(t) - 1.57047506870828e-7*y_M(t) + sin(phi_1(t)))**2)**(3/2)*sin(phi_1(t))*Derivative(phi_1(t), t)**2*Derivative(y_E(t), t) + 3.125e+99*((1.57047506870828e-7*x_E(t) - 1.57047506870828e-7*x_M(t) + cos(phi_1(t)))**2 + (1.57047506870828e-7*y_E(t) - 1.57047506870828e-7*y_M(t) + sin(phi_1(t)))**2)**(3/2)*sin(phi_1(t))*Derivative(phi_1(t), t)*Derivative(x_E(t), (t, 2)) + 3.12499999999999e+99*((1.57047506870828e-7*x_E(t) - 1.57047506870828e-7*x_M(t) + cos(phi_1(t)))**2 + (1.57047506870828e-7*y_E(t) - 1.57047506870828e-7*y_M(t) + sin(phi_1(t)))**2)**(3/2)*cos(phi_1(t))*Derivative(phi_1(t), t)**2*Derivative(x_E(t), t) - 3.125e+99*((1.57047506870828e-7*x_E(t) - 1.57047506870828e-7*x_M(t) + cos(phi_1(t)))**2 + (1.57047506870828e-7*y_E(t) - 1.57047506870828e-7*y_M(t) + sin(phi_1(t)))**2)**(3/2)*cos(phi_1(t))*Derivative(phi_1(t), t)*Derivative(y_E(t), (t, 2)) - 4.90773458971338e+92*((1.57047506870828e-7*x_E(t) - 1.57047506870828e-7*x_M(t) + cos(phi_1(t)))**2 + (1.57047506870828e-7*y_E(t) - 1.57047506870828e-7*y_M(t) + sin(phi_1(t)))**2)**(3/2)*Derivative(x_E(t), t)*Derivative(x_E(t), (t, 2)) - 4.90773458971338e+92*((1.57047506870828e-7*x_E(t) - 1.57047506870828e-7*x_M(t) + cos(phi_1(t)))**2 + (1.57047506870828e-7*y_E(t) - 1.57047506870828e-7*y_M(t) + sin(phi_1(t)))**2)**(3/2)*Derivative(y_E(t), t)*Derivative(y_E(t), (t, 2)))/(((1.57047506870828e-7*x_E(t) - 1.57047506870828e-7*x_M(t) + cos(phi_1(t)))**2 + (1.57047506870828e-7*y_E(t) - 1.57047506870828e-7*y_M(t) + sin(phi_1(t)))**2)**(3/2)*(-39261876717707.0*sin(phi_1(t))*Derivative(x_E(t), t) + 39261876717707.0*cos(phi_1(t))*Derivative(y_E(t), t) + 2.5e+20*Derivative(phi_1(t), t)))"
      ]
     },
     "metadata": {},
     "output_type": "display_data"
    },
    {
     "name": "stdout",
     "output_type": "stream",
     "text": [
      "Equation 10:\n"
     ]
    },
    {
     "data": {
      "text/latex": [
       "$\\displaystyle \\frac{d}{d t} \\phi_{2}{\\left(t \\right)}$"
      ],
      "text/plain": [
       "Derivative(phi_2(t), t)"
      ]
     },
     "metadata": {},
     "output_type": "display_data"
    },
    {
     "data": {
      "text/latex": [
       "$\\displaystyle \\frac{1.0 m_{2} \\sqrt{\\left(- \\sin{\\left(\\phi_{2}{\\left(t \\right)} \\right)} \\frac{d}{d t} \\phi_{2}{\\left(t \\right)} + 1.57047506870828 \\cdot 10^{-7} \\frac{d}{d t} x_{E}{\\left(t \\right)}\\right)^{2} + \\left(\\cos{\\left(\\phi_{2}{\\left(t \\right)} \\right)} \\frac{d}{d t} \\phi_{2}{\\left(t \\right)} + 1.57047506870828 \\cdot 10^{-7} \\frac{d}{d t} y_{E}{\\left(t \\right)}\\right)^{2}} \\left(\\frac{d}{d t} x_{E}{\\left(t \\right)} - \\frac{5.0 \\cdot 10^{-18} \\cdot \\left(1.99999999999999 \\cdot 10^{17} m_{2} \\left(\\sin{\\left(\\phi_{2}{\\left(t \\right)} \\right)} \\frac{d}{d t} x_{E}{\\left(t \\right)} - \\cos{\\left(\\phi_{2}{\\left(t \\right)} \\right)} \\frac{d}{d t} y_{E}{\\left(t \\right)}\\right) - 1.2735 \\cdot 10^{24} \\sqrt{m_{2}^{2} \\left(\\left(- \\sin{\\left(\\phi_{2}{\\left(t \\right)} \\right)} \\frac{d}{d t} \\phi_{2}{\\left(t \\right)} + 1.57047506870828 \\cdot 10^{-7} \\frac{d}{d t} x_{E}{\\left(t \\right)}\\right)^{2} + \\left(\\cos{\\left(\\phi_{2}{\\left(t \\right)} \\right)} \\frac{d}{d t} \\phi_{2}{\\left(t \\right)} + 1.57047506870828 \\cdot 10^{-7} \\frac{d}{d t} y_{E}{\\left(t \\right)}\\right)^{2}\\right) + 1.23319597071714 \\cdot 10^{-14} m_{2}^{2} \\left(- 2.0 \\sin{\\left(2.0 \\phi_{2}{\\left(t \\right)} \\right)} \\frac{d}{d t} x_{E}{\\left(t \\right)} \\frac{d}{d t} y_{E}{\\left(t \\right)} - \\cos{\\left(2.0 \\phi_{2}{\\left(t \\right)} \\right)} \\left(\\frac{d}{d t} x_{E}{\\left(t \\right)}\\right)^{2} + \\cos{\\left(2.0 \\phi_{2}{\\left(t \\right)} \\right)} \\left(\\frac{d}{d t} y_{E}{\\left(t \\right)}\\right)^{2} - \\left(\\frac{d}{d t} x_{E}{\\left(t \\right)}\\right)^{2} - \\left(\\frac{d}{d t} y_{E}{\\left(t \\right)}\\right)^{2}\\right)}\\right) \\sin{\\left(\\phi_{2}{\\left(t \\right)} \\right)}}{m_{2}}\\right) \\sin{\\left(\\phi_{2}{\\left(t \\right)} \\right)}}{\\sqrt{m_{2}^{2} \\left(\\left(- \\sin{\\left(\\phi_{2}{\\left(t \\right)} \\right)} \\frac{d}{d t} \\phi_{2}{\\left(t \\right)} + 1.57047506870828 \\cdot 10^{-7} \\frac{d}{d t} x_{E}{\\left(t \\right)}\\right)^{2} + \\left(\\cos{\\left(\\phi_{2}{\\left(t \\right)} \\right)} \\frac{d}{d t} \\phi_{2}{\\left(t \\right)} + 1.57047506870828 \\cdot 10^{-7} \\frac{d}{d t} y_{E}{\\left(t \\right)}\\right)^{2}\\right) + 1.23319597071714 \\cdot 10^{-14} m_{2}^{2} \\left(- 2.0 \\sin{\\left(2.0 \\phi_{2}{\\left(t \\right)} \\right)} \\frac{d}{d t} x_{E}{\\left(t \\right)} \\frac{d}{d t} y_{E}{\\left(t \\right)} - \\cos{\\left(2.0 \\phi_{2}{\\left(t \\right)} \\right)} \\left(\\frac{d}{d t} x_{E}{\\left(t \\right)}\\right)^{2} + \\cos{\\left(2.0 \\phi_{2}{\\left(t \\right)} \\right)} \\left(\\frac{d}{d t} y_{E}{\\left(t \\right)}\\right)^{2} - \\left(\\frac{d}{d t} x_{E}{\\left(t \\right)}\\right)^{2} - \\left(\\frac{d}{d t} y_{E}{\\left(t \\right)}\\right)^{2}\\right)}} - \\frac{1.0 m_{2} \\sqrt{\\left(- \\sin{\\left(\\phi_{2}{\\left(t \\right)} \\right)} \\frac{d}{d t} \\phi_{2}{\\left(t \\right)} + 1.57047506870828 \\cdot 10^{-7} \\frac{d}{d t} x_{E}{\\left(t \\right)}\\right)^{2} + \\left(\\cos{\\left(\\phi_{2}{\\left(t \\right)} \\right)} \\frac{d}{d t} \\phi_{2}{\\left(t \\right)} + 1.57047506870828 \\cdot 10^{-7} \\frac{d}{d t} y_{E}{\\left(t \\right)}\\right)^{2}} \\left(\\frac{d}{d t} y_{E}{\\left(t \\right)} + \\frac{5.0 \\cdot 10^{-18} \\cdot \\left(1.99999999999999 \\cdot 10^{17} m_{2} \\left(\\sin{\\left(\\phi_{2}{\\left(t \\right)} \\right)} \\frac{d}{d t} x_{E}{\\left(t \\right)} - \\cos{\\left(\\phi_{2}{\\left(t \\right)} \\right)} \\frac{d}{d t} y_{E}{\\left(t \\right)}\\right) - 1.2735 \\cdot 10^{24} \\sqrt{m_{2}^{2} \\left(\\left(- \\sin{\\left(\\phi_{2}{\\left(t \\right)} \\right)} \\frac{d}{d t} \\phi_{2}{\\left(t \\right)} + 1.57047506870828 \\cdot 10^{-7} \\frac{d}{d t} x_{E}{\\left(t \\right)}\\right)^{2} + \\left(\\cos{\\left(\\phi_{2}{\\left(t \\right)} \\right)} \\frac{d}{d t} \\phi_{2}{\\left(t \\right)} + 1.57047506870828 \\cdot 10^{-7} \\frac{d}{d t} y_{E}{\\left(t \\right)}\\right)^{2}\\right) + 1.23319597071714 \\cdot 10^{-14} m_{2}^{2} \\left(- 2.0 \\sin{\\left(2.0 \\phi_{2}{\\left(t \\right)} \\right)} \\frac{d}{d t} x_{E}{\\left(t \\right)} \\frac{d}{d t} y_{E}{\\left(t \\right)} - \\cos{\\left(2.0 \\phi_{2}{\\left(t \\right)} \\right)} \\left(\\frac{d}{d t} x_{E}{\\left(t \\right)}\\right)^{2} + \\cos{\\left(2.0 \\phi_{2}{\\left(t \\right)} \\right)} \\left(\\frac{d}{d t} y_{E}{\\left(t \\right)}\\right)^{2} - \\left(\\frac{d}{d t} x_{E}{\\left(t \\right)}\\right)^{2} - \\left(\\frac{d}{d t} y_{E}{\\left(t \\right)}\\right)^{2}\\right)}\\right) \\cos{\\left(\\phi_{2}{\\left(t \\right)} \\right)}}{m_{2}}\\right) \\cos{\\left(\\phi_{2}{\\left(t \\right)} \\right)}}{\\sqrt{m_{2}^{2} \\left(\\left(- \\sin{\\left(\\phi_{2}{\\left(t \\right)} \\right)} \\frac{d}{d t} \\phi_{2}{\\left(t \\right)} + 1.57047506870828 \\cdot 10^{-7} \\frac{d}{d t} x_{E}{\\left(t \\right)}\\right)^{2} + \\left(\\cos{\\left(\\phi_{2}{\\left(t \\right)} \\right)} \\frac{d}{d t} \\phi_{2}{\\left(t \\right)} + 1.57047506870828 \\cdot 10^{-7} \\frac{d}{d t} y_{E}{\\left(t \\right)}\\right)^{2}\\right) + 1.23319597071714 \\cdot 10^{-14} m_{2}^{2} \\left(- 2.0 \\sin{\\left(2.0 \\phi_{2}{\\left(t \\right)} \\right)} \\frac{d}{d t} x_{E}{\\left(t \\right)} \\frac{d}{d t} y_{E}{\\left(t \\right)} - \\cos{\\left(2.0 \\phi_{2}{\\left(t \\right)} \\right)} \\left(\\frac{d}{d t} x_{E}{\\left(t \\right)}\\right)^{2} + \\cos{\\left(2.0 \\phi_{2}{\\left(t \\right)} \\right)} \\left(\\frac{d}{d t} y_{E}{\\left(t \\right)}\\right)^{2} - \\left(\\frac{d}{d t} x_{E}{\\left(t \\right)}\\right)^{2} - \\left(\\frac{d}{d t} y_{E}{\\left(t \\right)}\\right)^{2}\\right)}}$"
      ],
      "text/plain": [
       "1.0*m_2*sqrt((-sin(phi_2(t))*Derivative(phi_2(t), t) + 1.57047506870828e-7*Derivative(x_E(t), t))**2 + (cos(phi_2(t))*Derivative(phi_2(t), t) + 1.57047506870828e-7*Derivative(y_E(t), t))**2)*(Derivative(x_E(t), t) - 5.0e-18*(1.99999999999999e+17*m_2*(sin(phi_2(t))*Derivative(x_E(t), t) - cos(phi_2(t))*Derivative(y_E(t), t)) - 1.2735e+24*sqrt(m_2**2*((-sin(phi_2(t))*Derivative(phi_2(t), t) + 1.57047506870828e-7*Derivative(x_E(t), t))**2 + (cos(phi_2(t))*Derivative(phi_2(t), t) + 1.57047506870828e-7*Derivative(y_E(t), t))**2) + 1.23319597071714e-14*m_2**2*(-2.0*sin(2.0*phi_2(t))*Derivative(x_E(t), t)*Derivative(y_E(t), t) - cos(2.0*phi_2(t))*Derivative(x_E(t), t)**2 + cos(2.0*phi_2(t))*Derivative(y_E(t), t)**2 - Derivative(x_E(t), t)**2 - Derivative(y_E(t), t)**2)))*sin(phi_2(t))/m_2)*sin(phi_2(t))/sqrt(m_2**2*((-sin(phi_2(t))*Derivative(phi_2(t), t) + 1.57047506870828e-7*Derivative(x_E(t), t))**2 + (cos(phi_2(t))*Derivative(phi_2(t), t) + 1.57047506870828e-7*Derivative(y_E(t), t))**2) + 1.23319597071714e-14*m_2**2*(-2.0*sin(2.0*phi_2(t))*Derivative(x_E(t), t)*Derivative(y_E(t), t) - cos(2.0*phi_2(t))*Derivative(x_E(t), t)**2 + cos(2.0*phi_2(t))*Derivative(y_E(t), t)**2 - Derivative(x_E(t), t)**2 - Derivative(y_E(t), t)**2)) - 1.0*m_2*sqrt((-sin(phi_2(t))*Derivative(phi_2(t), t) + 1.57047506870828e-7*Derivative(x_E(t), t))**2 + (cos(phi_2(t))*Derivative(phi_2(t), t) + 1.57047506870828e-7*Derivative(y_E(t), t))**2)*(Derivative(y_E(t), t) + 5.0e-18*(1.99999999999999e+17*m_2*(sin(phi_2(t))*Derivative(x_E(t), t) - cos(phi_2(t))*Derivative(y_E(t), t)) - 1.2735e+24*sqrt(m_2**2*((-sin(phi_2(t))*Derivative(phi_2(t), t) + 1.57047506870828e-7*Derivative(x_E(t), t))**2 + (cos(phi_2(t))*Derivative(phi_2(t), t) + 1.57047506870828e-7*Derivative(y_E(t), t))**2) + 1.23319597071714e-14*m_2**2*(-2.0*sin(2.0*phi_2(t))*Derivative(x_E(t), t)*Derivative(y_E(t), t) - cos(2.0*phi_2(t))*Derivative(x_E(t), t)**2 + cos(2.0*phi_2(t))*Derivative(y_E(t), t)**2 - Derivative(x_E(t), t)**2 - Derivative(y_E(t), t)**2)))*cos(phi_2(t))/m_2)*cos(phi_2(t))/sqrt(m_2**2*((-sin(phi_2(t))*Derivative(phi_2(t), t) + 1.57047506870828e-7*Derivative(x_E(t), t))**2 + (cos(phi_2(t))*Derivative(phi_2(t), t) + 1.57047506870828e-7*Derivative(y_E(t), t))**2) + 1.23319597071714e-14*m_2**2*(-2.0*sin(2.0*phi_2(t))*Derivative(x_E(t), t)*Derivative(y_E(t), t) - cos(2.0*phi_2(t))*Derivative(x_E(t), t)**2 + cos(2.0*phi_2(t))*Derivative(y_E(t), t)**2 - Derivative(x_E(t), t)**2 - Derivative(y_E(t), t)**2))"
      ]
     },
     "metadata": {},
     "output_type": "display_data"
    },
    {
     "name": "stdout",
     "output_type": "stream",
     "text": [
      "Equation 11:\n"
     ]
    },
    {
     "data": {
      "text/latex": [
       "$\\displaystyle \\frac{6367500.0 m_{2} \\left(\\frac{\\left(- \\sin{\\left(\\phi_{2}{\\left(t \\right)} \\right)} \\frac{d}{d t} \\phi_{2}{\\left(t \\right)} + 1.57047506870828 \\cdot 10^{-7} \\frac{d}{d t} x_{E}{\\left(t \\right)}\\right) \\left(- 2 \\sin{\\left(\\phi_{2}{\\left(t \\right)} \\right)} \\frac{d^{2}}{d t^{2}} \\phi_{2}{\\left(t \\right)} - 2 \\cos{\\left(\\phi_{2}{\\left(t \\right)} \\right)} \\left(\\frac{d}{d t} \\phi_{2}{\\left(t \\right)}\\right)^{2} + 3.14095013741657 \\cdot 10^{-7} \\frac{d^{2}}{d t^{2}} x_{E}{\\left(t \\right)}\\right)}{2} + \\frac{\\left(\\cos{\\left(\\phi_{2}{\\left(t \\right)} \\right)} \\frac{d}{d t} \\phi_{2}{\\left(t \\right)} + 1.57047506870828 \\cdot 10^{-7} \\frac{d}{d t} y_{E}{\\left(t \\right)}\\right) \\left(- 2 \\sin{\\left(\\phi_{2}{\\left(t \\right)} \\right)} \\left(\\frac{d}{d t} \\phi_{2}{\\left(t \\right)}\\right)^{2} + 2 \\cos{\\left(\\phi_{2}{\\left(t \\right)} \\right)} \\frac{d^{2}}{d t^{2}} \\phi_{2}{\\left(t \\right)} + 3.14095013741657 \\cdot 10^{-7} \\frac{d^{2}}{d t^{2}} y_{E}{\\left(t \\right)}\\right)}{2}\\right)}{\\sqrt{\\left(- \\sin{\\left(\\phi_{2}{\\left(t \\right)} \\right)} \\frac{d}{d t} \\phi_{2}{\\left(t \\right)} + 1.57047506870828 \\cdot 10^{-7} \\frac{d}{d t} x_{E}{\\left(t \\right)}\\right)^{2} + \\left(\\cos{\\left(\\phi_{2}{\\left(t \\right)} \\right)} \\frac{d}{d t} \\phi_{2}{\\left(t \\right)} + 1.57047506870828 \\cdot 10^{-7} \\frac{d}{d t} y_{E}{\\left(t \\right)}\\right)^{2}}}$"
      ],
      "text/plain": [
       "6367500.0*m_2*((-sin(phi_2(t))*Derivative(phi_2(t), t) + 1.57047506870828e-7*Derivative(x_E(t), t))*(-2*sin(phi_2(t))*Derivative(phi_2(t), (t, 2)) - 2*cos(phi_2(t))*Derivative(phi_2(t), t)**2 + 3.14095013741657e-7*Derivative(x_E(t), (t, 2)))/2 + (cos(phi_2(t))*Derivative(phi_2(t), t) + 1.57047506870828e-7*Derivative(y_E(t), t))*(-2*sin(phi_2(t))*Derivative(phi_2(t), t)**2 + 2*cos(phi_2(t))*Derivative(phi_2(t), (t, 2)) + 3.14095013741657e-7*Derivative(y_E(t), (t, 2)))/2)/sqrt((-sin(phi_2(t))*Derivative(phi_2(t), t) + 1.57047506870828e-7*Derivative(x_E(t), t))**2 + (cos(phi_2(t))*Derivative(phi_2(t), t) + 1.57047506870828e-7*Derivative(y_E(t), t))**2)"
      ]
     },
     "metadata": {},
     "output_type": "display_data"
    },
    {
     "data": {
      "text/latex": [
       "$\\displaystyle \\frac{1.25638005496663 \\cdot 10^{-86} \\cdot \\left(5.14419991709839 \\cdot 10^{75} m_{M} \\sqrt{\\left(\\sin{\\left(\\phi_{2}{\\left(t \\right)} \\right)} \\frac{d}{d t} \\phi_{2}{\\left(t \\right)} - 1.57047506870828 \\cdot 10^{-7} \\frac{d}{d t} x_{E}{\\left(t \\right)}\\right)^{2} + \\left(\\cos{\\left(\\phi_{2}{\\left(t \\right)} \\right)} \\frac{d}{d t} \\phi_{2}{\\left(t \\right)} + 1.57047506870828 \\cdot 10^{-7} \\frac{d}{d t} y_{E}{\\left(t \\right)}\\right)^{2}} x_{E}{\\left(t \\right)} \\sin{\\left(\\phi_{2}{\\left(t \\right)} \\right)} - 5.14419991709839 \\cdot 10^{75} m_{M} \\sqrt{\\left(\\sin{\\left(\\phi_{2}{\\left(t \\right)} \\right)} \\frac{d}{d t} \\phi_{2}{\\left(t \\right)} - 1.57047506870828 \\cdot 10^{-7} \\frac{d}{d t} x_{E}{\\left(t \\right)}\\right)^{2} + \\left(\\cos{\\left(\\phi_{2}{\\left(t \\right)} \\right)} \\frac{d}{d t} \\phi_{2}{\\left(t \\right)} + 1.57047506870828 \\cdot 10^{-7} \\frac{d}{d t} y_{E}{\\left(t \\right)}\\right)^{2}} x_{M}{\\left(t \\right)} \\sin{\\left(\\phi_{2}{\\left(t \\right)} \\right)} - 5.14419991709839 \\cdot 10^{75} m_{M} \\sqrt{\\left(\\sin{\\left(\\phi_{2}{\\left(t \\right)} \\right)} \\frac{d}{d t} \\phi_{2}{\\left(t \\right)} - 1.57047506870828 \\cdot 10^{-7} \\frac{d}{d t} x_{E}{\\left(t \\right)}\\right)^{2} + \\left(\\cos{\\left(\\phi_{2}{\\left(t \\right)} \\right)} \\frac{d}{d t} \\phi_{2}{\\left(t \\right)} + 1.57047506870828 \\cdot 10^{-7} \\frac{d}{d t} y_{E}{\\left(t \\right)}\\right)^{2}} y_{E}{\\left(t \\right)} \\cos{\\left(\\phi_{2}{\\left(t \\right)} \\right)} + 5.14419991709839 \\cdot 10^{75} m_{M} \\sqrt{\\left(\\sin{\\left(\\phi_{2}{\\left(t \\right)} \\right)} \\frac{d}{d t} \\phi_{2}{\\left(t \\right)} - 1.57047506870828 \\cdot 10^{-7} \\frac{d}{d t} x_{E}{\\left(t \\right)}\\right)^{2} + \\left(\\cos{\\left(\\phi_{2}{\\left(t \\right)} \\right)} \\frac{d}{d t} \\phi_{2}{\\left(t \\right)} + 1.57047506870828 \\cdot 10^{-7} \\frac{d}{d t} y_{E}{\\left(t \\right)}\\right)^{2}} y_{M}{\\left(t \\right)} \\cos{\\left(\\phi_{2}{\\left(t \\right)} \\right)} + 1.98984374999999 \\cdot 10^{106} \\sqrt{\\left(\\sin{\\left(\\phi_{2}{\\left(t \\right)} \\right)} \\frac{d}{d t} \\phi_{2}{\\left(t \\right)} - 1.57047506870828 \\cdot 10^{-7} \\frac{d}{d t} x_{E}{\\left(t \\right)}\\right)^{2} + \\left(\\cos{\\left(\\phi_{2}{\\left(t \\right)} \\right)} \\frac{d}{d t} \\phi_{2}{\\left(t \\right)} + 1.57047506870828 \\cdot 10^{-7} \\frac{d}{d t} y_{E}{\\left(t \\right)}\\right)^{2}} \\left(\\left(1.57047506870828 \\cdot 10^{-7} x_{E}{\\left(t \\right)} - 1.57047506870828 \\cdot 10^{-7} x_{M}{\\left(t \\right)} + \\cos{\\left(\\phi_{2}{\\left(t \\right)} \\right)}\\right)^{2} + \\left(1.57047506870828 \\cdot 10^{-7} y_{E}{\\left(t \\right)} - 1.57047506870828 \\cdot 10^{-7} y_{M}{\\left(t \\right)} + \\sin{\\left(\\phi_{2}{\\left(t \\right)} \\right)}\\right)^{2}\\right)^{\\frac{3}{2}} \\sin{\\left(\\phi_{2}{\\left(t \\right)} \\right)} \\frac{d}{d t} \\phi_{2}{\\left(t \\right)} \\frac{d}{d t} y_{E}{\\left(t \\right)} + 1.98984374999999 \\cdot 10^{106} \\sqrt{\\left(\\sin{\\left(\\phi_{2}{\\left(t \\right)} \\right)} \\frac{d}{d t} \\phi_{2}{\\left(t \\right)} - 1.57047506870828 \\cdot 10^{-7} \\frac{d}{d t} x_{E}{\\left(t \\right)}\\right)^{2} + \\left(\\cos{\\left(\\phi_{2}{\\left(t \\right)} \\right)} \\frac{d}{d t} \\phi_{2}{\\left(t \\right)} + 1.57047506870828 \\cdot 10^{-7} \\frac{d}{d t} y_{E}{\\left(t \\right)}\\right)^{2}} \\left(\\left(1.57047506870828 \\cdot 10^{-7} x_{E}{\\left(t \\right)} - 1.57047506870828 \\cdot 10^{-7} x_{M}{\\left(t \\right)} + \\cos{\\left(\\phi_{2}{\\left(t \\right)} \\right)}\\right)^{2} + \\left(1.57047506870828 \\cdot 10^{-7} y_{E}{\\left(t \\right)} - 1.57047506870828 \\cdot 10^{-7} y_{M}{\\left(t \\right)} + \\sin{\\left(\\phi_{2}{\\left(t \\right)} \\right)}\\right)^{2}\\right)^{\\frac{3}{2}} \\cos{\\left(\\phi_{2}{\\left(t \\right)} \\right)} \\frac{d}{d t} \\phi_{2}{\\left(t \\right)} \\frac{d}{d t} x_{E}{\\left(t \\right)} + 3.12499999999999 \\cdot 10^{99} \\left(\\left(1.57047506870828 \\cdot 10^{-7} x_{E}{\\left(t \\right)} - 1.57047506870828 \\cdot 10^{-7} x_{M}{\\left(t \\right)} + \\cos{\\left(\\phi_{2}{\\left(t \\right)} \\right)}\\right)^{2} + \\left(1.57047506870828 \\cdot 10^{-7} y_{E}{\\left(t \\right)} - 1.57047506870828 \\cdot 10^{-7} y_{M}{\\left(t \\right)} + \\sin{\\left(\\phi_{2}{\\left(t \\right)} \\right)}\\right)^{2}\\right)^{\\frac{3}{2}} \\sin{\\left(\\phi_{2}{\\left(t \\right)} \\right)} \\left(\\frac{d}{d t} \\phi_{2}{\\left(t \\right)}\\right)^{2} \\frac{d}{d t} y_{E}{\\left(t \\right)} + 3.125 \\cdot 10^{99} \\left(\\left(1.57047506870828 \\cdot 10^{-7} x_{E}{\\left(t \\right)} - 1.57047506870828 \\cdot 10^{-7} x_{M}{\\left(t \\right)} + \\cos{\\left(\\phi_{2}{\\left(t \\right)} \\right)}\\right)^{2} + \\left(1.57047506870828 \\cdot 10^{-7} y_{E}{\\left(t \\right)} - 1.57047506870828 \\cdot 10^{-7} y_{M}{\\left(t \\right)} + \\sin{\\left(\\phi_{2}{\\left(t \\right)} \\right)}\\right)^{2}\\right)^{\\frac{3}{2}} \\sin{\\left(\\phi_{2}{\\left(t \\right)} \\right)} \\frac{d}{d t} \\phi_{2}{\\left(t \\right)} \\frac{d^{2}}{d t^{2}} x_{E}{\\left(t \\right)} + 3.12499999999999 \\cdot 10^{99} \\left(\\left(1.57047506870828 \\cdot 10^{-7} x_{E}{\\left(t \\right)} - 1.57047506870828 \\cdot 10^{-7} x_{M}{\\left(t \\right)} + \\cos{\\left(\\phi_{2}{\\left(t \\right)} \\right)}\\right)^{2} + \\left(1.57047506870828 \\cdot 10^{-7} y_{E}{\\left(t \\right)} - 1.57047506870828 \\cdot 10^{-7} y_{M}{\\left(t \\right)} + \\sin{\\left(\\phi_{2}{\\left(t \\right)} \\right)}\\right)^{2}\\right)^{\\frac{3}{2}} \\cos{\\left(\\phi_{2}{\\left(t \\right)} \\right)} \\left(\\frac{d}{d t} \\phi_{2}{\\left(t \\right)}\\right)^{2} \\frac{d}{d t} x_{E}{\\left(t \\right)} - 3.125 \\cdot 10^{99} \\left(\\left(1.57047506870828 \\cdot 10^{-7} x_{E}{\\left(t \\right)} - 1.57047506870828 \\cdot 10^{-7} x_{M}{\\left(t \\right)} + \\cos{\\left(\\phi_{2}{\\left(t \\right)} \\right)}\\right)^{2} + \\left(1.57047506870828 \\cdot 10^{-7} y_{E}{\\left(t \\right)} - 1.57047506870828 \\cdot 10^{-7} y_{M}{\\left(t \\right)} + \\sin{\\left(\\phi_{2}{\\left(t \\right)} \\right)}\\right)^{2}\\right)^{\\frac{3}{2}} \\cos{\\left(\\phi_{2}{\\left(t \\right)} \\right)} \\frac{d}{d t} \\phi_{2}{\\left(t \\right)} \\frac{d^{2}}{d t^{2}} y_{E}{\\left(t \\right)} - 4.90773458971338 \\cdot 10^{92} \\left(\\left(1.57047506870828 \\cdot 10^{-7} x_{E}{\\left(t \\right)} - 1.57047506870828 \\cdot 10^{-7} x_{M}{\\left(t \\right)} + \\cos{\\left(\\phi_{2}{\\left(t \\right)} \\right)}\\right)^{2} + \\left(1.57047506870828 \\cdot 10^{-7} y_{E}{\\left(t \\right)} - 1.57047506870828 \\cdot 10^{-7} y_{M}{\\left(t \\right)} + \\sin{\\left(\\phi_{2}{\\left(t \\right)} \\right)}\\right)^{2}\\right)^{\\frac{3}{2}} \\frac{d}{d t} x_{E}{\\left(t \\right)} \\frac{d^{2}}{d t^{2}} x_{E}{\\left(t \\right)} - 4.90773458971338 \\cdot 10^{92} \\left(\\left(1.57047506870828 \\cdot 10^{-7} x_{E}{\\left(t \\right)} - 1.57047506870828 \\cdot 10^{-7} x_{M}{\\left(t \\right)} + \\cos{\\left(\\phi_{2}{\\left(t \\right)} \\right)}\\right)^{2} + \\left(1.57047506870828 \\cdot 10^{-7} y_{E}{\\left(t \\right)} - 1.57047506870828 \\cdot 10^{-7} y_{M}{\\left(t \\right)} + \\sin{\\left(\\phi_{2}{\\left(t \\right)} \\right)}\\right)^{2}\\right)^{\\frac{3}{2}} \\frac{d}{d t} y_{E}{\\left(t \\right)} \\frac{d^{2}}{d t^{2}} y_{E}{\\left(t \\right)}\\right)}{\\left(\\left(1.57047506870828 \\cdot 10^{-7} x_{E}{\\left(t \\right)} - 1.57047506870828 \\cdot 10^{-7} x_{M}{\\left(t \\right)} + \\cos{\\left(\\phi_{2}{\\left(t \\right)} \\right)}\\right)^{2} + \\left(1.57047506870828 \\cdot 10^{-7} y_{E}{\\left(t \\right)} - 1.57047506870828 \\cdot 10^{-7} y_{M}{\\left(t \\right)} + \\sin{\\left(\\phi_{2}{\\left(t \\right)} \\right)}\\right)^{2}\\right)^{\\frac{3}{2}} \\left(- 39261876717707.0 \\sin{\\left(\\phi_{2}{\\left(t \\right)} \\right)} \\frac{d}{d t} x_{E}{\\left(t \\right)} + 39261876717707.0 \\cos{\\left(\\phi_{2}{\\left(t \\right)} \\right)} \\frac{d}{d t} y_{E}{\\left(t \\right)} + 2.5 \\cdot 10^{20} \\frac{d}{d t} \\phi_{2}{\\left(t \\right)}\\right)}$"
      ],
      "text/plain": [
       "1.25638005496663e-86*(5.14419991709839e+75*m_M*sqrt((sin(phi_2(t))*Derivative(phi_2(t), t) - 1.57047506870828e-7*Derivative(x_E(t), t))**2 + (cos(phi_2(t))*Derivative(phi_2(t), t) + 1.57047506870828e-7*Derivative(y_E(t), t))**2)*x_E(t)*sin(phi_2(t)) - 5.14419991709839e+75*m_M*sqrt((sin(phi_2(t))*Derivative(phi_2(t), t) - 1.57047506870828e-7*Derivative(x_E(t), t))**2 + (cos(phi_2(t))*Derivative(phi_2(t), t) + 1.57047506870828e-7*Derivative(y_E(t), t))**2)*x_M(t)*sin(phi_2(t)) - 5.14419991709839e+75*m_M*sqrt((sin(phi_2(t))*Derivative(phi_2(t), t) - 1.57047506870828e-7*Derivative(x_E(t), t))**2 + (cos(phi_2(t))*Derivative(phi_2(t), t) + 1.57047506870828e-7*Derivative(y_E(t), t))**2)*y_E(t)*cos(phi_2(t)) + 5.14419991709839e+75*m_M*sqrt((sin(phi_2(t))*Derivative(phi_2(t), t) - 1.57047506870828e-7*Derivative(x_E(t), t))**2 + (cos(phi_2(t))*Derivative(phi_2(t), t) + 1.57047506870828e-7*Derivative(y_E(t), t))**2)*y_M(t)*cos(phi_2(t)) + 1.98984374999999e+106*sqrt((sin(phi_2(t))*Derivative(phi_2(t), t) - 1.57047506870828e-7*Derivative(x_E(t), t))**2 + (cos(phi_2(t))*Derivative(phi_2(t), t) + 1.57047506870828e-7*Derivative(y_E(t), t))**2)*((1.57047506870828e-7*x_E(t) - 1.57047506870828e-7*x_M(t) + cos(phi_2(t)))**2 + (1.57047506870828e-7*y_E(t) - 1.57047506870828e-7*y_M(t) + sin(phi_2(t)))**2)**(3/2)*sin(phi_2(t))*Derivative(phi_2(t), t)*Derivative(y_E(t), t) + 1.98984374999999e+106*sqrt((sin(phi_2(t))*Derivative(phi_2(t), t) - 1.57047506870828e-7*Derivative(x_E(t), t))**2 + (cos(phi_2(t))*Derivative(phi_2(t), t) + 1.57047506870828e-7*Derivative(y_E(t), t))**2)*((1.57047506870828e-7*x_E(t) - 1.57047506870828e-7*x_M(t) + cos(phi_2(t)))**2 + (1.57047506870828e-7*y_E(t) - 1.57047506870828e-7*y_M(t) + sin(phi_2(t)))**2)**(3/2)*cos(phi_2(t))*Derivative(phi_2(t), t)*Derivative(x_E(t), t) + 3.12499999999999e+99*((1.57047506870828e-7*x_E(t) - 1.57047506870828e-7*x_M(t) + cos(phi_2(t)))**2 + (1.57047506870828e-7*y_E(t) - 1.57047506870828e-7*y_M(t) + sin(phi_2(t)))**2)**(3/2)*sin(phi_2(t))*Derivative(phi_2(t), t)**2*Derivative(y_E(t), t) + 3.125e+99*((1.57047506870828e-7*x_E(t) - 1.57047506870828e-7*x_M(t) + cos(phi_2(t)))**2 + (1.57047506870828e-7*y_E(t) - 1.57047506870828e-7*y_M(t) + sin(phi_2(t)))**2)**(3/2)*sin(phi_2(t))*Derivative(phi_2(t), t)*Derivative(x_E(t), (t, 2)) + 3.12499999999999e+99*((1.57047506870828e-7*x_E(t) - 1.57047506870828e-7*x_M(t) + cos(phi_2(t)))**2 + (1.57047506870828e-7*y_E(t) - 1.57047506870828e-7*y_M(t) + sin(phi_2(t)))**2)**(3/2)*cos(phi_2(t))*Derivative(phi_2(t), t)**2*Derivative(x_E(t), t) - 3.125e+99*((1.57047506870828e-7*x_E(t) - 1.57047506870828e-7*x_M(t) + cos(phi_2(t)))**2 + (1.57047506870828e-7*y_E(t) - 1.57047506870828e-7*y_M(t) + sin(phi_2(t)))**2)**(3/2)*cos(phi_2(t))*Derivative(phi_2(t), t)*Derivative(y_E(t), (t, 2)) - 4.90773458971338e+92*((1.57047506870828e-7*x_E(t) - 1.57047506870828e-7*x_M(t) + cos(phi_2(t)))**2 + (1.57047506870828e-7*y_E(t) - 1.57047506870828e-7*y_M(t) + sin(phi_2(t)))**2)**(3/2)*Derivative(x_E(t), t)*Derivative(x_E(t), (t, 2)) - 4.90773458971338e+92*((1.57047506870828e-7*x_E(t) - 1.57047506870828e-7*x_M(t) + cos(phi_2(t)))**2 + (1.57047506870828e-7*y_E(t) - 1.57047506870828e-7*y_M(t) + sin(phi_2(t)))**2)**(3/2)*Derivative(y_E(t), t)*Derivative(y_E(t), (t, 2)))/(((1.57047506870828e-7*x_E(t) - 1.57047506870828e-7*x_M(t) + cos(phi_2(t)))**2 + (1.57047506870828e-7*y_E(t) - 1.57047506870828e-7*y_M(t) + sin(phi_2(t)))**2)**(3/2)*(-39261876717707.0*sin(phi_2(t))*Derivative(x_E(t), t) + 39261876717707.0*cos(phi_2(t))*Derivative(y_E(t), t) + 2.5e+20*Derivative(phi_2(t), t)))"
      ]
     },
     "metadata": {},
     "output_type": "display_data"
    },
    {
     "name": "stdout",
     "output_type": "stream",
     "text": [
      "Variable order: [x_E(t), x_E(t)/dt, x_M(t), x_M(t)/dt, y_E(t), y_E(t)/dt, y_M(t), y_M(t)/dt, phi_1(t), phi_1(t)/dt, phi_2(t), phi_2(t)/dt]\n"
     ]
    },
    {
     "ename": "NameError",
     "evalue": "name 'Derivative' is not defined",
     "output_type": "error",
     "traceback": [
      "\u001b[1;31m---------------------------------------------------------------------------\u001b[0m",
      "\u001b[1;31mNameError\u001b[0m                                 Traceback (most recent call last)",
      "Cell \u001b[1;32mIn[12], line 34\u001b[0m\n\u001b[0;32m     31\u001b[0m     \u001b[39mreturn\u001b[39;00m solution\n\u001b[0;32m     33\u001b[0m \u001b[39m# Plot the solution in polar coordinates\u001b[39;00m\n\u001b[1;32m---> 34\u001b[0m solution \u001b[39m=\u001b[39m four_body_problem(\u001b[39m*\u001b[39;49miv_stable_orbit_4body_tide(), \u001b[39m0.5\u001b[39;49m\u001b[39m*\u001b[39;49mTMondBahn)\n\u001b[0;32m     35\u001b[0m \u001b[39m# Set option to print whole numpy arrays\u001b[39;00m\n\u001b[0;32m     36\u001b[0m \u001b[39m# import sys\u001b[39;00m\n\u001b[0;32m     37\u001b[0m \u001b[39m# np.set_printoptions(threshold=sys.maxsize)\u001b[39;00m\n\u001b[0;32m     38\u001b[0m \u001b[39m# print(solution.y)\u001b[39;00m\n\u001b[0;32m     39\u001b[0m \n\u001b[0;32m     40\u001b[0m \u001b[39m# Plot a 3d phase space diagram\u001b[39;00m\n\u001b[0;32m     41\u001b[0m t \u001b[39m=\u001b[39m solution\u001b[39m.\u001b[39mt\n",
      "Cell \u001b[1;32mIn[12], line 30\u001b[0m, in \u001b[0;36mfour_body_problem\u001b[1;34m(mass, x, y, v_x, v_y, angles, angle_velocities, t_max, t_start)\u001b[0m\n\u001b[0;32m     25\u001b[0m \u001b[39mdef\u001b[39;00m \u001b[39mfour_body_problem\u001b[39m(mass: \u001b[39mlist\u001b[39m, x: \u001b[39mlist\u001b[39m, y: \u001b[39mlist\u001b[39m, v_x: \u001b[39mlist\u001b[39m, v_y: \u001b[39mlist\u001b[39m, angles: \u001b[39mlist\u001b[39m, angle_velocities:\u001b[39mlist\u001b[39m, t_max: \u001b[39mfloat\u001b[39m, t_start\u001b[39m=\u001b[39m\u001b[39m0\u001b[39m):\n\u001b[0;32m     26\u001b[0m     \u001b[39m# mass: contains the masses of the bodies\u001b[39;00m\n\u001b[0;32m     27\u001b[0m     \u001b[39m# angles: initial angles of the flood masses\u001b[39;00m\n\u001b[0;32m     28\u001b[0m \n\u001b[0;32m     29\u001b[0m     \u001b[39m# TODO lambdify with mass \u001b[39;00m\n\u001b[1;32m---> 30\u001b[0m     solution \u001b[39m=\u001b[39m solve_ivp(eq_motion_4body, [t_start, t_max], [x[\u001b[39m0\u001b[39;49m], v_x[\u001b[39m0\u001b[39;49m], x[\u001b[39m1\u001b[39;49m], v_x[\u001b[39m1\u001b[39;49m], y[\u001b[39m0\u001b[39;49m], v_y[\u001b[39m0\u001b[39;49m], y[\u001b[39m1\u001b[39;49m], v_y[\u001b[39m1\u001b[39;49m], angles[\u001b[39m0\u001b[39;49m], angle_velocities[\u001b[39m0\u001b[39;49m], angles[\u001b[39m1\u001b[39;49m], angle_velocities[\u001b[39m1\u001b[39;49m]], args\u001b[39m=\u001b[39;49m(mass,), dense_output\u001b[39m=\u001b[39;49m\u001b[39mTrue\u001b[39;49;00m, atol\u001b[39m=\u001b[39;49m\u001b[39m1e-4\u001b[39;49m\u001b[39m*\u001b[39;49mrMondBahn, max_step\u001b[39m=\u001b[39;49mTMondBahn\u001b[39m/\u001b[39;49m\u001b[39m1000\u001b[39;49m)\n\u001b[0;32m     31\u001b[0m     \u001b[39mreturn\u001b[39;00m solution\n",
      "File \u001b[1;32mc:\\Users\\finnb\\anaconda3\\lib\\site-packages\\scipy\\integrate\\_ivp\\ivp.py:557\u001b[0m, in \u001b[0;36msolve_ivp\u001b[1;34m(fun, t_span, y0, method, t_eval, dense_output, events, vectorized, args, **options)\u001b[0m\n\u001b[0;32m    554\u001b[0m \u001b[39mif\u001b[39;00m method \u001b[39min\u001b[39;00m METHODS:\n\u001b[0;32m    555\u001b[0m     method \u001b[39m=\u001b[39m METHODS[method]\n\u001b[1;32m--> 557\u001b[0m solver \u001b[39m=\u001b[39m method(fun, t0, y0, tf, vectorized\u001b[39m=\u001b[39mvectorized, \u001b[39m*\u001b[39m\u001b[39m*\u001b[39moptions)\n\u001b[0;32m    559\u001b[0m \u001b[39mif\u001b[39;00m t_eval \u001b[39mis\u001b[39;00m \u001b[39mNone\u001b[39;00m:\n\u001b[0;32m    560\u001b[0m     ts \u001b[39m=\u001b[39m [t0]\n",
      "File \u001b[1;32mc:\\Users\\finnb\\anaconda3\\lib\\site-packages\\scipy\\integrate\\_ivp\\rk.py:94\u001b[0m, in \u001b[0;36mRungeKutta.__init__\u001b[1;34m(self, fun, t0, y0, t_bound, max_step, rtol, atol, vectorized, first_step, **extraneous)\u001b[0m\n\u001b[0;32m     92\u001b[0m \u001b[39mself\u001b[39m\u001b[39m.\u001b[39mmax_step \u001b[39m=\u001b[39m validate_max_step(max_step)\n\u001b[0;32m     93\u001b[0m \u001b[39mself\u001b[39m\u001b[39m.\u001b[39mrtol, \u001b[39mself\u001b[39m\u001b[39m.\u001b[39matol \u001b[39m=\u001b[39m validate_tol(rtol, atol, \u001b[39mself\u001b[39m\u001b[39m.\u001b[39mn)\n\u001b[1;32m---> 94\u001b[0m \u001b[39mself\u001b[39m\u001b[39m.\u001b[39mf \u001b[39m=\u001b[39m \u001b[39mself\u001b[39;49m\u001b[39m.\u001b[39;49mfun(\u001b[39mself\u001b[39;49m\u001b[39m.\u001b[39;49mt, \u001b[39mself\u001b[39;49m\u001b[39m.\u001b[39;49my)\n\u001b[0;32m     95\u001b[0m \u001b[39mif\u001b[39;00m first_step \u001b[39mis\u001b[39;00m \u001b[39mNone\u001b[39;00m:\n\u001b[0;32m     96\u001b[0m     \u001b[39mself\u001b[39m\u001b[39m.\u001b[39mh_abs \u001b[39m=\u001b[39m select_initial_step(\n\u001b[0;32m     97\u001b[0m         \u001b[39mself\u001b[39m\u001b[39m.\u001b[39mfun, \u001b[39mself\u001b[39m\u001b[39m.\u001b[39mt, \u001b[39mself\u001b[39m\u001b[39m.\u001b[39my, \u001b[39mself\u001b[39m\u001b[39m.\u001b[39mf, \u001b[39mself\u001b[39m\u001b[39m.\u001b[39mdirection,\n\u001b[0;32m     98\u001b[0m         \u001b[39mself\u001b[39m\u001b[39m.\u001b[39merror_estimator_order, \u001b[39mself\u001b[39m\u001b[39m.\u001b[39mrtol, \u001b[39mself\u001b[39m\u001b[39m.\u001b[39matol)\n",
      "File \u001b[1;32mc:\\Users\\finnb\\anaconda3\\lib\\site-packages\\scipy\\integrate\\_ivp\\base.py:138\u001b[0m, in \u001b[0;36mOdeSolver.__init__.<locals>.fun\u001b[1;34m(t, y)\u001b[0m\n\u001b[0;32m    136\u001b[0m \u001b[39mdef\u001b[39;00m \u001b[39mfun\u001b[39m(t, y):\n\u001b[0;32m    137\u001b[0m     \u001b[39mself\u001b[39m\u001b[39m.\u001b[39mnfev \u001b[39m+\u001b[39m\u001b[39m=\u001b[39m \u001b[39m1\u001b[39m\n\u001b[1;32m--> 138\u001b[0m     \u001b[39mreturn\u001b[39;00m \u001b[39mself\u001b[39;49m\u001b[39m.\u001b[39;49mfun_single(t, y)\n",
      "File \u001b[1;32mc:\\Users\\finnb\\anaconda3\\lib\\site-packages\\scipy\\integrate\\_ivp\\base.py:20\u001b[0m, in \u001b[0;36mcheck_arguments.<locals>.fun_wrapped\u001b[1;34m(t, y)\u001b[0m\n\u001b[0;32m     19\u001b[0m \u001b[39mdef\u001b[39;00m \u001b[39mfun_wrapped\u001b[39m(t, y):\n\u001b[1;32m---> 20\u001b[0m     \u001b[39mreturn\u001b[39;00m np\u001b[39m.\u001b[39masarray(fun(t, y), dtype\u001b[39m=\u001b[39mdtype)\n",
      "File \u001b[1;32mc:\\Users\\finnb\\anaconda3\\lib\\site-packages\\scipy\\integrate\\_ivp\\ivp.py:529\u001b[0m, in \u001b[0;36msolve_ivp.<locals>.<lambda>\u001b[1;34m(t, x, fun)\u001b[0m\n\u001b[0;32m    523\u001b[0m     suggestion_tuple \u001b[39m=\u001b[39m (\n\u001b[0;32m    524\u001b[0m         \u001b[39m\"\u001b[39m\u001b[39mSupplied \u001b[39m\u001b[39m'\u001b[39m\u001b[39margs\u001b[39m\u001b[39m'\u001b[39m\u001b[39m cannot be unpacked. Please supply `args`\u001b[39m\u001b[39m\"\u001b[39m\n\u001b[0;32m    525\u001b[0m         \u001b[39mf\u001b[39m\u001b[39m\"\u001b[39m\u001b[39m as a tuple (e.g. `args=(\u001b[39m\u001b[39m{\u001b[39;00margs\u001b[39m}\u001b[39;00m\u001b[39m,)`)\u001b[39m\u001b[39m\"\u001b[39m\n\u001b[0;32m    526\u001b[0m     )\n\u001b[0;32m    527\u001b[0m     \u001b[39mraise\u001b[39;00m \u001b[39mTypeError\u001b[39;00m(suggestion_tuple) \u001b[39mfrom\u001b[39;00m \u001b[39mexp\u001b[39;00m\n\u001b[1;32m--> 529\u001b[0m fun \u001b[39m=\u001b[39m \u001b[39mlambda\u001b[39;00m t, x, fun\u001b[39m=\u001b[39mfun: fun(t, x, \u001b[39m*\u001b[39;49margs)\n\u001b[0;32m    530\u001b[0m jac \u001b[39m=\u001b[39m options\u001b[39m.\u001b[39mget(\u001b[39m'\u001b[39m\u001b[39mjac\u001b[39m\u001b[39m'\u001b[39m)\n\u001b[0;32m    531\u001b[0m \u001b[39mif\u001b[39;00m callable(jac):\n",
      "Cell \u001b[1;32mIn[10], line 42\u001b[0m, in \u001b[0;36mdiff_eqs_lambdify.<locals>.<lambda>\u001b[1;34m(t, y, mass)\u001b[0m\n\u001b[0;32m     39\u001b[0m     \u001b[39m# Convert the equations to a function with lambdify\u001b[39;00m\n\u001b[0;32m     40\u001b[0m     lambdified_diff_eqs\u001b[39m.\u001b[39mappend(sympy\u001b[39m.\u001b[39mlambdify([t, variable_order, mass_consts], f_subs, modules\u001b[39m=\u001b[39m\u001b[39m'\u001b[39m\u001b[39mnumpy\u001b[39m\u001b[39m'\u001b[39m))\n\u001b[1;32m---> 42\u001b[0m \u001b[39mreturn\u001b[39;00m \u001b[39mlambda\u001b[39;00m t, y, mass: np\u001b[39m.\u001b[39marray([f(t, y, mass) \u001b[39mfor\u001b[39;00m f \u001b[39min\u001b[39;00m lambdified_diff_eqs])\n",
      "Cell \u001b[1;32mIn[10], line 42\u001b[0m, in \u001b[0;36m<listcomp>\u001b[1;34m(.0)\u001b[0m\n\u001b[0;32m     39\u001b[0m     \u001b[39m# Convert the equations to a function with lambdify\u001b[39;00m\n\u001b[0;32m     40\u001b[0m     lambdified_diff_eqs\u001b[39m.\u001b[39mappend(sympy\u001b[39m.\u001b[39mlambdify([t, variable_order, mass_consts], f_subs, modules\u001b[39m=\u001b[39m\u001b[39m'\u001b[39m\u001b[39mnumpy\u001b[39m\u001b[39m'\u001b[39m))\n\u001b[1;32m---> 42\u001b[0m \u001b[39mreturn\u001b[39;00m \u001b[39mlambda\u001b[39;00m t, y, mass: np\u001b[39m.\u001b[39marray([f(t, y, mass) \u001b[39mfor\u001b[39;00m f \u001b[39min\u001b[39;00m lambdified_diff_eqs])\n",
      "File \u001b[1;32m<lambdifygenerated-26>:7\u001b[0m, in \u001b[0;36m_lambdifygenerated\u001b[1;34m(t, _Dummy_698, _Dummy_699)\u001b[0m\n\u001b[0;32m      2\u001b[0m     [Dummy_693, Dummy_692, Dummy_691, Dummy_690, Dummy_689, Dummy_688, Dummy_687, Dummy_686, Dummy_697, Dummy_696, Dummy_695, Dummy_694] \u001b[39m=\u001b[39m _Dummy_698\n\u001b[0;32m      3\u001b[0m     [m_E, m_M, m_1, m_2] \u001b[39m=\u001b[39m _Dummy_699\n\u001b[0;32m      4\u001b[0m     \u001b[39mreturn\u001b[39;00m (  \u001b[39m# Not supported in Python with numpy:\u001b[39;00m\n\u001b[0;32m      5\u001b[0m   \u001b[39m# Derivative\u001b[39;00m\n\u001b[0;32m      6\u001b[0m   \u001b[39m# Derivative\u001b[39;00m\n\u001b[1;32m----> 7\u001b[0m \u001b[39m1.25638005496663e-86\u001b[39m\u001b[39m*\u001b[39m(\u001b[39m5.14419991709839e+75\u001b[39m\u001b[39m*\u001b[39mDummy_687\u001b[39m*\u001b[39mm_M\u001b[39m*\u001b[39msqrt((\u001b[39m1.57047506870828e-7\u001b[39m\u001b[39m*\u001b[39mDummy_688 \u001b[39m+\u001b[39m Dummy_696\u001b[39m*\u001b[39mcos(Dummy_697))\u001b[39m*\u001b[39m\u001b[39m*\u001b[39m\u001b[39m2\u001b[39m \u001b[39m+\u001b[39m (\u001b[39m-\u001b[39m\u001b[39m1.57047506870828e-7\u001b[39m\u001b[39m*\u001b[39mDummy_692 \u001b[39m+\u001b[39m Dummy_696\u001b[39m*\u001b[39msin(Dummy_697))\u001b[39m*\u001b[39m\u001b[39m*\u001b[39m\u001b[39m2\u001b[39m)\u001b[39m*\u001b[39mcos(Dummy_697) \u001b[39m+\u001b[39m \u001b[39m3.12499999999999e+99\u001b[39m\u001b[39m*\u001b[39mDummy_688\u001b[39m*\u001b[39mDummy_696\u001b[39m*\u001b[39m\u001b[39m*\u001b[39m\u001b[39m2\u001b[39m\u001b[39m*\u001b[39m((\u001b[39m-\u001b[39m\u001b[39m1.57047506870828e-7\u001b[39m\u001b[39m*\u001b[39mDummy_687 \u001b[39m+\u001b[39m \u001b[39m1.57047506870828e-7\u001b[39m\u001b[39m*\u001b[39mDummy_689 \u001b[39m+\u001b[39m sin(Dummy_697))\u001b[39m*\u001b[39m\u001b[39m*\u001b[39m\u001b[39m2\u001b[39m \u001b[39m+\u001b[39m (\u001b[39m-\u001b[39m\u001b[39m1.57047506870828e-7\u001b[39m\u001b[39m*\u001b[39mDummy_691 \u001b[39m+\u001b[39m \u001b[39m1.57047506870828e-7\u001b[39m\u001b[39m*\u001b[39mDummy_693 \u001b[39m+\u001b[39m cos(Dummy_697))\u001b[39m*\u001b[39m\u001b[39m*\u001b[39m\u001b[39m2\u001b[39m)\u001b[39m*\u001b[39m\u001b[39m*\u001b[39m(\u001b[39m3\u001b[39m\u001b[39m/\u001b[39m\u001b[39m2\u001b[39m)\u001b[39m*\u001b[39msin(Dummy_697) \u001b[39m+\u001b[39m \u001b[39m1.98984374999999e+106\u001b[39m\u001b[39m*\u001b[39mDummy_688\u001b[39m*\u001b[39mDummy_696\u001b[39m*\u001b[39msqrt((\u001b[39m1.57047506870828e-7\u001b[39m\u001b[39m*\u001b[39mDummy_688 \u001b[39m+\u001b[39m Dummy_696\u001b[39m*\u001b[39mcos(Dummy_697))\u001b[39m*\u001b[39m\u001b[39m*\u001b[39m\u001b[39m2\u001b[39m \u001b[39m+\u001b[39m (\u001b[39m-\u001b[39m\u001b[39m1.57047506870828e-7\u001b[39m\u001b[39m*\u001b[39mDummy_692 \u001b[39m+\u001b[39m Dummy_696\u001b[39m*\u001b[39msin(Dummy_697))\u001b[39m*\u001b[39m\u001b[39m*\u001b[39m\u001b[39m2\u001b[39m)\u001b[39m*\u001b[39m((\u001b[39m-\u001b[39m\u001b[39m1.57047506870828e-7\u001b[39m\u001b[39m*\u001b[39mDummy_687 \u001b[39m+\u001b[39m \u001b[39m1.57047506870828e-7\u001b[39m\u001b[39m*\u001b[39mDummy_689 \u001b[39m+\u001b[39m sin(Dummy_697))\u001b[39m*\u001b[39m\u001b[39m*\u001b[39m\u001b[39m2\u001b[39m \u001b[39m+\u001b[39m (\u001b[39m-\u001b[39m\u001b[39m1.57047506870828e-7\u001b[39m\u001b[39m*\u001b[39mDummy_691 \u001b[39m+\u001b[39m \u001b[39m1.57047506870828e-7\u001b[39m\u001b[39m*\u001b[39mDummy_693 \u001b[39m+\u001b[39m cos(Dummy_697))\u001b[39m*\u001b[39m\u001b[39m*\u001b[39m\u001b[39m2\u001b[39m)\u001b[39m*\u001b[39m\u001b[39m*\u001b[39m(\u001b[39m3\u001b[39m\u001b[39m/\u001b[39m\u001b[39m2\u001b[39m)\u001b[39m*\u001b[39msin(Dummy_697) \u001b[39m-\u001b[39m \u001b[39m4.90773458971338e+92\u001b[39m\u001b[39m*\u001b[39mDummy_688\u001b[39m*\u001b[39m((\u001b[39m-\u001b[39m\u001b[39m1.57047506870828e-7\u001b[39m\u001b[39m*\u001b[39mDummy_687 \u001b[39m+\u001b[39m \u001b[39m1.57047506870828e-7\u001b[39m\u001b[39m*\u001b[39mDummy_689 \u001b[39m+\u001b[39m sin(Dummy_697))\u001b[39m*\u001b[39m\u001b[39m*\u001b[39m\u001b[39m2\u001b[39m \u001b[39m+\u001b[39m (\u001b[39m-\u001b[39m\u001b[39m1.57047506870828e-7\u001b[39m\u001b[39m*\u001b[39mDummy_691 \u001b[39m+\u001b[39m \u001b[39m1.57047506870828e-7\u001b[39m\u001b[39m*\u001b[39mDummy_693 \u001b[39m+\u001b[39m cos(Dummy_697))\u001b[39m*\u001b[39m\u001b[39m*\u001b[39m\u001b[39m2\u001b[39m)\u001b[39m*\u001b[39m\u001b[39m*\u001b[39m(\u001b[39m3\u001b[39m\u001b[39m/\u001b[39m\u001b[39m2\u001b[39m)\u001b[39m*\u001b[39mDerivative(Dummy_688, t) \u001b[39m-\u001b[39m \u001b[39m5.14419991709839e+75\u001b[39m\u001b[39m*\u001b[39mDummy_689\u001b[39m*\u001b[39mm_M\u001b[39m*\u001b[39msqrt((\u001b[39m1.57047506870828e-7\u001b[39m\u001b[39m*\u001b[39mDummy_688 \u001b[39m+\u001b[39m Dummy_696\u001b[39m*\u001b[39mcos(Dummy_697))\u001b[39m*\u001b[39m\u001b[39m*\u001b[39m\u001b[39m2\u001b[39m \u001b[39m+\u001b[39m (\u001b[39m-\u001b[39m\u001b[39m1.57047506870828e-7\u001b[39m\u001b[39m*\u001b[39mDummy_692 \u001b[39m+\u001b[39m Dummy_696\u001b[39m*\u001b[39msin(Dummy_697))\u001b[39m*\u001b[39m\u001b[39m*\u001b[39m\u001b[39m2\u001b[39m)\u001b[39m*\u001b[39mcos(Dummy_697) \u001b[39m-\u001b[39m \u001b[39m5.14419991709839e+75\u001b[39m\u001b[39m*\u001b[39mDummy_691\u001b[39m*\u001b[39mm_M\u001b[39m*\u001b[39msqrt((\u001b[39m1.57047506870828e-7\u001b[39m\u001b[39m*\u001b[39mDummy_688 \u001b[39m+\u001b[39m Dummy_696\u001b[39m*\u001b[39mcos(Dummy_697))\u001b[39m*\u001b[39m\u001b[39m*\u001b[39m\u001b[39m2\u001b[39m \u001b[39m+\u001b[39m (\u001b[39m-\u001b[39m\u001b[39m1.57047506870828e-7\u001b[39m\u001b[39m*\u001b[39mDummy_692 \u001b[39m+\u001b[39m Dummy_696\u001b[39m*\u001b[39msin(Dummy_697))\u001b[39m*\u001b[39m\u001b[39m*\u001b[39m\u001b[39m2\u001b[39m)\u001b[39m*\u001b[39msin(Dummy_697) \u001b[39m+\u001b[39m \u001b[39m3.12499999999999e+99\u001b[39m\u001b[39m*\u001b[39mDummy_692\u001b[39m*\u001b[39mDummy_696\u001b[39m*\u001b[39m\u001b[39m*\u001b[39m\u001b[39m2\u001b[39m\u001b[39m*\u001b[39m((\u001b[39m-\u001b[39m\u001b[39m1.57047506870828e-7\u001b[39m\u001b[39m*\u001b[39mDummy_687 \u001b[39m+\u001b[39m \u001b[39m1.57047506870828e-7\u001b[39m\u001b[39m*\u001b[39mDummy_689 \u001b[39m+\u001b[39m sin(Dummy_697))\u001b[39m*\u001b[39m\u001b[39m*\u001b[39m\u001b[39m2\u001b[39m \u001b[39m+\u001b[39m (\u001b[39m-\u001b[39m\u001b[39m1.57047506870828e-7\u001b[39m\u001b[39m*\u001b[39mDummy_691 \u001b[39m+\u001b[39m \u001b[39m1.57047506870828e-7\u001b[39m\u001b[39m*\u001b[39mDummy_693 \u001b[39m+\u001b[39m cos(Dummy_697))\u001b[39m*\u001b[39m\u001b[39m*\u001b[39m\u001b[39m2\u001b[39m)\u001b[39m*\u001b[39m\u001b[39m*\u001b[39m(\u001b[39m3\u001b[39m\u001b[39m/\u001b[39m\u001b[39m2\u001b[39m)\u001b[39m*\u001b[39mcos(Dummy_697) \u001b[39m+\u001b[39m \u001b[39m1.98984374999999e+106\u001b[39m\u001b[39m*\u001b[39mDummy_692\u001b[39m*\u001b[39mDummy_696\u001b[39m*\u001b[39msqrt((\u001b[39m1.57047506870828e-7\u001b[39m\u001b[39m*\u001b[39mDummy_688 \u001b[39m+\u001b[39m Dummy_696\u001b[39m*\u001b[39mcos(Dummy_697))\u001b[39m*\u001b[39m\u001b[39m*\u001b[39m\u001b[39m2\u001b[39m \u001b[39m+\u001b[39m (\u001b[39m-\u001b[39m\u001b[39m1.57047506870828e-7\u001b[39m\u001b[39m*\u001b[39mDummy_692 \u001b[39m+\u001b[39m Dummy_696\u001b[39m*\u001b[39msin(Dummy_697))\u001b[39m*\u001b[39m\u001b[39m*\u001b[39m\u001b[39m2\u001b[39m)\u001b[39m*\u001b[39m((\u001b[39m-\u001b[39m\u001b[39m1.57047506870828e-7\u001b[39m\u001b[39m*\u001b[39mDummy_687 \u001b[39m+\u001b[39m \u001b[39m1.57047506870828e-7\u001b[39m\u001b[39m*\u001b[39mDummy_689 \u001b[39m+\u001b[39m sin(Dummy_697))\u001b[39m*\u001b[39m\u001b[39m*\u001b[39m\u001b[39m2\u001b[39m \u001b[39m+\u001b[39m (\u001b[39m-\u001b[39m\u001b[39m1.57047506870828e-7\u001b[39m\u001b[39m*\u001b[39mDummy_691 \u001b[39m+\u001b[39m \u001b[39m1.57047506870828e-7\u001b[39m\u001b[39m*\u001b[39mDummy_693 \u001b[39m+\u001b[39m cos(Dummy_697))\u001b[39m*\u001b[39m\u001b[39m*\u001b[39m\u001b[39m2\u001b[39m)\u001b[39m*\u001b[39m\u001b[39m*\u001b[39m(\u001b[39m3\u001b[39m\u001b[39m/\u001b[39m\u001b[39m2\u001b[39m)\u001b[39m*\u001b[39mcos(Dummy_697) \u001b[39m-\u001b[39m \u001b[39m4.90773458971338e+92\u001b[39m\u001b[39m*\u001b[39mDummy_692\u001b[39m*\u001b[39m((\u001b[39m-\u001b[39m\u001b[39m1.57047506870828e-7\u001b[39m\u001b[39m*\u001b[39mDummy_687 \u001b[39m+\u001b[39m \u001b[39m1.57047506870828e-7\u001b[39m\u001b[39m*\u001b[39mDummy_689 \u001b[39m+\u001b[39m sin(Dummy_697))\u001b[39m*\u001b[39m\u001b[39m*\u001b[39m\u001b[39m2\u001b[39m \u001b[39m+\u001b[39m (\u001b[39m-\u001b[39m\u001b[39m1.57047506870828e-7\u001b[39m\u001b[39m*\u001b[39mDummy_691 \u001b[39m+\u001b[39m \u001b[39m1.57047506870828e-7\u001b[39m\u001b[39m*\u001b[39mDummy_693 \u001b[39m+\u001b[39m cos(Dummy_697))\u001b[39m*\u001b[39m\u001b[39m*\u001b[39m\u001b[39m2\u001b[39m)\u001b[39m*\u001b[39m\u001b[39m*\u001b[39m(\u001b[39m3\u001b[39m\u001b[39m/\u001b[39m\u001b[39m2\u001b[39m)\u001b[39m*\u001b[39mDerivative(Dummy_692, t) \u001b[39m+\u001b[39m \u001b[39m5.14419991709839e+75\u001b[39m\u001b[39m*\u001b[39mDummy_693\u001b[39m*\u001b[39mm_M\u001b[39m*\u001b[39msqrt((\u001b[39m1.57047506870828e-7\u001b[39m\u001b[39m*\u001b[39mDummy_688 \u001b[39m+\u001b[39m Dummy_696\u001b[39m*\u001b[39mcos(Dummy_697))\u001b[39m*\u001b[39m\u001b[39m*\u001b[39m\u001b[39m2\u001b[39m \u001b[39m+\u001b[39m (\u001b[39m-\u001b[39m\u001b[39m1.57047506870828e-7\u001b[39m\u001b[39m*\u001b[39mDummy_692 \u001b[39m+\u001b[39m Dummy_696\u001b[39m*\u001b[39msin(Dummy_697))\u001b[39m*\u001b[39m\u001b[39m*\u001b[39m\u001b[39m2\u001b[39m)\u001b[39m*\u001b[39msin(Dummy_697) \u001b[39m+\u001b[39m \u001b[39m3.125e+99\u001b[39m\u001b[39m*\u001b[39mDummy_696\u001b[39m*\u001b[39m((\u001b[39m-\u001b[39m\u001b[39m1.57047506870828e-7\u001b[39m\u001b[39m*\u001b[39mDummy_687 \u001b[39m+\u001b[39m \u001b[39m1.57047506870828e-7\u001b[39m\u001b[39m*\u001b[39mDummy_689 \u001b[39m+\u001b[39m sin(Dummy_697))\u001b[39m*\u001b[39m\u001b[39m*\u001b[39m\u001b[39m2\u001b[39m \u001b[39m+\u001b[39m (\u001b[39m-\u001b[39m\u001b[39m1.57047506870828e-7\u001b[39m\u001b[39m*\u001b[39mDummy_691 \u001b[39m+\u001b[39m \u001b[39m1.57047506870828e-7\u001b[39m\u001b[39m*\u001b[39mDummy_693 \u001b[39m+\u001b[39m cos(Dummy_697))\u001b[39m*\u001b[39m\u001b[39m*\u001b[39m\u001b[39m2\u001b[39m)\u001b[39m*\u001b[39m\u001b[39m*\u001b[39m(\u001b[39m3\u001b[39m\u001b[39m/\u001b[39m\u001b[39m2\u001b[39m)\u001b[39m*\u001b[39msin(Dummy_697)\u001b[39m*\u001b[39mDerivative(Dummy_692, t) \u001b[39m-\u001b[39m \u001b[39m3.125e+99\u001b[39m\u001b[39m*\u001b[39mDummy_696\u001b[39m*\u001b[39m((\u001b[39m-\u001b[39m\u001b[39m1.57047506870828e-7\u001b[39m\u001b[39m*\u001b[39mDummy_687 \u001b[39m+\u001b[39m \u001b[39m1.57047506870828e-7\u001b[39m\u001b[39m*\u001b[39mDummy_689 \u001b[39m+\u001b[39m sin(Dummy_697))\u001b[39m*\u001b[39m\u001b[39m*\u001b[39m\u001b[39m2\u001b[39m \u001b[39m+\u001b[39m (\u001b[39m-\u001b[39m\u001b[39m1.57047506870828e-7\u001b[39m\u001b[39m*\u001b[39mDummy_691 \u001b[39m+\u001b[39m \u001b[39m1.57047506870828e-7\u001b[39m\u001b[39m*\u001b[39mDummy_693 \u001b[39m+\u001b[39m cos(Dummy_697))\u001b[39m*\u001b[39m\u001b[39m*\u001b[39m\u001b[39m2\u001b[39m)\u001b[39m*\u001b[39m\u001b[39m*\u001b[39m(\u001b[39m3\u001b[39m\u001b[39m/\u001b[39m\u001b[39m2\u001b[39m)\u001b[39m*\u001b[39mcos(Dummy_697)\u001b[39m*\u001b[39mDerivative(Dummy_688, t))\u001b[39m/\u001b[39m(((\u001b[39m-\u001b[39m\u001b[39m1.57047506870828e-7\u001b[39m\u001b[39m*\u001b[39mDummy_687 \u001b[39m+\u001b[39m \u001b[39m1.57047506870828e-7\u001b[39m\u001b[39m*\u001b[39mDummy_689 \u001b[39m+\u001b[39m sin(Dummy_697))\u001b[39m*\u001b[39m\u001b[39m*\u001b[39m\u001b[39m2\u001b[39m \u001b[39m+\u001b[39m (\u001b[39m-\u001b[39m\u001b[39m1.57047506870828e-7\u001b[39m\u001b[39m*\u001b[39mDummy_691 \u001b[39m+\u001b[39m \u001b[39m1.57047506870828e-7\u001b[39m\u001b[39m*\u001b[39mDummy_693 \u001b[39m+\u001b[39m cos(Dummy_697))\u001b[39m*\u001b[39m\u001b[39m*\u001b[39m\u001b[39m2\u001b[39m)\u001b[39m*\u001b[39m\u001b[39m*\u001b[39m(\u001b[39m3\u001b[39m\u001b[39m/\u001b[39m\u001b[39m2\u001b[39m)\u001b[39m*\u001b[39m(\u001b[39m39261876717707.0\u001b[39m\u001b[39m*\u001b[39mDummy_688\u001b[39m*\u001b[39mcos(Dummy_697) \u001b[39m-\u001b[39m \u001b[39m39261876717707.0\u001b[39m\u001b[39m*\u001b[39mDummy_692\u001b[39m*\u001b[39msin(Dummy_697) \u001b[39m+\u001b[39m \u001b[39m2.5e+20\u001b[39m\u001b[39m*\u001b[39mDummy_696)))\n",
      "\u001b[1;31mNameError\u001b[0m: name 'Derivative' is not defined"
     ]
    }
   ],
   "source": [
    "t, U, T, q_list, p_list, mass_vars = diff_eqs_4_body_problem()\n",
    "eq_motion_4body = diff_eqs_lambdify(hamilton_eqs(t, U, T, q_list, p_list), q_list, mass_vars)\n",
    "\n",
    "# Define the initial values\n",
    "def iv_stable_orbit_4body_tide():\n",
    "    abstand_baryzentrum_erde = baryzentrum(mErde, mMond, rMondBahn)\n",
    "    vErde = 2*pi*abstand_baryzentrum_erde/TMondBahn\n",
    "    vMond = 2*pi*(rMondBahn-abstand_baryzentrum_erde)/TMondBahn\n",
    "\n",
    "    # Initial conditions for the Earth-Moon system in a stable orbit\n",
    "    mass = [mErde, mMond, mOzean/2, mOzean/2]\n",
    "    # We want the center of mass to be at the origin\n",
    "    x = [-abstand_baryzentrum_erde, rMondBahn-abstand_baryzentrum_erde]\n",
    "    y = [0, 0]\n",
    "    v_x = [0, 0]\n",
    "    v_y = [-vErde, vMond] # The moon starts in positive, the earth in negative y-direction\n",
    "    # Add the initial values for the flood masses\n",
    "    angles = [0, pi] # Masses on a line with moon and earth\n",
    "    # Starting with period of moon\n",
    "    angle_velocities = [2*pi/TMondBahn, 2*pi/TMondBahn]\n",
    "    # angle_velocities = [0, 0]\n",
    "    return mass, x, y, v_x, v_y, angles, angle_velocities\n",
    "\n",
    "# Solve using scipy.integrate.solve_ivp\n",
    "def four_body_problem(mass: list, x: list, y: list, v_x: list, v_y: list, angles: list, angle_velocities:list, t_max: float, t_start=0):\n",
    "    # mass: contains the masses of the bodies\n",
    "    # angles: initial angles of the flood masses\n",
    "\n",
    "    # TODO lambdify with mass \n",
    "    solution = solve_ivp(eq_motion_4body, [t_start, t_max], [x[0], v_x[0], x[1], v_x[1], y[0], v_y[0], y[1], v_y[1], angles[0], angle_velocities[0], angles[1], angle_velocities[1]], args=(mass,), dense_output=True, atol=1e-4*rMondBahn, max_step=TMondBahn/1000)\n",
    "    return solution\n",
    "\n",
    "# Plot the solution in polar coordinates\n",
    "solution = four_body_problem(*iv_stable_orbit_4body_tide(), 0.5*TMondBahn)\n",
    "# Set option to print whole numpy arrays\n",
    "# import sys\n",
    "# np.set_printoptions(threshold=sys.maxsize)\n",
    "# print(solution.y)\n",
    "\n",
    "# Plot a 3d phase space diagram\n",
    "t = solution.t\n",
    "x1, v_x1, x2, v_x2, y1, v_y1, y2, v_y2, phi1, omega1, phi2, omega2 = solution.y\n",
    "print(phi1)\n",
    "print(phi2)\n",
    "print(omega1)\n",
    "print(omega2)\n",
    "fig = plt.figure()\n",
    "fig.set_label(\"3D-Phasenraumdiagramm des Erde-Mond-Systems\")\n",
    "ax = fig.add_subplot(111, projection='3d')\n",
    "ax.plot(x1, y1, t, label=\"Erde\")\n",
    "# ax.plot(x2, y2, t, label=\"Mond\")\n",
    "ax.plot(x1 + RErde*np.cos(phi1), y1 + RErde*np.sin(phi1), t, label=\"Ozean 1\")\n",
    "ax.plot(x1 + RErde*np.cos(phi2), y1 + RErde*np.sin(phi2), t, label=\"Ozean 2\")\n",
    "ax.set_xlabel(\"$x$ / m\")\n",
    "ax.set_ylabel(\"$y$ / m\")\n",
    "ax.set_zlabel(\"$t$ / s\")\n",
    "ax.legend()\n",
    "plt.show()\n",
    "plt.close()\n",
    "\n",
    "# Plot just the earth and the oceans in 2d polar coordinates\n",
    "fig = plt.figure()\n",
    "fig.set_label(\"2D-Phasenraumdiagramm des Erde-Mond-Systems\")\n",
    "ax = fig.add_subplot(111)\n",
    "ax.plot(x1, y1, label=\"Erde\")\n",
    "ax.plot(x2/20, y2/20, label=\"Mond\")\n",
    "ax.plot(x1 + RErde*np.cos(phi1), y1 + RErde*np.sin(phi1), label=\"Ozean 1\")\n",
    "ax.plot(x1 + RErde*np.cos(phi2), y1 + RErde*np.sin(phi2), label=\"Ozean 2\")\n",
    "ax.set_xlabel(\"$x$ / m\")\n",
    "ax.set_ylabel(\"$y$ / m\")\n",
    "ax.legend()\n",
    "plt.show()"
   ]
  }
 ],
 "metadata": {
  "kernelspec": {
   "display_name": "Python 3",
   "language": "python",
   "name": "python3"
  },
  "language_info": {
   "codemirror_mode": {
    "name": "ipython",
    "version": 3
   },
   "file_extension": ".py",
   "mimetype": "text/x-python",
   "name": "python",
   "nbconvert_exporter": "python",
   "pygments_lexer": "ipython3",
   "version": "3.9.16"
  },
  "orig_nbformat": 4
 },
 "nbformat": 4,
 "nbformat_minor": 2
}
